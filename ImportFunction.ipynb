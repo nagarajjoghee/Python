{
 "cells": [
  {
   "cell_type": "code",
   "execution_count": 1,
   "id": "5eb174f6-2029-48c4-a536-cf782b13360e",
   "metadata": {},
   "outputs": [
    {
     "data": {
      "text/plain": [
       "12"
      ]
     },
     "execution_count": 1,
     "metadata": {},
     "output_type": "execute_result"
    }
   ],
   "source": [
    "from Arithmetic import *\n",
    "\n",
    "\n",
    "add(9,3)"
   ]
  },
  {
   "cell_type": "code",
   "execution_count": 3,
   "id": "1f2fbe2a-d379-40ce-a0c4-a327cd206ddb",
   "metadata": {},
   "outputs": [
    {
     "data": {
      "text/plain": [
       "9"
      ]
     },
     "execution_count": 3,
     "metadata": {},
     "output_type": "execute_result"
    }
   ],
   "source": [
    "sqr(3)"
   ]
  },
  {
   "cell_type": "code",
   "execution_count": 5,
   "id": "1dda22bd-db3f-4557-961b-767cc650d7d9",
   "metadata": {},
   "outputs": [
    {
     "data": {
      "text/plain": [
       "1"
      ]
     },
     "execution_count": 5,
     "metadata": {},
     "output_type": "execute_result"
    }
   ],
   "source": [
    "flooropr(9,6)"
   ]
  },
  {
   "cell_type": "code",
   "execution_count": 7,
   "id": "c7d8a460-57cd-4206-8de8-34f180355270",
   "metadata": {},
   "outputs": [
    {
     "data": {
      "text/plain": [
       "3"
      ]
     },
     "execution_count": 7,
     "metadata": {},
     "output_type": "execute_result"
    }
   ],
   "source": [
    "modopr(9,6)"
   ]
  },
  {
   "cell_type": "code",
   "execution_count": 9,
   "id": "24a3b19c-ff53-411c-96eb-dd0a437c8adc",
   "metadata": {},
   "outputs": [
    {
     "data": {
      "text/plain": [
       "3"
      ]
     },
     "execution_count": 9,
     "metadata": {},
     "output_type": "execute_result"
    }
   ],
   "source": [
    "subt(6,3)"
   ]
  },
  {
   "cell_type": "markdown",
   "id": "2dfcaebf-62af-42df-b116-5b35f6fdf102",
   "metadata": {},
   "source": [
    "def add(x, y): return x + y"
   ]
  },
  {
   "cell_type": "code",
   "execution_count": 12,
   "id": "e72edb2a-3440-4514-ac28-a7d37d9f0228",
   "metadata": {},
   "outputs": [],
   "source": [
    "def add44(x, y): return x + y"
   ]
  },
  {
   "cell_type": "code",
   "execution_count": 14,
   "id": "66f5648d-e108-45e5-890a-813cfcb69579",
   "metadata": {},
   "outputs": [
    {
     "data": {
      "text/plain": [
       "9"
      ]
     },
     "execution_count": 14,
     "metadata": {},
     "output_type": "execute_result"
    }
   ],
   "source": [
    "add(4,5)"
   ]
  },
  {
   "cell_type": "code",
   "execution_count": null,
   "id": "98359963-ef76-43e7-9867-8a96a3aa8ee6",
   "metadata": {},
   "outputs": [],
   "source": []
  }
 ],
 "metadata": {
  "kernelspec": {
   "display_name": "Python [conda env:base] *",
   "language": "python",
   "name": "conda-base-py"
  },
  "language_info": {
   "codemirror_mode": {
    "name": "ipython",
    "version": 3
   },
   "file_extension": ".py",
   "mimetype": "text/x-python",
   "name": "python",
   "nbconvert_exporter": "python",
   "pygments_lexer": "ipython3",
   "version": "3.12.7"
  }
 },
 "nbformat": 4,
 "nbformat_minor": 5
}
