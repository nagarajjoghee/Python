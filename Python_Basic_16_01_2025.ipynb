{
 "cells": [
  {
   "cell_type": "markdown",
   "id": "7abb38d4-c311-4546-b490-5fa09e14f9e9",
   "metadata": {},
   "source": [
    "<h1>Python</h1>"
   ]
  },
  {
   "cell_type": "markdown",
   "id": "2c5f4ac3-84a1-4289-ba79-73674e7f5961",
   "metadata": {},
   "source": [
    "-> popular programming Language\n",
    "\n",
    "-> Guido Van Rossum and released in 1991.\n",
    "\n",
    "-> named after British Comedy Show ->Monty Python's Flying Circus"
   ]
  },
  {
   "cell_type": "markdown",
   "id": "9b4e5ad1-5464-447b-9ab2-acfb96059bdc",
   "metadata": {},
   "source": [
    "-> High Level programming lang ->Human can understand\n",
    "\n",
    "-> Interpreted lang -> it checks the code line by line\n",
    "\n"
   ]
  },
  {
   "cell_type": "code",
   "execution_count": 9,
   "id": "6ddd82b8-3bc1-460a-8577-c12ef004c8c8",
   "metadata": {},
   "outputs": [
    {
     "name": "stdout",
     "output_type": "stream",
     "text": [
      "Good Morning!!!\n"
     ]
    }
   ],
   "source": [
    "print(\"Good Morning!!!\")\n",
    "# 01110000011100100110100110010110111000010101011010"
   ]
  },
  {
   "cell_type": "raw",
   "id": "76083ff1-5694-4e99-8b01-820f2acfeac0",
   "metadata": {},
   "source": [
    "2 Types of lang :- High Level lang\n",
    "\n",
    "                   Low level lang ->Machine lang/Binary lang(0 & 1's)"
   ]
  },
  {
   "cell_type": "code",
   "execution_count": 7,
   "id": "24db980e-ad81-421a-bc7c-478f120014c1",
   "metadata": {},
   "outputs": [
    {
     "name": "stdout",
     "output_type": "stream",
     "text": [
      "Hello Everyone\n",
      "Hello Everyone\n",
      "Hello Everyone\n",
      "Hello Everyone\n"
     ]
    },
    {
     "ename": "NameError",
     "evalue": "name 'prit' is not defined",
     "output_type": "error",
     "traceback": [
      "\u001b[1;31m---------------------------------------------------------------------------\u001b[0m",
      "\u001b[1;31mNameError\u001b[0m                                 Traceback (most recent call last)",
      "Cell \u001b[1;32mIn[7], line 5\u001b[0m\n\u001b[0;32m      3\u001b[0m \u001b[38;5;28mprint\u001b[39m(\u001b[38;5;124m\"\u001b[39m\u001b[38;5;124mHello Everyone\u001b[39m\u001b[38;5;124m\"\u001b[39m)\n\u001b[0;32m      4\u001b[0m \u001b[38;5;28mprint\u001b[39m(\u001b[38;5;124m\"\u001b[39m\u001b[38;5;124mHello Everyone\u001b[39m\u001b[38;5;124m\"\u001b[39m)\n\u001b[1;32m----> 5\u001b[0m prit(\u001b[38;5;124m\"\u001b[39m\u001b[38;5;124mHello Everyone\u001b[39m\u001b[38;5;124m\"\u001b[39m)\n\u001b[0;32m      6\u001b[0m \u001b[38;5;28mprint\u001b[39m(\u001b[38;5;124m\"\u001b[39m\u001b[38;5;124mHello Everyone\u001b[39m\u001b[38;5;124m\"\u001b[39m)\n\u001b[0;32m      7\u001b[0m \u001b[38;5;28mprint\u001b[39m(\u001b[38;5;124m\"\u001b[39m\u001b[38;5;124mHello Everyone\u001b[39m\u001b[38;5;124m\"\u001b[39m)\n",
      "\u001b[1;31mNameError\u001b[0m: name 'prit' is not defined"
     ]
    }
   ],
   "source": [
    "print(\"Hello Everyone\")\n",
    "print(\"Hello Everyone\")\n",
    "print(\"Hello Everyone\")\n",
    "print(\"Hello Everyone\")\n",
    "prit(\"Hello Everyone\")\n",
    "print(\"Hello Everyone\")\n",
    "print(\"Hello Everyone\")"
   ]
  },
  {
   "cell_type": "raw",
   "id": "2d66d65b-e265-4cbf-b39c-14e0eed09e79",
   "metadata": {},
   "source": [
    "Features of Python : - \n",
    "1. Syntax easy and easy to read\n",
    "2. Dynamically types : -   \n",
    "3. Extensive Libraries\n",
    "4. Cross - Platform(Windows, MAC, Linux etc)\n",
    "5. OOPS(Object Oriented programming lang)"
   ]
  },
  {
   "cell_type": "markdown",
   "id": "01347d2d-adc5-4e7c-b60d-b5ef2f68fa34",
   "metadata": {},
   "source": [
    "<h2>Comments</h2>"
   ]
  },
  {
   "cell_type": "code",
   "execution_count": 17,
   "id": "9ec31b38-9d24-4ad2-8a50-fc74120a95f8",
   "metadata": {},
   "outputs": [
    {
     "name": "stdout",
     "output_type": "stream",
     "text": [
      "Hello Everyone!! Hope you all are good :)\n"
     ]
    }
   ],
   "source": [
    "# This code is for greeting\n",
    "# ctrl + / - >Keyboard shortcut\n",
    "print(\"Hello Everyone!! Hope you all are good :)\")"
   ]
  },
  {
   "cell_type": "code",
   "execution_count": 19,
   "id": "63c5f029-0457-4e7d-8d8d-8c4dbcaf8dc5",
   "metadata": {},
   "outputs": [
    {
     "data": {
      "text/plain": [
       "'\\nWelcome to GDB Online.\\nGDB online is an online compiler and debugger tool for C, C++, Python, Java, PHP, Ruby, Perl,\\nC#, OCaml, VB, Swift, Pascal, Fortran, Haskell, Objective-C, Assembly, HTML, CSS, JS, SQLite, Prolog.\\nCode, Compile, Run and Debug online from anywhere in world.\\n'"
      ]
     },
     "execution_count": 19,
     "metadata": {},
     "output_type": "execute_result"
    }
   ],
   "source": [
    "# Multi lIne comment\n",
    "\"\"\"\n",
    "Welcome to GDB Online.\n",
    "GDB online is an online compiler and debugger tool for C, C++, Python, Java, PHP, Ruby, Perl,\n",
    "C#, OCaml, VB, Swift, Pascal, Fortran, Haskell, Objective-C, Assembly, HTML, CSS, JS, SQLite, Prolog.\n",
    "Code, Compile, Run and Debug online from anywhere in world.\n",
    "\"\"\""
   ]
  },
  {
   "cell_type": "markdown",
   "id": "d45653cd-9a34-4852-8784-f29db2647ac2",
   "metadata": {},
   "source": [
    "<h2>Variables</h2>\n",
    "\n",
    "-> containers for storing data values\n",
    "\n",
    "-> needs no command to declare a variable"
   ]
  },
  {
   "cell_type": "code",
   "execution_count": 5,
   "id": "ca43f2a7-ac7f-4747-87f8-afb32e0fb48f",
   "metadata": {},
   "outputs": [
    {
     "name": "stdout",
     "output_type": "stream",
     "text": [
      "abc\n",
      "23\n",
      "Manvi\n"
     ]
    }
   ],
   "source": [
    "abc = 23\n",
    "\n",
    "a = 10\n",
    "b = 20\n",
    "\n",
    "print(\"abc\")\n",
    "print(abc)\n",
    "\n",
    "var = \"Manvi\"\n",
    "print(var)"
   ]
  },
  {
   "cell_type": "raw",
   "id": "c34f6416-b1c7-4ec4-b5c9-b93ae69b05c5",
   "metadata": {},
   "source": [
    "Rules for defining a variable:-\n",
    "\n",
    "1. var name can start with a letter or _(underscore)\n",
    "2. var name canot start with a number.\n",
    "3. can contain alpha-numeric\n",
    "4. Case-sensitive\n",
    "5. cannot be python keywords"
   ]
  },
  {
   "cell_type": "code",
   "execution_count": 6,
   "id": "cdf20c43-7a16-48ac-94cc-bc2dc37da276",
   "metadata": {},
   "outputs": [
    {
     "name": "stdout",
     "output_type": "stream",
     "text": [
      "56\n"
     ]
    }
   ],
   "source": [
    "_num = 56\n",
    "print(_num)"
   ]
  },
  {
   "cell_type": "code",
   "execution_count": 7,
   "id": "b9580e40-6dfd-4d11-ab78-566d8dd55f86",
   "metadata": {},
   "outputs": [
    {
     "ename": "SyntaxError",
     "evalue": "invalid decimal literal (3059916432.py, line 1)",
     "output_type": "error",
     "traceback": [
      "\u001b[1;36m  Cell \u001b[1;32mIn[7], line 1\u001b[1;36m\u001b[0m\n\u001b[1;33m    12num = \"Manvi\"\u001b[0m\n\u001b[1;37m     ^\u001b[0m\n\u001b[1;31mSyntaxError\u001b[0m\u001b[1;31m:\u001b[0m invalid decimal literal\n"
     ]
    }
   ],
   "source": [
    "12num = \"Manvi\"\n",
    "print(12num)"
   ]
  },
  {
   "cell_type": "code",
   "execution_count": 9,
   "id": "b5bf50cb-ca1b-461c-b6ad-c553e4e5e9e2",
   "metadata": {},
   "outputs": [
    {
     "name": "stdout",
     "output_type": "stream",
     "text": [
      "23\n"
     ]
    }
   ],
   "source": [
    "num1 = 23\n",
    "print(num1)"
   ]
  },
  {
   "cell_type": "code",
   "execution_count": 13,
   "id": "4d4de042-b19b-443c-8dea-f04ceafd585d",
   "metadata": {},
   "outputs": [
    {
     "name": "stdout",
     "output_type": "stream",
     "text": [
      "Everyone\n"
     ]
    }
   ],
   "source": [
    "Num11 = \"hello\"\n",
    "NuM11 = \"Everyone\"\n",
    "num11 = 67\n",
    "print(NuM11)"
   ]
  },
  {
   "cell_type": "code",
   "execution_count": 14,
   "id": "bea479d7-8e24-4910-8834-de2995d0a255",
   "metadata": {},
   "outputs": [
    {
     "name": "stdout",
     "output_type": "stream",
     "text": [
      "['False', 'None', 'True', 'and', 'as', 'assert', 'async', 'await', 'break', 'class', 'continue', 'def', 'del', 'elif', 'else', 'except', 'finally', 'for', 'from', 'global', 'if', 'import', 'in', 'is', 'lambda', 'nonlocal', 'not', 'or', 'pass', 'raise', 'return', 'try', 'while', 'with', 'yield']\n"
     ]
    }
   ],
   "source": [
    "import keyword\n",
    "a = keyword.kwlist\n",
    "print(a)"
   ]
  },
  {
   "cell_type": "code",
   "execution_count": 15,
   "id": "00c3c78d-a617-43b8-82dd-353a573e6373",
   "metadata": {},
   "outputs": [
    {
     "ename": "SyntaxError",
     "evalue": "invalid syntax (1737437835.py, line 1)",
     "output_type": "error",
     "traceback": [
      "\u001b[1;36m  Cell \u001b[1;32mIn[15], line 1\u001b[1;36m\u001b[0m\n\u001b[1;33m    import = 56\u001b[0m\n\u001b[1;37m           ^\u001b[0m\n\u001b[1;31mSyntaxError\u001b[0m\u001b[1;31m:\u001b[0m invalid syntax\n"
     ]
    }
   ],
   "source": [
    "import = 56\n",
    "print(import)"
   ]
  },
  {
   "cell_type": "code",
   "execution_count": 18,
   "id": "35a2ddaa-1f3a-442d-9ad2-a13d1ac8e3b3",
   "metadata": {},
   "outputs": [
    {
     "ename": "SyntaxError",
     "evalue": "cannot assign to False (2017886363.py, line 1)",
     "output_type": "error",
     "traceback": [
      "\u001b[1;36m  Cell \u001b[1;32mIn[18], line 1\u001b[1;36m\u001b[0m\n\u001b[1;33m    False = \"Hello\"\u001b[0m\n\u001b[1;37m    ^\u001b[0m\n\u001b[1;31mSyntaxError\u001b[0m\u001b[1;31m:\u001b[0m cannot assign to False\n"
     ]
    }
   ],
   "source": [
    "False = \"Hello\"\n",
    "print(False)"
   ]
  },
  {
   "cell_type": "markdown",
   "id": "35f367c8-6871-4ced-9711-e7c9857b0c54",
   "metadata": {},
   "source": [
    "<h2>Python Data Types</h2>\n",
    "Numeric"
   ]
  },
  {
   "cell_type": "code",
   "execution_count": 24,
   "id": "30a66d60-67b7-4b07-9c7e-8a381298c7f4",
   "metadata": {},
   "outputs": [
    {
     "name": "stdout",
     "output_type": "stream",
     "text": [
      "24\n",
      "-56\n",
      "<class 'int'>\n",
      "<class 'int'>\n"
     ]
    }
   ],
   "source": [
    "# Integer -> positive or negative whole numbers\n",
    "\n",
    "num1 = 24\n",
    "num2 = -56\n",
    "print(num1)\n",
    "print(num2)\n",
    "print(type(num1))\n",
    "print(type(num2))"
   ]
  },
  {
   "cell_type": "code",
   "execution_count": 25,
   "id": "b514d4d2-445f-453e-bfc9-1f2171b640eb",
   "metadata": {},
   "outputs": [
    {
     "name": "stdout",
     "output_type": "stream",
     "text": [
      "78.98\n",
      "-56.01\n",
      "<class 'float'>\n",
      "<class 'float'>\n"
     ]
    }
   ],
   "source": [
    "num1 = 78.98\n",
    "num2 = -56.01\n",
    "print(num1)\n",
    "print(num2)\n",
    "print(type(num1))\n",
    "print(type(num2))"
   ]
  },
  {
   "cell_type": "code",
   "execution_count": 27,
   "id": "d3f85b8d-8bf0-4992-b10a-e50c910c148a",
   "metadata": {},
   "outputs": [
    {
     "name": "stdout",
     "output_type": "stream",
     "text": [
      "(45+67j)\n",
      "<class 'complex'>\n"
     ]
    }
   ],
   "source": [
    "#complex numbers -> (real part)+(imaginary part)j\n",
    "var = 45 + 67j\n",
    "print(var)\n",
    "print(type(var))"
   ]
  },
  {
   "cell_type": "code",
   "execution_count": 30,
   "id": "d0576818-ec1c-420d-9721-4ff56b2e18b8",
   "metadata": {},
   "outputs": [
    {
     "name": "stdout",
     "output_type": "stream",
     "text": [
      "True\n",
      "<class 'bool'>\n",
      "<class 'bool'>\n"
     ]
    }
   ],
   "source": [
    "# Boolean -> two built-in values \n",
    "abc1 = True\n",
    "print(abc1)\n",
    "print(type(abc1))\n",
    "\n",
    "print(type(False))"
   ]
  },
  {
   "cell_type": "code",
   "execution_count": 31,
   "id": "1ceb7103-a38f-4860-ba8b-4d612da95051",
   "metadata": {},
   "outputs": [
    {
     "data": {
      "text/plain": [
       "False"
      ]
     },
     "execution_count": 31,
     "metadata": {},
     "output_type": "execute_result"
    }
   ],
   "source": [
    "34 > 56"
   ]
  },
  {
   "cell_type": "markdown",
   "id": "efac1809-3e4d-4350-9c3a-1ffa8520a5dc",
   "metadata": {},
   "source": [
    "<h4>Strings</h4>"
   ]
  },
  {
   "cell_type": "code",
   "execution_count": 35,
   "id": "fcccf214-0982-4575-a637-5400e619529e",
   "metadata": {},
   "outputs": [
    {
     "name": "stdout",
     "output_type": "stream",
     "text": [
      "Hello\n",
      "56\n",
      "Good 23\n",
      "Neha@gmail.com\n",
      "<class 'str'>\n",
      "<class 'str'>\n",
      "<class 'str'>\n",
      "<class 'str'>\n"
     ]
    }
   ],
   "source": [
    "str1 = \"Hello\"\n",
    "num = '56'\n",
    "var = \"Good 23\"\n",
    "var2 = \"Neha@gmail.com\"\n",
    "print(str1)\n",
    "print(num)\n",
    "print(var)\n",
    "print(var2)\n",
    "print(type(str1))\n",
    "print(type(num))\n",
    "print(type(var))\n",
    "print(type(var2))"
   ]
  },
  {
   "cell_type": "code",
   "execution_count": 45,
   "id": "95e7d1ba-4a14-4247-a2f8-7b4c0275b86a",
   "metadata": {},
   "outputs": [
    {
     "data": {
      "text/plain": [
       "14"
      ]
     },
     "execution_count": 45,
     "metadata": {},
     "output_type": "execute_result"
    }
   ],
   "source": [
    "#string length\n",
    "a = \"hello $$  1234\"\n",
    "len(a)"
   ]
  },
  {
   "cell_type": "code",
   "execution_count": null,
   "id": "d4536a2c-2c01-405b-9915-1f2c25990d67",
   "metadata": {},
   "outputs": [],
   "source": [
    "# Indexing in string\n",
    "# Positive Indexing\n",
    "H  e  l  l   o\n",
    "0  1  2  3   4"
   ]
  },
  {
   "cell_type": "code",
   "execution_count": 48,
   "id": "cae51fe0-5c22-4f6e-9fe5-48f579e293fe",
   "metadata": {},
   "outputs": [
    {
     "name": "stdout",
     "output_type": "stream",
     "text": [
      "e\n"
     ]
    },
    {
     "data": {
      "text/plain": [
       "'o'"
      ]
     },
     "execution_count": 48,
     "metadata": {},
     "output_type": "execute_result"
    }
   ],
   "source": [
    "ab = \"Hello\"\n",
    "print(ab[1])\n",
    "ab[4]"
   ]
  },
  {
   "cell_type": "code",
   "execution_count": 117,
   "id": "be3fee9d-86b9-4c64-996d-23483c53473c",
   "metadata": {},
   "outputs": [
    {
     "data": {
      "text/plain": [
       "'ood Mo'"
      ]
     },
     "execution_count": 117,
     "metadata": {},
     "output_type": "execute_result"
    }
   ],
   "source": [
    "# range -> [start : end +1]\n",
    "a = \"Good Morning!!\"\n",
    "a[1]\n",
    "a[7]\n",
    "a[1 : 7]"
   ]
  },
  {
   "cell_type": "code",
   "execution_count": 84,
   "id": "a1173932-25a5-4175-8188-1be2964ead94",
   "metadata": {},
   "outputs": [
    {
     "data": {
      "text/plain": [
       "'1'"
      ]
     },
     "execution_count": 84,
     "metadata": {},
     "output_type": "execute_result"
    }
   ],
   "source": [
    "a = \"Good@ Morning!1@@@@\"\n",
    "# a[3:]\n",
    "# a[:7+1]\n",
    "a[14]"
   ]
  },
  {
   "cell_type": "code",
   "execution_count": null,
   "id": "616a3771-7331-43f9-9a0d-e6890648f1f8",
   "metadata": {},
   "outputs": [],
   "source": [
    "# Negative Indexing\n",
    "H   e  l  l   o\n",
    "-5 -4 -3 -2  -1"
   ]
  },
  {
   "cell_type": "code",
   "execution_count": 95,
   "id": "12baece3-3ddf-4102-a8f3-a54ba9840430",
   "metadata": {},
   "outputs": [
    {
     "data": {
      "text/plain": [
       "'hellofgbgfb'"
      ]
     },
     "execution_count": 95,
     "metadata": {},
     "output_type": "execute_result"
    }
   ],
   "source": [
    "# range -> [start : end +1]\n",
    "abc = \"hellofgbgfb\"\n",
    "abc[-4]\n",
    "abc[-3]\n",
    "abc[-10:]\n",
    "abc[ :-2]\n",
    "abc[ : ]"
   ]
  },
  {
   "cell_type": "code",
   "execution_count": 9,
   "id": "95816039-d5b2-4038-8da4-7e444d8a1140",
   "metadata": {},
   "outputs": [
    {
     "data": {
      "text/plain": [
       "'oo'"
      ]
     },
     "execution_count": 9,
     "metadata": {},
     "output_type": "execute_result"
    }
   ],
   "source": [
    "str =\"Good@ Morning!! How are you all??\"\n",
    "str[2]\n",
    "str[-3]\n",
    "str[2:-3+1]\n",
    "\n",
    "str[:4][1:3]"
   ]
  },
  {
   "cell_type": "code",
   "execution_count": 104,
   "id": "fa1e77e9-0e54-4f4e-bec2-9b3f5cac688e",
   "metadata": {},
   "outputs": [
    {
     "data": {
      "text/plain": [
       "'??lla uoy era woH !!gninroM @dooG'"
      ]
     },
     "execution_count": 104,
     "metadata": {},
     "output_type": "execute_result"
    }
   ],
   "source": [
    "str =\"Good@ Morning!! How are you all??\"\n",
    "str[::-1]"
   ]
  },
  {
   "cell_type": "code",
   "execution_count": 110,
   "id": "d5dcf00a-f295-436b-97bb-fadbf16b93d3",
   "metadata": {},
   "outputs": [
    {
     "name": "stdout",
     "output_type": "stream",
     "text": [
      "My name is Suraj and age is 45\n",
      "My name is  Suraj and age is  45\n"
     ]
    }
   ],
   "source": [
    "# string formatting\n",
    "nm1 = \"Suraj\"\n",
    "age12 = 45\n",
    "print(f\"My name is {nm1} and age is {age12}\")\n",
    "print(\"My name is \",nm1 ,\"and age is \",age12)"
   ]
  },
  {
   "cell_type": "code",
   "execution_count": 125,
   "id": "eeec740b-46a8-486f-9a23-4328e03c1e5f",
   "metadata": {},
   "outputs": [
    {
     "name": "stdout",
     "output_type": "stream",
     "text": [
      "HELLO WORLD\n",
      "hello world\n",
      "11\n",
      "he@@o WORLd\n"
     ]
    }
   ],
   "source": [
    "# String Function\n",
    "\n",
    "nm1 = \"Suraj\"\n",
    "len(nm1)\n",
    "\n",
    "a = \"hello WORLd\"\n",
    "print(a.upper())\n",
    "print(a.lower())\n",
    "print(len(a))\n",
    "\n",
    "var = a.strip()\n",
    "len(var)\n",
    "\n",
    "print(a.replace(\"l\",\"@\"))"
   ]
  },
  {
   "cell_type": "code",
   "execution_count": 124,
   "id": "0d02962f-05bf-4b6a-a676-9ea3f2f0cb3a",
   "metadata": {},
   "outputs": [
    {
     "name": "stdout",
     "output_type": "stream",
     "text": [
      "['hello', 'WORLd']\n",
      "['hello', 'WORLd']\n"
     ]
    }
   ],
   "source": [
    "a = \"hello WORLd\"\n",
    "ab = \"hello.WORLd\"\n",
    "print(a.split(\" \"))\n",
    "print(ab.split(\".\"))"
   ]
  },
  {
   "cell_type": "code",
   "execution_count": 127,
   "id": "2165560c-5d9d-4785-9879-a2a33273ecfe",
   "metadata": {},
   "outputs": [],
   "source": [
    "#capitalize , count etc...."
   ]
  },
  {
   "cell_type": "code",
   "execution_count": 4,
   "id": "53dd53e9-8f26-4e4f-a6b3-2795274f0ee1",
   "metadata": {},
   "outputs": [
    {
     "name": "stdout",
     "output_type": "stream",
     "text": [
      "4\n"
     ]
    },
    {
     "data": {
      "text/plain": [
       "'o'"
      ]
     },
     "execution_count": 4,
     "metadata": {},
     "output_type": "execute_result"
    }
   ],
   "source": [
    "# find()-> finds the index of 1st occuring element\n",
    "a = \"hello WORLod\"\n",
    "index = a.find('o')\n",
    "print(index)\n",
    "# a[4]"
   ]
  },
  {
   "cell_type": "markdown",
   "id": "66ccbfe8-5809-4442-91fa-478ef67da5f9",
   "metadata": {},
   "source": [
    "<h2>Type conversion</h2>"
   ]
  },
  {
   "cell_type": "code",
   "execution_count": 2,
   "id": "2c8ed0fe-5701-4784-bfce-4080b930609e",
   "metadata": {},
   "outputs": [
    {
     "name": "stdout",
     "output_type": "stream",
     "text": [
      "<class 'int'>\n",
      "<class 'float'>\n"
     ]
    }
   ],
   "source": [
    "num1 = 23\n",
    "num2 = 23.67\n",
    "print(type(num1))\n",
    "print(type(num2))"
   ]
  },
  {
   "cell_type": "code",
   "execution_count": 12,
   "id": "0f85820a-b7a9-4095-a09d-36289b2e8e5b",
   "metadata": {},
   "outputs": [
    {
     "name": "stdout",
     "output_type": "stream",
     "text": [
      "23\n",
      "<class 'int'>\n",
      "34.0\n",
      "<class 'float'>\n",
      "36\n",
      "<class 'int'>\n",
      "34\n",
      "<class 'str'>\n",
      "False\n",
      "True\n"
     ]
    }
   ],
   "source": [
    "x = int(num2)\n",
    "print(x)\n",
    "print(type(x))\n",
    "\n",
    "y = float(34)\n",
    "print(y)\n",
    "print(type(y))\n",
    "\n",
    "z = int(\"36\")\n",
    "print(z)\n",
    "print(type(z))\n",
    "\n",
    "a = str(34)\n",
    "print(a)\n",
    "print(type(a))\n",
    "\n",
    "print(bool(\"\"))\n",
    "print(bool(\"13\"))"
   ]
  },
  {
   "cell_type": "code",
   "execution_count": 13,
   "id": "7dfdf1c5-2189-415c-b41f-3ae705d1bfd3",
   "metadata": {},
   "outputs": [
    {
     "name": "stdout",
     "output_type": "stream",
     "text": [
      "67\n",
      "<class 'str'>\n",
      "67\n",
      "<class 'int'>\n"
     ]
    }
   ],
   "source": [
    "str = \"67\n",
    "print(str)\n",
    "print(type(str))\n",
    "z = int(str)\n",
    "print(z)\n",
    "print(type(z))"
   ]
  },
  {
   "cell_type": "code",
   "execution_count": 16,
   "id": "c4ab1758-2b79-4fec-a93b-89b42917d2f2",
   "metadata": {},
   "outputs": [
    {
     "ename": "TypeError",
     "evalue": "can only concatenate str (not \"int\") to str",
     "output_type": "error",
     "traceback": [
      "\u001b[1;31m---------------------------------------------------------------------------\u001b[0m",
      "\u001b[1;31mTypeError\u001b[0m                                 Traceback (most recent call last)",
      "Cell \u001b[1;32mIn[16], line 1\u001b[0m\n\u001b[1;32m----> 1\u001b[0m \u001b[38;5;124m\"\u001b[39m\u001b[38;5;124m67\u001b[39m\u001b[38;5;124m\"\u001b[39m \u001b[38;5;241m+\u001b[39m \u001b[38;5;241m5\u001b[39m\n",
      "\u001b[1;31mTypeError\u001b[0m: can only concatenate str (not \"int\") to str"
     ]
    }
   ],
   "source": [
    "\"67\" + 5\n"
   ]
  },
  {
   "cell_type": "code",
   "execution_count": 18,
   "id": "fc8af7e9-278f-4be1-8167-618019fc2fea",
   "metadata": {},
   "outputs": [
    {
     "name": "stdout",
     "output_type": "stream",
     "text": [
      "This is \"The book\"\n"
     ]
    }
   ],
   "source": [
    "str  = 'This is \"The book\"'\n",
    "print(str)"
   ]
  },
  {
   "cell_type": "markdown",
   "id": "5bf21c6a-2d6e-4cba-95c2-e3585f033b13",
   "metadata": {},
   "source": [
    "<h2>Operators</h2>\n",
    "symbols that perform some kind of operation between variables"
   ]
  },
  {
   "cell_type": "raw",
   "id": "3a7a661a-8642-4ac5-8ec0-3106b6bfb227",
   "metadata": {},
   "source": [
    "1. Arithmetic  -> +, - ,*,/\n",
    "                  // -> floor division\n",
    "                  % -> modulus -> gives the remainder\n",
    "                  ** -> exponential\n"
   ]
  },
  {
   "cell_type": "code",
   "execution_count": 25,
   "id": "0f88c5f1-c301-4aa9-9cd7-74a4fedc9cbc",
   "metadata": {},
   "outputs": [
    {
     "name": "stdout",
     "output_type": "stream",
     "text": [
      "15.0\n",
      "22\n"
     ]
    }
   ],
   "source": [
    "                  # // -> floor division\n",
    "print(45/3)\n",
    "print(45//2)"
   ]
  },
  {
   "cell_type": "code",
   "execution_count": 28,
   "id": "86693021-ca3a-4788-8b14-e9c86b4539c8",
   "metadata": {},
   "outputs": [
    {
     "data": {
      "text/plain": [
       "4"
      ]
     },
     "execution_count": 28,
     "metadata": {},
     "output_type": "execute_result"
    }
   ],
   "source": [
    "25%7"
   ]
  },
  {
   "cell_type": "code",
   "execution_count": 30,
   "id": "7a9350cd-d638-4781-9d2a-b959c29866b0",
   "metadata": {},
   "outputs": [
    {
     "data": {
      "text/plain": [
       "8"
      ]
     },
     "execution_count": 30,
     "metadata": {},
     "output_type": "execute_result"
    }
   ],
   "source": [
    "# 2**3 -> \n",
    "2 *2 *2"
   ]
  },
  {
   "cell_type": "code",
   "execution_count": 33,
   "id": "763a2bb3-5381-4a5d-afd8-73a50afc0563",
   "metadata": {},
   "outputs": [
    {
     "data": {
      "text/plain": [
       "10000"
      ]
     },
     "execution_count": 33,
     "metadata": {},
     "output_type": "execute_result"
    }
   ],
   "source": [
    "2**3\n",
    "10**4"
   ]
  },
  {
   "cell_type": "code",
   "execution_count": 43,
   "id": "21369a63-9ece-4cdd-a7f7-41261d89d0cc",
   "metadata": {},
   "outputs": [
    {
     "name": "stdout",
     "output_type": "stream",
     "text": [
      "True\n",
      "True\n"
     ]
    }
   ],
   "source": [
    "# Comparison -> always gives ans in boolean\n",
    "# <,>, <=, >= ,== ,!=\n",
    "print(34 > 4)\n",
    "print(\"45\" != 45)"
   ]
  },
  {
   "cell_type": "code",
   "execution_count": 39,
   "id": "a575aa2a-d7f4-43f6-afc4-120877e8114f",
   "metadata": {},
   "outputs": [
    {
     "name": "stdout",
     "output_type": "stream",
     "text": [
      "True\n"
     ]
    }
   ],
   "source": [
    "# x = 10 \n",
    "print(5 < 10 < 15)"
   ]
  },
  {
   "cell_type": "code",
   "execution_count": 46,
   "id": "ca5cba46-e336-40d1-858f-b76388233540",
   "metadata": {},
   "outputs": [
    {
     "name": "stdout",
     "output_type": "stream",
     "text": [
      "False\n",
      "True\n"
     ]
    }
   ],
   "source": [
    "# Logical ->and , or , not\n",
    "a = 10 \n",
    "b = 20\n",
    "c = 5\n",
    "print(a < b and a < c )\n",
    "print(a < b or a < c )\n"
   ]
  },
  {
   "cell_type": "code",
   "execution_count": 48,
   "id": "edd751b0-ae63-4243-bfc4-a0450b303307",
   "metadata": {},
   "outputs": [
    {
     "name": "stdout",
     "output_type": "stream",
     "text": [
      "True\n"
     ]
    }
   ],
   "source": [
    "a = False\n",
    "print(not a)"
   ]
  },
  {
   "cell_type": "code",
   "execution_count": 53,
   "id": "26840900-ddbf-4796-a15d-4925643b4fbb",
   "metadata": {},
   "outputs": [
    {
     "name": "stdout",
     "output_type": "stream",
     "text": [
      "[34, 56, 67, 45]\n",
      "False\n",
      "False\n"
     ]
    }
   ],
   "source": [
    "# Membership -> in , not in \n",
    "var = [34,56,67,45]\n",
    "print(var)\n",
    "\n",
    "print(78 in var)\n",
    "print(67 not in var)\n",
    "\n"
   ]
  },
  {
   "cell_type": "markdown",
   "id": "9b28c971-8ec1-423f-b42f-6c031cd77492",
   "metadata": {},
   "source": [
    "Q: Write a Python program which performs add,sub,division and mul of two USER input numbers and print the result.\n",
    "\n",
    "Q: Write a Python program to reverse a string.\n",
    "\n",
    "Q: Write a Python program to last 10 characters from the given sting. A = 'Python is a popular programming language. It was created by Guido van Rossum, and released in 1991.'"
   ]
  },
  {
   "cell_type": "markdown",
   "id": "affb2ced-0fc4-4e83-be2e-dfc0e84bb2f0",
   "metadata": {},
   "source": [
    "<h2>List</h2>\n",
    "to store multiple value in a single variable\n",
    "\n",
    "ordered , changeable and list allow duplicates"
   ]
  },
  {
   "cell_type": "code",
   "execution_count": 56,
   "id": "32d037dc-4a5d-419a-a18b-83d9f5546f3d",
   "metadata": {},
   "outputs": [
    {
     "name": "stdout",
     "output_type": "stream",
     "text": [
      "[45, 32, 45, 78, 32, 89, 45, 78, 45]\n",
      "<class 'list'>\n"
     ]
    }
   ],
   "source": [
    "li = [45,32,45,78,32,89,45,78,45]\n",
    "print(li)\n",
    "print(type(li))"
   ]
  },
  {
   "cell_type": "code",
   "execution_count": 69,
   "id": "55c89173-ce63-46a6-8f5e-9cf97195f118",
   "metadata": {},
   "outputs": [
    {
     "data": {
      "text/plain": [
       "[45, 32, 45, 'abc', 32, 89, 45, 78, 45]"
      ]
     },
     "execution_count": 69,
     "metadata": {},
     "output_type": "execute_result"
    }
   ],
   "source": [
    "li = [45,32,45,78,32,89,45,78,45]\n",
    "li[3] = \"abc\"\n",
    "li"
   ]
  },
  {
   "cell_type": "code",
   "execution_count": 59,
   "id": "429dcf3d-1f7e-4caf-98a1-fbef173d7327",
   "metadata": {},
   "outputs": [
    {
     "name": "stdout",
     "output_type": "stream",
     "text": [
      "['apple', 'banana', 'mango', 45.67, 12.45, 78, 'apple', 32, 10, False, 2, 3, 4, 'apple']\n",
      "<class 'list'>\n"
     ]
    }
   ],
   "source": [
    "li = ['apple', 'banana','mango',45.67,12.45,78,'apple',32,10,False,2,3,4,'apple']\n",
    "print(li)\n",
    "print(type(li))"
   ]
  },
  {
   "cell_type": "code",
   "execution_count": 65,
   "id": "e25128af-bf74-4d0a-9387-338b703f948e",
   "metadata": {},
   "outputs": [
    {
     "data": {
      "text/plain": [
       "[4, 3, 2, 1, 'mango', 'banana', 'apple']"
      ]
     },
     "execution_count": 65,
     "metadata": {},
     "output_type": "execute_result"
    }
   ],
   "source": [
    "li = ['apple', 'banana','mango',1,2,3,4]\n",
    "li[1]\n",
    "li[-2]\n",
    "li[1:-3+1]\n",
    "li[::-1]"
   ]
  },
  {
   "cell_type": "code",
   "execution_count": 61,
   "id": "b9ade7c6-7497-49dd-9cdc-1d1dba37b664",
   "metadata": {},
   "outputs": [
    {
     "data": {
      "text/plain": [
       "'o'"
      ]
     },
     "execution_count": 61,
     "metadata": {},
     "output_type": "execute_result"
    }
   ],
   "source": [
    "str = \"Hello\"\n",
    "str[-1]"
   ]
  },
  {
   "cell_type": "code",
   "execution_count": 71,
   "id": "d6bff990-1730-421f-9432-988b1bee827c",
   "metadata": {},
   "outputs": [
    {
     "data": {
      "text/plain": [
       "['apple', 'banana', 'orange', 'mango', 'cherry', 'watermelon']"
      ]
     },
     "execution_count": 71,
     "metadata": {},
     "output_type": "execute_result"
    }
   ],
   "source": [
    "li = ['apple', 'banana','mango','cherry','watermelon']\n",
    "li.insert(2,'orange')#at a specified index\n",
    "li"
   ]
  },
  {
   "cell_type": "code",
   "execution_count": 72,
   "id": "969ee42c-d021-4b98-881c-fbcd670fbf7e",
   "metadata": {},
   "outputs": [
    {
     "data": {
      "text/plain": [
       "['apple', 'banana', 'mango', 'cherry', 'watermelon', 'strawberry']"
      ]
     },
     "execution_count": 72,
     "metadata": {},
     "output_type": "execute_result"
    }
   ],
   "source": [
    "li = ['apple', 'banana','mango','cherry','watermelon']\n",
    "li.append(\"strawberry\")#add the element at the end\n",
    "li"
   ]
  },
  {
   "cell_type": "code",
   "execution_count": 73,
   "id": "fc89b0bb-c9ca-496a-ab6a-25179a056dc8",
   "metadata": {},
   "outputs": [
    {
     "data": {
      "text/plain": [
       "['apple', 'banana', 'mango', 'cherry', 'watermelon', 'strawberry']"
      ]
     },
     "execution_count": 73,
     "metadata": {},
     "output_type": "execute_result"
    }
   ],
   "source": [
    "#Extend\n",
    "li1 = ['apple', 'banana','mango','cherry']\n",
    "li2 = ['watermelon', 'strawberry']\n",
    "li1.extend(li2)\n",
    "li1"
   ]
  },
  {
   "cell_type": "code",
   "execution_count": 74,
   "id": "9e8881d8-5b51-4769-8fa0-79ef93a2ab0f",
   "metadata": {},
   "outputs": [
    {
     "data": {
      "text/plain": [
       "['apple', 'banana', 'mango', 'cherry', ['watermelon', 'strawberry']]"
      ]
     },
     "execution_count": 74,
     "metadata": {},
     "output_type": "execute_result"
    }
   ],
   "source": [
    "li1 = ['apple', 'banana','mango','cherry']\n",
    "li2 = ['watermelon', 'strawberry']\n",
    "li1.append(li2)\n",
    "li1"
   ]
  },
  {
   "cell_type": "code",
   "execution_count": 75,
   "id": "db6e1d61-bf78-4cef-ae3a-9fb50f424241",
   "metadata": {},
   "outputs": [
    {
     "data": {
      "text/plain": [
       "['apple', 'banana', 'mango', 'cherry', 'strawberry']"
      ]
     },
     "execution_count": 75,
     "metadata": {},
     "output_type": "execute_result"
    }
   ],
   "source": [
    "li= ['apple', 'banana', 'mango', 'cherry', 'watermelon', 'strawberry']\n",
    "li.remove(\"watermelon\")\n",
    "li"
   ]
  },
  {
   "cell_type": "code",
   "execution_count": 76,
   "id": "4faeca15-7cea-422e-b3ef-679a154b9ccf",
   "metadata": {},
   "outputs": [
    {
     "data": {
      "text/plain": [
       "['apple', 'mango', 'cherry', 'watermelon', 'strawberry']"
      ]
     },
     "execution_count": 76,
     "metadata": {},
     "output_type": "execute_result"
    }
   ],
   "source": [
    "li= ['apple', 'banana', 'mango', 'cherry', 'watermelon', 'strawberry']\n",
    "li.pop(1)\n",
    "li"
   ]
  },
  {
   "cell_type": "code",
   "execution_count": 77,
   "id": "cddd8aec-5cc7-496f-a0d5-43dcbe037ce7",
   "metadata": {},
   "outputs": [
    {
     "data": {
      "text/plain": [
       "['apple', 'banana', 'mango', 'cherry', 'watermelon']"
      ]
     },
     "execution_count": 77,
     "metadata": {},
     "output_type": "execute_result"
    }
   ],
   "source": [
    "li= ['apple', 'banana', 'mango', 'cherry', 'watermelon', 'strawberry']\n",
    "li.pop()#by dfault it removes the element at the end\n",
    "li"
   ]
  },
  {
   "cell_type": "code",
   "execution_count": 78,
   "id": "4912e92a-16d9-4800-9cb3-dc0fbc9efcc2",
   "metadata": {},
   "outputs": [
    {
     "data": {
      "text/plain": [
       "['apple', 'banana', 'cherry', 'mango', 'strawberry', 'watermelon']"
      ]
     },
     "execution_count": 78,
     "metadata": {},
     "output_type": "execute_result"
    }
   ],
   "source": [
    "li= ['apple', 'banana', 'mango', 'cherry', 'watermelon', 'strawberry']\n",
    "li.sort()\n",
    "li"
   ]
  },
  {
   "cell_type": "code",
   "execution_count": 81,
   "id": "0a65a760-a9e5-46e8-8259-d407d665a40d",
   "metadata": {},
   "outputs": [
    {
     "data": {
      "text/plain": [
       "[32, 32, 45, 45, 45, 45, 45, 78, 78, 89]"
      ]
     },
     "execution_count": 81,
     "metadata": {},
     "output_type": "execute_result"
    }
   ],
   "source": [
    "li = [45,32,45,78,32,89,45,78,45,45]\n",
    "li.sort()\n",
    "li"
   ]
  },
  {
   "cell_type": "code",
   "execution_count": 84,
   "id": "6bc494fb-03bc-4136-8d92-4c922042a9dc",
   "metadata": {},
   "outputs": [
    {
     "data": {
      "text/plain": [
       "[89, 78, 78, 45, 45, 45, 45, 45, 32, 32]"
      ]
     },
     "execution_count": 84,
     "metadata": {},
     "output_type": "execute_result"
    }
   ],
   "source": [
    "li = [45,32,45,78,32,89,45,78,45,45]\n",
    "li.sort(reverse = True)\n",
    "li"
   ]
  },
  {
   "cell_type": "code",
   "execution_count": null,
   "id": "038f0025-6a7a-4b75-9247-31993e564de0",
   "metadata": {},
   "outputs": [],
   "source": [
    "#HW -> function"
   ]
  },
  {
   "cell_type": "code",
   "execution_count": 95,
   "id": "2872301d-1f74-4c9e-b6be-a8878cc5a1a3",
   "metadata": {},
   "outputs": [
    {
     "data": {
      "text/plain": [
       "'cherry'"
      ]
     },
     "execution_count": 95,
     "metadata": {},
     "output_type": "execute_result"
    }
   ],
   "source": [
    "li= [12,3,4,5,6,[87,90,89,['apple', 'banana', 'cherry'],67,34,12]]\n",
    "li[-1][3][-1]"
   ]
  },
  {
   "cell_type": "raw",
   "id": "61c55742-1204-4cec-b7d1-a3f4b35854b9",
   "metadata": {},
   "source": [
    "Write a Python program to create a list and print its elements.\n",
    "Write a Python program to add an element to the end of a list.\n",
    "Write a Python program to insert an element at a specific position in a list.\n",
    "Write a Python program to remove an element from a list.\n",
    "Write a Python program to find the index of an element in a list.\n",
    "Write a Python program to sort a list in ascending order.\n",
    "Write a Python program to sort a list in descending order.\n",
    "Write a Python program to reverse the elements of a list.\n",
    "Write a Python program to find the maximum and minimum elements in a list.\n",
    "Write a Python program to remove duplicates from a list."
   ]
  },
  {
   "cell_type": "markdown",
   "id": "90f65987-636d-4719-b6c8-057e9619073c",
   "metadata": {},
   "source": [
    "<h2>Tuple</h2>\n",
    "ordered , unchangeable , allow duplicates"
   ]
  },
  {
   "cell_type": "code",
   "execution_count": 124,
   "id": "9513543a-3512-40e1-95cb-cf4b56c6be60",
   "metadata": {},
   "outputs": [
    {
     "name": "stdout",
     "output_type": "stream",
     "text": [
      "(23, 4, 56, 7, 8)\n",
      "<class 'tuple'>\n"
     ]
    }
   ],
   "source": [
    "tup12 = (23,4,56,7,8)\n",
    "print(tup12)\n",
    "print(type(tup12))"
   ]
  },
  {
   "cell_type": "code",
   "execution_count": 97,
   "id": "1c54649c-563b-4066-b8d8-591dedc234c9",
   "metadata": {},
   "outputs": [
    {
     "name": "stdout",
     "output_type": "stream",
     "text": [
      "(23, 4, 56, 7, 8, 'apple', 'mango', False)\n"
     ]
    }
   ],
   "source": [
    "tup = (23,4,56,7,8,'apple','mango',False)\n",
    "print(tup)"
   ]
  },
  {
   "cell_type": "code",
   "execution_count": 102,
   "id": "a43ca192-82e0-414a-8ea4-f69eb48e5112",
   "metadata": {},
   "outputs": [
    {
     "data": {
      "text/plain": [
       "(False, 'mango', 'apple', 8, 7, 56, 4, 23)"
      ]
     },
     "execution_count": 102,
     "metadata": {},
     "output_type": "execute_result"
    }
   ],
   "source": [
    "tup = (23,4,56,7,8,'apple','mango',False)\n",
    "tup[-2]\n",
    "tup[1:-3+1]\n",
    "tup[::-1]"
   ]
  },
  {
   "cell_type": "code",
   "execution_count": 103,
   "id": "9988b298-5c24-4740-993a-1234f4f3f0b8",
   "metadata": {},
   "outputs": [
    {
     "name": "stdout",
     "output_type": "stream",
     "text": [
      "(23, 4, 56, 7, 8, 'apple', 'mango', False, 'apple', 'mango', 23, 4, False)\n",
      "<class 'tuple'>\n"
     ]
    }
   ],
   "source": [
    "tup = (23,4,56,7,8,'apple','mango',False,'apple','mango',23,4,False)\n",
    "print(tup)\n",
    "print(type(tup))"
   ]
  },
  {
   "cell_type": "code",
   "execution_count": 105,
   "id": "132f05c7-602a-424c-ac70-91675f864b3f",
   "metadata": {},
   "outputs": [
    {
     "ename": "TypeError",
     "evalue": "'tuple' object does not support item assignment",
     "output_type": "error",
     "traceback": [
      "\u001b[1;31m---------------------------------------------------------------------------\u001b[0m",
      "\u001b[1;31mTypeError\u001b[0m                                 Traceback (most recent call last)",
      "Cell \u001b[1;32mIn[105], line 2\u001b[0m\n\u001b[0;32m      1\u001b[0m tup \u001b[38;5;241m=\u001b[39m (\u001b[38;5;241m23\u001b[39m,\u001b[38;5;241m4\u001b[39m,\u001b[38;5;241m56\u001b[39m,\u001b[38;5;241m7\u001b[39m,\u001b[38;5;241m8\u001b[39m,\u001b[38;5;124m'\u001b[39m\u001b[38;5;124mapple\u001b[39m\u001b[38;5;124m'\u001b[39m,\u001b[38;5;124m'\u001b[39m\u001b[38;5;124mmango\u001b[39m\u001b[38;5;124m'\u001b[39m,\u001b[38;5;28;01mFalse\u001b[39;00m)\n\u001b[1;32m----> 2\u001b[0m tup[\u001b[38;5;241m-\u001b[39m\u001b[38;5;241m1\u001b[39m] \u001b[38;5;241m=\u001b[39m \u001b[38;5;124m\"\u001b[39m\u001b[38;5;124mhello\u001b[39m\u001b[38;5;124m\"\u001b[39m\n\u001b[0;32m      3\u001b[0m tup\n",
      "\u001b[1;31mTypeError\u001b[0m: 'tuple' object does not support item assignment"
     ]
    }
   ],
   "source": [
    "tup = (23,4,56,7,8,'apple','mango',False)\n",
    "tup[-1] = \"hello\"\n",
    "tup"
   ]
  },
  {
   "cell_type": "code",
   "execution_count": 109,
   "id": "e824928e-1537-4b9d-ae81-a81d47342508",
   "metadata": {},
   "outputs": [
    {
     "name": "stdout",
     "output_type": "stream",
     "text": [
      "[23, 4, 56, 7, 8]\n",
      "<class 'list'>\n",
      "(23, 4, 'changed', 7, 8)\n",
      "<class 'tuple'>\n"
     ]
    }
   ],
   "source": [
    "tup = (23,4,56,7,8)\n",
    "li = list(tup)\n",
    "print(li)\n",
    "print(type(li))\n",
    "\n",
    "li[2] = \"changed\"\n",
    "\n",
    "new_tup = tuple(li)\n",
    "print(new_tup)\n",
    "print(type(new_tup))"
   ]
  },
  {
   "cell_type": "code",
   "execution_count": 110,
   "id": "e212745a-4a88-4b27-b285-2f38c9817525",
   "metadata": {},
   "outputs": [
    {
     "name": "stdout",
     "output_type": "stream",
     "text": [
      "4\n"
     ]
    }
   ],
   "source": [
    "tup = (23,4,56,7,8,'apple','mango',False)\n",
    "i = tup.index(8)\n",
    "print(i)"
   ]
  },
  {
   "cell_type": "code",
   "execution_count": null,
   "id": "ebb1c5fa-8a58-4cbc-aa61-56480b291bf6",
   "metadata": {},
   "outputs": [],
   "source": [
    "#Count etc"
   ]
  },
  {
   "cell_type": "code",
   "execution_count": 112,
   "id": "41b2e6de-6836-487c-9fe9-b42be3cba565",
   "metadata": {},
   "outputs": [
    {
     "data": {
      "text/plain": [
       "'apple'"
      ]
     },
     "execution_count": 112,
     "metadata": {},
     "output_type": "execute_result"
    }
   ],
   "source": [
    "tup = (23,4,56,7,8,('apple','mango','cherry'),False)\n",
    "tup[5][0]"
   ]
  },
  {
   "cell_type": "code",
   "execution_count": null,
   "id": "8186fc88-8eb7-42b6-9c96-02f8d22f1bae",
   "metadata": {},
   "outputs": [],
   "source": []
  }
 ],
 "metadata": {
  "kernelspec": {
   "display_name": "Python [conda env:base] *",
   "language": "python",
   "name": "conda-base-py"
  },
  "language_info": {
   "codemirror_mode": {
    "name": "ipython",
    "version": 3
   },
   "file_extension": ".py",
   "mimetype": "text/x-python",
   "name": "python",
   "nbconvert_exporter": "python",
   "pygments_lexer": "ipython3",
   "version": "3.12.7"
  }
 },
 "nbformat": 4,
 "nbformat_minor": 5
}
