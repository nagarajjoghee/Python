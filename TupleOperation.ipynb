{
 "cells": [
  {
   "cell_type": "raw",
   "id": "e2695938-9894-4394-a279-347bbaba6aba",
   "metadata": {},
   "source": [
    "Tuple\n",
    "ordered , unchangeable , allow duplicates"
   ]
  },
  {
   "cell_type": "code",
   "execution_count": 5,
   "id": "7163d9be-886b-4b3c-a84f-585852eaedfc",
   "metadata": {},
   "outputs": [
    {
     "name": "stdout",
     "output_type": "stream",
     "text": [
      "(23, 4, 56, 7, 8, 'apple', 'mango', False)\n"
     ]
    }
   ],
   "source": [
    "tup = (23,4,56,7,8,'apple','mango',False)\n",
    "print(tup)"
   ]
  },
  {
   "cell_type": "code",
   "execution_count": 9,
   "id": "7aa1e046-d484-4f90-9f54-34877699fcf7",
   "metadata": {},
   "outputs": [
    {
     "name": "stdout",
     "output_type": "stream",
     "text": [
      "mango\n",
      "(4, 56, 7, 8, 'apple')\n",
      "(False, 'mango', 'apple', 8, 7, 56, 4, 23)\n"
     ]
    }
   ],
   "source": [
    "tup = (23,4,56,7,8,'apple','mango',False)\n",
    "print(tup[-2])\n",
    "print(tup[1:-3+1])\n",
    "print(tup[::-1])\n"
   ]
  },
  {
   "cell_type": "code",
   "execution_count": 11,
   "id": "9f64be01-5fc5-40b9-8132-af604493921e",
   "metadata": {},
   "outputs": [
    {
     "name": "stdout",
     "output_type": "stream",
     "text": [
      "(23, 4, 56, 7, 8, 'apple', 'mango', False, 'apple', 'mango', 23, 4, False)\n",
      "<class 'tuple'>\n"
     ]
    }
   ],
   "source": [
    "# Allow Duplicates\n",
    "tup = (23,4,56,7,8,'apple','mango',False,'apple','mango',23,4,False)\n",
    "print(tup)\n",
    "print(type(tup))"
   ]
  },
  {
   "cell_type": "code",
   "execution_count": 13,
   "id": "2fda3e6c-927e-4637-881e-9ef9642bbb72",
   "metadata": {},
   "outputs": [
    {
     "name": "stdout",
     "output_type": "stream",
     "text": [
      "[23, 4, 56, 7, 8]\n",
      "<class 'list'>\n",
      "(23, 4, 'changed', 7, 8)\n",
      "<class 'tuple'>\n"
     ]
    }
   ],
   "source": [
    "# we cant not update tuple but we can convert the tuple to list and do changes and revert back to tuple\n",
    "tup = (23,4,56,7,8)\n",
    "li = list(tup)\n",
    "print(li)\n",
    "print(type(li))\n",
    "\n",
    "li[2] = \"changed\"\n",
    "\n",
    "new_tup = tuple(li)\n",
    "print(new_tup)\n",
    "print(type(new_tup))"
   ]
  },
  {
   "cell_type": "code",
   "execution_count": 35,
   "id": "f6c24dfd-aa0a-4c77-bc3c-18d4c9b344ee",
   "metadata": {},
   "outputs": [
    {
     "name": "stdout",
     "output_type": "stream",
     "text": [
      "('apple', 'mango', 'cherry')\n",
      "mango\n"
     ]
    }
   ],
   "source": [
    "# Nested Tuple\n",
    "tup = (23,4,56,7,8,('apple','mango','cherry'),False)\n",
    "print(tup[5][:])\n",
    "print(tup[5][1])"
   ]
  },
  {
   "cell_type": "code",
   "execution_count": null,
   "id": "7a7c532b-647e-441d-b185-8dc661f66bda",
   "metadata": {},
   "outputs": [],
   "source": [
    "#Write a Python program to find the length of a tuple.\n",
    "#Write a Python program to concatenate two tuples.\n",
    "#Write a Python program to check if an element exists in a tuple.\n",
    "#Write a Python program to iterate through a tuple and print each element.\n",
    "#Write a Python program to find the index of an element in a tuple.\n",
    "#Write a Python program to convert a tuple to a list.\n",
    "#Write a Python program to find the maximum and minimum elements in a tuple."
   ]
  },
  {
   "cell_type": "code",
   "execution_count": 37,
   "id": "dd558efd-d4ff-4dad-b45b-0c2ca1032a8a",
   "metadata": {},
   "outputs": [
    {
     "data": {
      "text/plain": [
       "4"
      ]
     },
     "execution_count": 37,
     "metadata": {},
     "output_type": "execute_result"
    }
   ],
   "source": [
    "#Write a Python program to find the length of a tuple.\n",
    "t1 =(10,20,30,40)\n",
    "len(t1)"
   ]
  },
  {
   "cell_type": "code",
   "execution_count": 49,
   "id": "68022c44-cdb2-4108-befb-cd82c906a0d2",
   "metadata": {},
   "outputs": [
    {
     "data": {
      "text/plain": [
       "(1, 2, 3, 4, 5, 6, 7, 8)"
      ]
     },
     "execution_count": 49,
     "metadata": {},
     "output_type": "execute_result"
    }
   ],
   "source": [
    "#Write a Python program to concatenate two tuples.\n",
    "t1=(1,2,3,4)\n",
    "t2=(5,6,7,8)\n",
    "t3=t1+t2\n",
    "t3"
   ]
  },
  {
   "cell_type": "code",
   "execution_count": 77,
   "id": "dbc4739c-cd61-42d2-896b-31cba099b00b",
   "metadata": {},
   "outputs": [
    {
     "name": "stdout",
     "output_type": "stream",
     "text": [
      "Element Exist\n"
     ]
    }
   ],
   "source": [
    "#Write a Python program to check if an element exists in a tuple.\n",
    "t1 =(10,20,30,40)\n",
    "\n",
    "if 30 in t1:\n",
    "    print(\"Element Exist\")\n",
    "\n",
    "    \n",
    "\n",
    "\n"
   ]
  },
  {
   "cell_type": "code",
   "execution_count": 1,
   "id": "ce3e7913-48d1-4a2d-a447-8e115a94d13e",
   "metadata": {},
   "outputs": [
    {
     "name": "stdout",
     "output_type": "stream",
     "text": [
      "40\n",
      "50\n",
      "60\n",
      "70\n",
      "nagu\n",
      "sanav\n"
     ]
    }
   ],
   "source": [
    "#Write a Python program to iterate through a tuple and print each element.\n",
    "\n",
    "t2= (40,50,60,70,'nagu','sanav')\n",
    "\n",
    "for i in t2:\n",
    "\n",
    "    print(i)\n",
    "    \n",
    "   \n",
    "    \n",
    "    \n"
   ]
  },
  {
   "cell_type": "code",
   "execution_count": 99,
   "id": "6af00acf-fa8c-4b9c-9af5-c361fb689133",
   "metadata": {},
   "outputs": [
    {
     "data": {
      "text/plain": [
       "6"
      ]
     },
     "execution_count": 99,
     "metadata": {},
     "output_type": "execute_result"
    }
   ],
   "source": [
    "t2= (40,50,60,70,'nagu','sanav')\n",
    "len(t2)"
   ]
  },
  {
   "cell_type": "code",
   "execution_count": 105,
   "id": "e917199e-c5ff-4bbf-a8ad-ea50b99f2040",
   "metadata": {},
   "outputs": [
    {
     "data": {
      "text/plain": [
       "3"
      ]
     },
     "execution_count": 105,
     "metadata": {},
     "output_type": "execute_result"
    }
   ],
   "source": [
    "#Write a Python program to find the index of an element in a tuple.\n",
    "t2= (40,50,60,70,'nagu','sanav')\n",
    "\n",
    "t2.index(70)\n",
    "\n"
   ]
  },
  {
   "cell_type": "code",
   "execution_count": 109,
   "id": "bc1592fa-5a37-4095-987b-97094cae66cf",
   "metadata": {},
   "outputs": [
    {
     "data": {
      "text/plain": [
       "[40, 50, 60, 70, 'nagu', 'sanav']"
      ]
     },
     "execution_count": 109,
     "metadata": {},
     "output_type": "execute_result"
    }
   ],
   "source": [
    "#Write a Python program to convert a tuple to a list.\n",
    "t4 = (40,50,60,70,'nagu','sanav')\n",
    "\n",
    "t5 = list(t4)\n",
    "t5"
   ]
  },
  {
   "cell_type": "code",
   "execution_count": 121,
   "id": "47935161-7ee6-4cde-986f-007802b2c9bc",
   "metadata": {},
   "outputs": [
    {
     "name": "stdout",
     "output_type": "stream",
     "text": [
      "70\n",
      "40\n"
     ]
    }
   ],
   "source": [
    "#Write a Python program to find the maximum and minimum elements in a tuple.\n",
    "t4 = (40,50,60,70)\n",
    "\n",
    "print(max(t4))\n",
    "print(min(t4))"
   ]
  },
  {
   "cell_type": "code",
   "execution_count": 125,
   "id": "3cf02246-157c-4c06-98c6-2bc4ca15d2d2",
   "metadata": {},
   "outputs": [
    {
     "name": "stdout",
     "output_type": "stream",
     "text": [
      "(45, 12, 78, 5, 'aa', 'bb', 'aa', 32, 45, 98, 98, 67.67, 64.34, True)\n"
     ]
    }
   ],
   "source": [
    "s1 = (45,12,78,5,'aa','bb','aa',32,45,98,98,67.67,64.34,True)\n",
    "print(s1)"
   ]
  },
  {
   "cell_type": "code",
   "execution_count": 5,
   "id": "d419472a-406f-4a45-a0d9-f3b4f75bbe37",
   "metadata": {},
   "outputs": [
    {
     "ename": "TypeError",
     "evalue": "'tuple' object does not support item assignment",
     "output_type": "error",
     "traceback": [
      "\u001b[1;31m---------------------------------------------------------------------------\u001b[0m",
      "\u001b[1;31mTypeError\u001b[0m                                 Traceback (most recent call last)",
      "Cell \u001b[1;32mIn[5], line 2\u001b[0m\n\u001b[0;32m      1\u001b[0m t5 \u001b[38;5;241m=\u001b[39m (\u001b[38;5;241m66\u001b[39m,\u001b[38;5;241m88\u001b[39m,\u001b[38;5;241m99\u001b[39m,\u001b[38;5;241m44\u001b[39m,\u001b[38;5;241m33\u001b[39m)\n\u001b[1;32m----> 2\u001b[0m t5[\u001b[38;5;241m3\u001b[39m]\u001b[38;5;241m=\u001b[39m\u001b[38;5;124m'\u001b[39m\u001b[38;5;124mnagu\u001b[39m\u001b[38;5;124m'\u001b[39m\n",
      "\u001b[1;31mTypeError\u001b[0m: 'tuple' object does not support item assignment"
     ]
    }
   ],
   "source": [
    "t5 = (66,88,99,44,33)\n",
    "t5[3]='nagu'"
   ]
  },
  {
   "cell_type": "code",
   "execution_count": null,
   "id": "1a8108af-cd65-49c4-a3f0-a24130921600",
   "metadata": {},
   "outputs": [],
   "source": []
  }
 ],
 "metadata": {
  "kernelspec": {
   "display_name": "Python [conda env:base] *",
   "language": "python",
   "name": "conda-base-py"
  },
  "language_info": {
   "codemirror_mode": {
    "name": "ipython",
    "version": 3
   },
   "file_extension": ".py",
   "mimetype": "text/x-python",
   "name": "python",
   "nbconvert_exporter": "python",
   "pygments_lexer": "ipython3",
   "version": "3.12.7"
  }
 },
 "nbformat": 4,
 "nbformat_minor": 5
}
