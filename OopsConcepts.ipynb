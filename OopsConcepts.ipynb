{
 "cells": [
  {
   "cell_type": "code",
   "execution_count": null,
   "metadata": {
    "id": "ftE3aBks9NCZ"
   },
   "outputs": [],
   "source": [
    "emp1_name='abc'\n",
    "emp1_id=24\n",
    "emp1_mail='sdhbd'\n",
    "emp2_name='xyz'\n",
    "emp2_id=27\n",
    "emp2_mail='sdhbdfhdb'\n",
    "emp3_name='pqr'\n",
    "emp3_id=28\n",
    "emp3_mail='sdhbdhu'\n",
    "emp4_name='wxy'\n",
    "emp4_id=20\n",
    "emp4_mail='sdhbd8239'\n",
    "\n"
   ]
  },
  {
   "cell_type": "code",
   "execution_count": 11,
   "metadata": {
    "colab": {
     "base_uri": "https://localhost:8080/"
    },
    "id": "1kYtPmPf_jDS",
    "outputId": "3b7cb2df-aa09-4cc4-a6ec-6d60eb355ef3"
   },
   "outputs": [
    {
     "name": "stdout",
     "output_type": "stream",
     "text": [
      "new fun\n",
      "new fun 1\n",
      "class used dsii\n",
      "900\n",
      "abc\n",
      "56\n"
     ]
    }
   ],
   "source": [
    "class Details:\n",
    "  name='abc'\n",
    "  id=56\n",
    "  mail='dsii'\n",
    "\n",
    "  def display(self):   #self is a temp object which is used to acces variables indside the class\n",
    "    print(self.name,self.id)\n",
    "\n",
    "  def display(self):\n",
    "      print(\"new fun\")\n",
    "\n",
    "  def disp(self):\n",
    "      self.nvar = 900\n",
    "      self.jvar = 'raju'\n",
    "      print(\"new fun 1\")\n",
    "\n",
    "obj=Details()   #Initilizing an object\n",
    "obj.display()\n",
    "obj.disp()\n",
    "\n",
    "print(f\"class used {Details.mail}\")\n",
    "\n",
    "print(obj.nvar)\n",
    "\n",
    "print(obj.name)\n",
    "print(obj.id)\n",
    "\n"
   ]
  },
  {
   "cell_type": "code",
   "execution_count": null,
   "metadata": {
    "colab": {
     "base_uri": "https://localhost:8080/",
     "height": 54
    },
    "id": "4KJOzNcxAaV4",
    "outputId": "7ce81922-9229-4294-b31d-d516785280cf"
   },
   "outputs": [
    {
     "name": "stdout",
     "output_type": "stream",
     "text": [
      "abc 24 hdhxn\n"
     ]
    },
    {
     "data": {
      "application/vnd.google.colaboratory.intrinsic+json": {
       "type": "string"
      },
      "text/plain": [
       "'xyz'"
      ]
     },
     "execution_count": 3,
     "metadata": {},
     "output_type": "execute_result"
    }
   ],
   "source": [
    "# emp1=Details(name,id,mail)\n",
    "#Constructor --> used to initilize the varibles which have been taekn as input while creating an object\n",
    "class Details:\n",
    "  def __init__(self,name,id,mail):\n",
    "    self.name=name\n",
    "    self.id=id\n",
    "    self.mail=mail\n",
    "\n",
    "\n",
    "  def display(self):   #self is a temp object which is used to acces variables indside the class\n",
    "    print(self.name,self.id,self.mail)\n",
    "\n",
    "\n",
    "emp1=Details('abc',24,'hdhxn')   #Initilizing an object\n",
    "emp1.display()\n",
    "\n",
    "emp2=Details('xyz',27,'hdhbcyh')   #Initilizing an object\n",
    "emp2.name\n",
    "emp3 =Details('pqr',30,'shdsd')\n",
    "\n",
    "emp4=Details('wxy',32,'hdsvcdsc')"
   ]
  },
  {
   "cell_type": "code",
   "execution_count": null,
   "metadata": {
    "colab": {
     "base_uri": "https://localhost:8080/",
     "height": 36
    },
    "id": "49S8Zq3NCvjf",
    "outputId": "ef9e655e-2466-4bcf-d5a6-ed2cc8b8792f"
   },
   "outputs": [
    {
     "data": {
      "application/vnd.google.colaboratory.intrinsic+json": {
       "type": "string"
      },
      "text/plain": [
       "'abc'"
      ]
     },
     "execution_count": 8,
     "metadata": {},
     "output_type": "execute_result"
    }
   ],
   "source": [
    "emp1.name"
   ]
  },
  {
   "cell_type": "code",
   "execution_count": null,
   "metadata": {
    "colab": {
     "base_uri": "https://localhost:8080/",
     "height": 36
    },
    "id": "6MaqCm0mDj9E",
    "outputId": "ad8350e6-fc44-43f5-baa8-1c0bf9734c57"
   },
   "outputs": [
    {
     "data": {
      "application/vnd.google.colaboratory.intrinsic+json": {
       "type": "string"
      },
      "text/plain": [
       "'xyz'"
      ]
     },
     "execution_count": 10,
     "metadata": {},
     "output_type": "execute_result"
    }
   ],
   "source": [
    "emp2.name"
   ]
  },
  {
   "cell_type": "code",
   "execution_count": null,
   "metadata": {
    "colab": {
     "base_uri": "https://localhost:8080/"
    },
    "id": "o3DqlUWCDnMC",
    "outputId": "0ad790e7-1af2-4a0c-97a1-1558c3688c51"
   },
   "outputs": [
    {
     "name": "stdout",
     "output_type": "stream",
     "text": [
      "wxy 32 hdsvcdsc\n"
     ]
    }
   ],
   "source": [
    "emp4.display()"
   ]
  },
  {
   "cell_type": "code",
   "execution_count": null,
   "metadata": {
    "id": "9KcxdKrMENhA"
   },
   "outputs": [],
   "source": [
    "#Four pillars of OOps\n",
    "# 1.inheritance\n",
    "# 2.polymormisam\n",
    "# 3.encapsulation\n",
    "# 4,abstraction"
   ]
  },
  {
   "cell_type": "code",
   "execution_count": 13,
   "metadata": {
    "colab": {
     "base_uri": "https://localhost:8080/",
     "height": 181
    },
    "id": "FtUMl4qTHxZI",
    "outputId": "da710b06-f104-4eab-a6aa-aa6d7f88bdf3"
   },
   "outputs": [
    {
     "ename": "AttributeError",
     "evalue": "'Dog' object has no attribute 'display'",
     "output_type": "error",
     "traceback": [
      "\u001b[1;31m---------------------------------------------------------------------------\u001b[0m",
      "\u001b[1;31mAttributeError\u001b[0m                            Traceback (most recent call last)",
      "Cell \u001b[1;32mIn[13], line 12\u001b[0m\n\u001b[0;32m      9\u001b[0m     \u001b[38;5;28mprint\u001b[39m(\u001b[38;5;124m\"\u001b[39m\u001b[38;5;124mDog\u001b[39m\u001b[38;5;124m\"\u001b[39m)\n\u001b[0;32m     11\u001b[0m obj_dog\u001b[38;5;241m=\u001b[39mDog()\n\u001b[1;32m---> 12\u001b[0m obj_dog\u001b[38;5;241m.\u001b[39mdisplay()\n",
      "\u001b[1;31mAttributeError\u001b[0m: 'Dog' object has no attribute 'display'"
     ]
    }
   ],
   "source": [
    "# 1.Inheritance\n",
    "\n",
    "class Animal:\n",
    "  def display(self):\n",
    "    print('Animal')\n",
    "\n",
    "class Dog:\n",
    "  def show(self):\n",
    "    print(\"Dog\")\n",
    "\n",
    "obj_dog=Dog()\n",
    "obj_dog.display()"
   ]
  },
  {
   "cell_type": "code",
   "execution_count": null,
   "metadata": {
    "colab": {
     "base_uri": "https://localhost:8080/"
    },
    "id": "FTu-7Lp3IuWN",
    "outputId": "e58ba301-3c31-45b2-8624-7f6a73d1ba51"
   },
   "outputs": [
    {
     "name": "stdout",
     "output_type": "stream",
     "text": [
      "Animal\n"
     ]
    }
   ],
   "source": [
    "#1.Single inheritance\n",
    "class Animal:    #one parent --> one child\n",
    "  def display(self):\n",
    "    print('Animal')\n",
    "\n",
    "class Dog(Animal):     #child(parent)\n",
    "  def show(self):\n",
    "    print(\"Dog\")\n",
    "\n",
    "obj_dog=Dog()\n",
    "obj_dog.display()"
   ]
  },
  {
   "cell_type": "code",
   "execution_count": 35,
   "metadata": {
    "colab": {
     "base_uri": "https://localhost:8080/"
    },
    "id": "PGtKm_kkJONI",
    "outputId": "4a5f7d7e-2263-4d32-83d2-d868c2dc5e0f"
   },
   "outputs": [
    {
     "name": "stdout",
     "output_type": "stream",
     "text": [
      "Animal\n",
      "Cat\n"
     ]
    }
   ],
   "source": [
    "# 2.Heirarical inheritance  one parent and multiple childs\n",
    "# parent -> child1,child2,child3...n\n",
    "class Animal:    #parent\n",
    "  def display(self):\n",
    "    print('Animal')\n",
    "\n",
    "class Dog(Animal):     #child1\n",
    "  def show(self):\n",
    "    print(\"Dog\")\n",
    "\n",
    "class Cat(Animal):    #child2\n",
    "  def view(self):\n",
    "    print('Cat')\n",
    "\n",
    "obj_Cat=Cat()\n",
    "obj_Cat.display()\n",
    "obj_Cat.view()\n"
   ]
  },
  {
   "cell_type": "code",
   "execution_count": 46,
   "metadata": {
    "colab": {
     "base_uri": "https://localhost:8080/"
    },
    "id": "S7xLwgbbKRKa",
    "outputId": "008cb723-49f5-4270-d27f-8f0164f895f8"
   },
   "outputs": [
    {
     "name": "stdout",
     "output_type": "stream",
     "text": [
      "Animal\n",
      "new\n"
     ]
    }
   ],
   "source": [
    "#3.Multiple inheritance\n",
    "#parent1 ,parent2....n --> child\n",
    "\n",
    "class Animal:\n",
    "  def display(self):\n",
    "    print(\"Animal\")\n",
    "\n",
    "class mammal:\n",
    "  def show(self):\n",
    "    print(\"mammal\")\n",
    "  def show1(self):\n",
    "    print(\"new\")\n",
    "\n",
    "\n",
    "class monkey(Animal,mammal):     #child(parent1,parent2,...,n)\n",
    "  def view(self):\n",
    "    print('view')\n",
    "  def show1(self):\n",
    "    print(\"new\")\n",
    "  \n",
    "\n",
    "\n",
    "obj_monkey=monkey()\n",
    "obj_monkey.display()\n",
    "obj_monkey.show1()\n",
    "\n"
   ]
  },
  {
   "cell_type": "code",
   "execution_count": null,
   "metadata": {
    "colab": {
     "base_uri": "https://localhost:8080/"
    },
    "id": "Ydta9YALLzvA",
    "outputId": "d0d4d1f2-444f-4fda-846a-22466d6a5737"
   },
   "outputs": [
    {
     "name": "stdout",
     "output_type": "stream",
     "text": [
      "7\n"
     ]
    }
   ],
   "source": [
    "var=7\n",
    "print(var)"
   ]
  },
  {
   "cell_type": "code",
   "execution_count": null,
   "metadata": {
    "colab": {
     "base_uri": "https://localhost:8080/"
    },
    "id": "N7WIOs3EMpLq",
    "outputId": "47eefefb-648d-4c60-9b3a-7e22a35c8f84"
   },
   "outputs": [
    {
     "name": "stdout",
     "output_type": "stream",
     "text": [
      "18\n"
     ]
    }
   ],
   "source": [
    "var=18\n",
    "print(var)\n"
   ]
  },
  {
   "cell_type": "code",
   "execution_count": 50,
   "metadata": {
    "colab": {
     "base_uri": "https://localhost:8080/"
    },
    "id": "IShXsexhNJjh",
    "outputId": "0c3ae6f5-e86a-46cc-d185-90aed58a2196"
   },
   "outputs": [
    {
     "name": "stdout",
     "output_type": "stream",
     "text": [
      " monkey class display\n",
      "mammal\n"
     ]
    }
   ],
   "source": [
    "# case1:\n",
    "class Animal:\n",
    "  def display(self):\n",
    "    print(\"Animal class display\")\n",
    "\n",
    "class mammal:\n",
    "  def show(self):\n",
    "    print(\"mammal\")\n",
    "\n",
    "\n",
    "class monkey(Animal,mammal):     #c1st priority will be given the smae class attributes only\n",
    "  def display(self):\n",
    "    print(' monkey class display')\n",
    "\n",
    "\n",
    "obj_monkey=monkey()\n",
    "obj_monkey.display()\n",
    "obj_monkey.show()"
   ]
  },
  {
   "cell_type": "code",
   "execution_count": null,
   "metadata": {
    "colab": {
     "base_uri": "https://localhost:8080/"
    },
    "id": "ktpZxFzDNgL4",
    "outputId": "d8a4c7ea-4444-4cad-d3f4-3f7ed92fb427"
   },
   "outputs": [
    {
     "name": "stdout",
     "output_type": "stream",
     "text": [
      "Animal\n"
     ]
    }
   ],
   "source": [
    "# case2a:\n",
    "class Animal:\n",
    "  def display(self):\n",
    "    print(\"Animal\")\n",
    "\n",
    "class mammal:\n",
    "  def display(self):\n",
    "    print(\"mammal\")\n",
    "\n",
    "\n",
    "class monkey(Animal,mammal):     #parent1 will take prededence over parent 2\n",
    "  def view(self):\n",
    "    print('monkey')\n",
    "\n",
    "\n",
    "obj_monkey=monkey()\n",
    "obj_monkey.display()\n"
   ]
  },
  {
   "cell_type": "code",
   "execution_count": null,
   "metadata": {
    "colab": {
     "base_uri": "https://localhost:8080/"
    },
    "id": "Hvn193G_OFKh",
    "outputId": "0cdb04e1-128c-436e-dc28-ead3c6fac2b1"
   },
   "outputs": [
    {
     "name": "stdout",
     "output_type": "stream",
     "text": [
      "mammal\n"
     ]
    }
   ],
   "source": [
    "# case2b:\n",
    "class Animal:\n",
    "  def display(self):\n",
    "    print(\"Animal\")\n",
    "\n",
    "class mammal:\n",
    "  def display(self):\n",
    "    print(\"mammal\")\n",
    "\n",
    "\n",
    "class monkey(mammal,Animal):     #parent1 will take prededence over parent 2\n",
    "  def view(self):\n",
    "    print('monkey')\n",
    "\n",
    "\n",
    "obj_monkey=monkey()\n",
    "obj_monkey.display()\n"
   ]
  },
  {
   "cell_type": "code",
   "execution_count": 15,
   "metadata": {
    "colab": {
     "base_uri": "https://localhost:8080/"
    },
    "id": "lVSfeVwmOpSn",
    "outputId": "4f6ceccf-20ed-4210-83e9-c916af5155b9"
   },
   "outputs": [
    {
     "name": "stdout",
     "output_type": "stream",
     "text": [
      "monkey\n",
      "base 2nd class\n"
     ]
    }
   ],
   "source": [
    "# case3:\n",
    "class Animal:\n",
    "  def display1(self):\n",
    "    print(\"base class\")\n",
    "  \n",
    "    \n",
    "class mammal:\n",
    "  def view(self):\n",
    "    print(\"mammal\")\n",
    "  def display(self):\n",
    "    print(\"base 2nd class\")\n",
    "\n",
    "\n",
    "class monkey(Animal,mammal):\n",
    "\n",
    "  def display(self):\n",
    "    print('monkey')\n",
    "    super().display()\n",
    "\n",
    "\n",
    "obj_monkey=monkey()\n",
    "obj_monkey.display()\n"
   ]
  },
  {
   "cell_type": "code",
   "execution_count": null,
   "metadata": {
    "colab": {
     "base_uri": "https://localhost:8080/"
    },
    "id": "cI7btl6pO58d",
    "outputId": "1bc301bb-e6da-4678-bf11-3a268a176980"
   },
   "outputs": [
    {
     "name": "stdout",
     "output_type": "stream",
     "text": [
      "monkey\n",
      "Animal\n",
      "mammal\n"
     ]
    }
   ],
   "source": [
    "# case3:\n",
    "class Animal:\n",
    "  def display(self):\n",
    "    print(\"Animal\")\n",
    "\n",
    "class mammal:\n",
    "  def display(self):\n",
    "    print(\"mammal\")\n",
    "\n",
    "\n",
    "class monkey(Animal,mammal):\n",
    "\n",
    "  def display(self):\n",
    "    print('monkey')\n",
    "    Animal.display(self)\n",
    "    mammal.display(self)\n",
    "\n",
    "\n",
    "obj_monkey=monkey()\n",
    "obj_monkey.display()"
   ]
  },
  {
   "cell_type": "code",
   "execution_count": null,
   "metadata": {
    "colab": {
     "base_uri": "https://localhost:8080/"
    },
    "id": "9h71U3cuQGXL",
    "outputId": "3459a431-2765-4f79-eb79-0de8f954ecb9"
   },
   "outputs": [
    {
     "name": "stdout",
     "output_type": "stream",
     "text": [
      "grandf\n"
     ]
    }
   ],
   "source": [
    "# multilevel inheritance: --> gf-->p--> c\n",
    "\n",
    "class grandfather:\n",
    "  def display(self):\n",
    "    print('grandf')\n",
    "\n",
    "class parent(grandfather):       #level 1\n",
    "  def show(self):\n",
    "    print(\"parent\")\n",
    "\n",
    "class son(parent):              #level2\n",
    "  def view(self):\n",
    "    print(\"son\")\n",
    "\n",
    "\n",
    "obj_son=son()\n",
    "obj_son.display()"
   ]
  },
  {
   "cell_type": "code",
   "execution_count": null,
   "metadata": {
    "colab": {
     "base_uri": "https://localhost:8080/"
    },
    "id": "-0shhRz8TJbA",
    "outputId": "44b09080-7de0-4e79-8d78-06f31db57565"
   },
   "outputs": [
    {
     "name": "stdout",
     "output_type": "stream",
     "text": [
      "10\n",
      "first function called then variable called 20\n",
      "20\n",
      "first function called then variable called 20\n"
     ]
    }
   ],
   "source": [
    "class A():\n",
    "    a = 10\n",
    "\n",
    "    def AA(self):\n",
    "        self.a = 20\n",
    "        return f\"first function called then variable called {self.a}\"\n",
    "ob = A()\n",
    "print(ob.a)\n",
    "print(ob.AA())\n",
    "print(ob.a)\n",
    "print(ob.AA())"
   ]
  },
  {
   "cell_type": "code",
   "execution_count": 1,
   "metadata": {
    "colab": {
     "base_uri": "https://localhost:8080/",
     "height": 36
    },
    "id": "P1lgPYngWT1J",
    "outputId": "4ca320a7-c096-4829-9494-330fbf2ad914"
   },
   "outputs": [
    {
     "data": {
      "application/vnd.google.colaboratory.intrinsic+json": {
       "type": "string"
      },
      "text/plain": [
       "'jsdbj'"
      ]
     },
     "execution_count": 1,
     "metadata": {},
     "output_type": "execute_result"
    }
   ],
   "source": [
    "class grandfather:\n",
    "  name='jsdbj'\n",
    "  def display(self):\n",
    "    print('grandf')\n",
    "\n",
    "class parent(grandfather):       #level 1\n",
    "  def show(self):\n",
    "    print(\"parent\")\n",
    "\n",
    "obj_parent=parent()\n",
    "obj_parent.name"
   ]
  },
  {
   "cell_type": "code",
   "execution_count": 64,
   "metadata": {
    "colab": {
     "base_uri": "https://localhost:8080/"
    },
    "id": "8k8yArWalarC",
    "outputId": "2e4ed5e1-ceb4-41e9-b516-ae372ff507ba"
   },
   "outputs": [
    {
     "name": "stdout",
     "output_type": "stream",
     "text": [
      "10.0\n"
     ]
    }
   ],
   "source": [
    "#2.Polymorphisam  --> same name but diffrent output according to the requirements\n",
    "\n",
    "class Square:\n",
    "  def __init__(self,side):\n",
    "    self.side=side\n",
    "  def area(self):\n",
    "    print(self.side*self.side)\n",
    "\n",
    "\n",
    "class Triangle:\n",
    "  def __init__(self,base,height):\n",
    "    self.base=base\n",
    "    self.height=height\n",
    "  def area(self):\n",
    "    print(0.5*self.base*self.height)\n",
    "\n",
    "\n",
    "class Rectangle:\n",
    "  def __init__(self,l,b):\n",
    "    self.l=l\n",
    "    self.b=b\n",
    "  def area(self):\n",
    "    print(self.l*self.b)\n",
    "\n",
    "# obj_Square=Square(4)\n",
    "# obj_Square.area()\n",
    "\n",
    "# obj_Rectangle=Rectangle(4,5)\n",
    "# obj_Rectangle.area()\n",
    "\n",
    "obj_Triangle=Triangle(4,5)\n",
    "obj_Triangle.area()"
   ]
  },
  {
   "cell_type": "code",
   "execution_count": 5,
   "metadata": {
    "id": "p9eJ0CKboIkj"
   },
   "outputs": [],
   "source": [
    "#3.Encapsulation --> binding data relatede to one domain into a single class using some access and authorization\n",
    "#public -->accesable anywhere\n",
    "#protected  --> are only accesable by the class and within its child class  (_)\n",
    "#private -->only accessable within the class    (__)\n"
   ]
  },
  {
   "cell_type": "code",
   "execution_count": 23,
   "metadata": {
    "colab": {
     "base_uri": "https://localhost:8080/",
     "height": 36
    },
    "id": "j23TwLzarvmQ",
    "outputId": "565b1e48-879e-4f0c-d24a-40a66e7b52ab"
   },
   "outputs": [
    {
     "name": "stdout",
     "output_type": "stream",
     "text": [
      "abc\n",
      "9874334083\n"
     ]
    }
   ],
   "source": [
    "class details:\n",
    "  name=\"abc\"             #public variable\n",
    "  _number='9874334083'   #protected variable\n",
    "  __password=\"gdhkbwkd\"  #private variable\n",
    "  def fun(self):\n",
    "      print(\"fun print\")\n",
    "\n",
    "  def fun(self):\n",
    "      print(\"fun print\")\n",
    "\n",
    "\n",
    "obj_det=details()\n",
    "print(obj_det.name)\n",
    "print(obj_det._number)\n"
   ]
  },
  {
   "cell_type": "code",
   "execution_count": 7,
   "metadata": {
    "colab": {
     "base_uri": "https://localhost:8080/",
     "height": 36
    },
    "id": "LDJh4AkasWXX",
    "outputId": "451d1ef8-3806-404a-835c-4fbc8f40e6ac"
   },
   "outputs": [
    {
     "data": {
      "application/vnd.google.colaboratory.intrinsic+json": {
       "type": "string"
      },
      "text/plain": [
       "'9874334083'"
      ]
     },
     "execution_count": 7,
     "metadata": {},
     "output_type": "execute_result"
    }
   ],
   "source": [
    "class details:\n",
    "  name=\"abc\"             #public variable\n",
    "  _number='9874334083'   #protected variable\n",
    "  __password=\"gdhkbwkd\"  #private variable\n",
    "\n",
    "\n",
    "obj_det=details()\n",
    "obj_det._number"
   ]
  },
  {
   "cell_type": "code",
   "execution_count": 27,
   "metadata": {},
   "outputs": [
    {
     "name": "stdout",
     "output_type": "stream",
     "text": [
      "Bob is 25 years old.\n"
     ]
    }
   ],
   "source": [
    "class Person:\n",
    "    def __init__(self, name, age):\n",
    "        self._name = name    # Protected attribute\n",
    "        self._age = age      # Protected attribute\n",
    "\n",
    "    def _get_info(self):     # Protected method\n",
    "        return f\"{self._name} is {self._age} years old.\"\n",
    "\n",
    "class Employee(Person):\n",
    "    def display_info(self):\n",
    "        print(self._get_info())  # Accessing protected method\n",
    "\n",
    "employee = Employee(\"Bob\", 25)\n",
    "employee.display_info()          # Output: Bob is 25 years old.\n"
   ]
  },
  {
   "cell_type": "code",
   "execution_count": 33,
   "metadata": {},
   "outputs": [
    {
     "ename": "AttributeError",
     "evalue": "'Employee' object has no attribute '_Employee__get_info'",
     "output_type": "error",
     "traceback": [
      "\u001b[1;31m---------------------------------------------------------------------------\u001b[0m",
      "\u001b[1;31mAttributeError\u001b[0m                            Traceback (most recent call last)",
      "Cell \u001b[1;32mIn[33], line 14\u001b[0m\n\u001b[0;32m     11\u001b[0m         \u001b[38;5;28mprint\u001b[39m(\u001b[38;5;28mself\u001b[39m\u001b[38;5;241m.\u001b[39m__get_info())  \u001b[38;5;66;03m# Accessing protected method\u001b[39;00m\n\u001b[0;32m     13\u001b[0m employee \u001b[38;5;241m=\u001b[39m Employee(\u001b[38;5;124m\"\u001b[39m\u001b[38;5;124mBob\u001b[39m\u001b[38;5;124m\"\u001b[39m, \u001b[38;5;241m25\u001b[39m)\n\u001b[1;32m---> 14\u001b[0m employee\u001b[38;5;241m.\u001b[39mdisplay_info()\n",
      "Cell \u001b[1;32mIn[33], line 11\u001b[0m, in \u001b[0;36mEmployee.display_info\u001b[1;34m(self)\u001b[0m\n\u001b[0;32m     10\u001b[0m \u001b[38;5;28;01mdef\u001b[39;00m \u001b[38;5;21mdisplay_info\u001b[39m(\u001b[38;5;28mself\u001b[39m):\n\u001b[1;32m---> 11\u001b[0m     \u001b[38;5;28mprint\u001b[39m(\u001b[38;5;28mself\u001b[39m\u001b[38;5;241m.\u001b[39m__get_info())\n",
      "\u001b[1;31mAttributeError\u001b[0m: 'Employee' object has no attribute '_Employee__get_info'"
     ]
    }
   ],
   "source": [
    "class Person:\n",
    "    def __init__(self, name, age):\n",
    "        self._name = name    # Protected attribute\n",
    "        self._age = age      # Protected attribute\n",
    "\n",
    "    def __get_info(self):     # private method\n",
    "        return f\"{self._name} is {self._age} years old.\"\n",
    "\n",
    "class Employee(Person):\n",
    "    def display_info(self):\n",
    "        print(self.__get_info())  # Accessing protected method\n",
    "\n",
    "employee = Employee(\"Bob\", 25)\n",
    "employee.display_info()         \n"
   ]
  },
  {
   "cell_type": "code",
   "execution_count": 8,
   "metadata": {
    "colab": {
     "base_uri": "https://localhost:8080/",
     "height": 181
    },
    "id": "GX6LtyUBsh1N",
    "outputId": "713d53a1-2b95-4d02-e7ed-eab880b37216"
   },
   "outputs": [
    {
     "ename": "AttributeError",
     "evalue": "'details' object has no attribute '__password'",
     "output_type": "error",
     "traceback": [
      "\u001b[0;31m---------------------------------------------------------------------------\u001b[0m",
      "\u001b[0;31mAttributeError\u001b[0m                            Traceback (most recent call last)",
      "\u001b[0;32m<ipython-input-8-7dce959a1fd5>\u001b[0m in \u001b[0;36m<cell line: 0>\u001b[0;34m()\u001b[0m\n\u001b[1;32m      6\u001b[0m \u001b[0;34m\u001b[0m\u001b[0m\n\u001b[1;32m      7\u001b[0m \u001b[0mobj_det\u001b[0m\u001b[0;34m=\u001b[0m\u001b[0mdetails\u001b[0m\u001b[0;34m(\u001b[0m\u001b[0;34m)\u001b[0m\u001b[0;34m\u001b[0m\u001b[0;34m\u001b[0m\u001b[0m\n\u001b[0;32m----> 8\u001b[0;31m \u001b[0mobj_det\u001b[0m\u001b[0;34m.\u001b[0m\u001b[0m__password\u001b[0m\u001b[0;34m\u001b[0m\u001b[0;34m\u001b[0m\u001b[0m\n\u001b[0m",
      "\u001b[0;31mAttributeError\u001b[0m: 'details' object has no attribute '__password'"
     ]
    }
   ],
   "source": [
    "class details:\n",
    "  name=\"abc\"             #public variable\n",
    "  _number='9874334083'   #protected variable\n",
    "  __password=\"gdhkbwkd\"  #private variable\n",
    "\n",
    "\n",
    "obj_det=details()\n",
    "obj_det.__password             # will throw an error as __password is an private data member"
   ]
  },
  {
   "cell_type": "code",
   "execution_count": 9,
   "metadata": {
    "colab": {
     "base_uri": "https://localhost:8080/"
    },
    "id": "mLwkpPPHsvkp",
    "outputId": "1896698d-3a00-4bef-99c4-51f35239dd3f"
   },
   "outputs": [
    {
     "name": "stdout",
     "output_type": "stream",
     "text": [
      "gdhkbwkd\n"
     ]
    }
   ],
   "source": [
    "class details:\n",
    "  name=\"abc\"             #public variable\n",
    "  _number='9874334083'   #protected variable\n",
    "  __password=\"gdhkbwkd\"  #private variable\n",
    "\n",
    "  def display(self):\n",
    "    print(self.__password)\n",
    "\n",
    "\n",
    "obj_det=details()\n",
    "obj_det.display()"
   ]
  },
  {
   "cell_type": "code",
   "execution_count": 10,
   "metadata": {
    "colab": {
     "base_uri": "https://localhost:8080/",
     "height": 217
    },
    "id": "TTRtG0URt-Ci",
    "outputId": "b7402361-f1b7-4855-a484-9d406ba291dc"
   },
   "outputs": [
    {
     "ename": "TypeError",
     "evalue": "Can't instantiate abstract class abst with abstract method display",
     "output_type": "error",
     "traceback": [
      "\u001b[0;31m---------------------------------------------------------------------------\u001b[0m",
      "\u001b[0;31mTypeError\u001b[0m                                 Traceback (most recent call last)",
      "\u001b[0;32m<ipython-input-10-9a260a4be774>\u001b[0m in \u001b[0;36m<cell line: 0>\u001b[0;34m()\u001b[0m\n\u001b[1;32m      7\u001b[0m \u001b[0;34m\u001b[0m\u001b[0m\n\u001b[1;32m      8\u001b[0m \u001b[0;34m\u001b[0m\u001b[0m\n\u001b[0;32m----> 9\u001b[0;31m \u001b[0mobj_abs\u001b[0m\u001b[0;34m=\u001b[0m\u001b[0mabst\u001b[0m\u001b[0;34m(\u001b[0m\u001b[0;34m)\u001b[0m\u001b[0;34m\u001b[0m\u001b[0;34m\u001b[0m\u001b[0m\n\u001b[0m\u001b[1;32m     10\u001b[0m \u001b[0mobj_abs\u001b[0m\u001b[0;34m.\u001b[0m\u001b[0mdisplay\u001b[0m\u001b[0;34m(\u001b[0m\u001b[0;34m)\u001b[0m\u001b[0;34m\u001b[0m\u001b[0;34m\u001b[0m\u001b[0m\n\u001b[1;32m     11\u001b[0m \u001b[0;34m\u001b[0m\u001b[0m\n",
      "\u001b[0;31mTypeError\u001b[0m: Can't instantiate abstract class abst with abstract method display"
     ]
    }
   ],
   "source": [
    "#4.Abstraction--> hiding the irrerlevent data form the user\n",
    "from abc import ABC,abstractmethod\n",
    "class abst(ABC):\n",
    "  @abstractmethod\n",
    "  def display(self):\n",
    "    print(\"hidden msg\")\n",
    "\n",
    "\n",
    "\n",
    "obj_abs=abst()   #will throw an error as the obstraction class object cannot be crreated\n",
    "obj_abs.display()\n",
    "\n",
    "\n"
   ]
  },
  {
   "cell_type": "code",
   "execution_count": 59,
   "metadata": {
    "colab": {
     "base_uri": "https://localhost:8080/"
    },
    "id": "EU0HdXPPzlg0",
    "outputId": "7999b734-70ad-4c12-fb2d-6f6cabfb6825"
   },
   "outputs": [
    {
     "name": "stdout",
     "output_type": "stream",
     "text": [
      "hidden msg\n"
     ]
    }
   ],
   "source": [
    "from abc import ABC,abstractmethod\n",
    "class abstest(ABC):\n",
    "  @abstractmethod\n",
    "  def display(self):\n",
    "    print(\"hidden msg\")\n",
    "\n",
    "class dummy:\n",
    "  def show(self):\n",
    "    abst.display(self)\n",
    "\n",
    "obj_dummy=dummy()\n",
    "obj_dummy.show()"
   ]
  },
  {
   "cell_type": "code",
   "execution_count": 45,
   "metadata": {
    "id": "cdfyTN1y0c9-"
   },
   "outputs": [
    {
     "name": "stdout",
     "output_type": "stream",
     "text": [
      "Processing credit card payment of $100\n",
      "Processing PayPal payment of $150\n"
     ]
    }
   ],
   "source": [
    "from abc import ABC, abstractmethod\n",
    "\n",
    "# Step 1: Define an abstract class with an abstract method\n",
    "class PaymentSystem(ABC):\n",
    "    @abstractmethod\n",
    "    def process_payment(self, amount):\n",
    "        pass\n",
    "\n",
    "# Step 2: Implement the abstract method in concrete subclasses\n",
    "class CreditCardPayment(PaymentSystem):\n",
    "    def process_payment(self, amount):\n",
    "        print(f\"Processing credit card payment of ${amount}\")\n",
    "\n",
    "class PayPalPayment(PaymentSystem):\n",
    "    def process_payment(self, amount):\n",
    "        print(f\"Processing PayPal payment of ${amount}\")\n",
    "\n",
    "# Step 3: Use the abstract class and its implementations\n",
    "def process_transaction(payment_system: PaymentSystem, amount: float):\n",
    "    payment_system.process_payment(amount)\n",
    "\n",
    "# Example usage\n",
    "credit_card = CreditCardPayment()\n",
    "paypal = PayPalPayment()\n",
    "process_transaction(credit_card, 100)\n",
    "process_transaction(paypal, 150)\n"
   ]
  },
  {
   "cell_type": "code",
   "execution_count": null,
   "metadata": {},
   "outputs": [],
   "source": []
  }
 ],
 "metadata": {
  "colab": {
   "provenance": []
  },
  "kernelspec": {
   "display_name": "Python [conda env:base] *",
   "language": "python",
   "name": "conda-base-py"
  },
  "language_info": {
   "codemirror_mode": {
    "name": "ipython",
    "version": 3
   },
   "file_extension": ".py",
   "mimetype": "text/x-python",
   "name": "python",
   "nbconvert_exporter": "python",
   "pygments_lexer": "ipython3",
   "version": "3.12.7"
  }
 },
 "nbformat": 4,
 "nbformat_minor": 4
}
