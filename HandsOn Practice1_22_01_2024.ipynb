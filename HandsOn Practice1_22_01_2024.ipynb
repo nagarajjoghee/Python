{
 "cells": [
  {
   "cell_type": "code",
   "execution_count": 1,
   "id": "bbd1d630-c1b6-4519-89a8-e173fdaa2f10",
   "metadata": {},
   "outputs": [
    {
     "ename": "ModuleNotFoundError",
     "evalue": "No module named 'Module'",
     "output_type": "error",
     "traceback": [
      "\u001b[1;31m---------------------------------------------------------------------------\u001b[0m",
      "\u001b[1;31mModuleNotFoundError\u001b[0m                       Traceback (most recent call last)",
      "Cell \u001b[1;32mIn[1], line 1\u001b[0m\n\u001b[1;32m----> 1\u001b[0m \u001b[38;5;28;01mfrom\u001b[39;00m \u001b[38;5;21;01mModule\u001b[39;00m \u001b[38;5;28;01mimport\u001b[39;00m addition\n",
      "\u001b[1;31mModuleNotFoundError\u001b[0m: No module named 'Module'"
     ]
    }
   ],
   "source": [
    "from Module import addition"
   ]
  },
  {
   "cell_type": "code",
   "execution_count": 3,
   "id": "f00ee73c-6092-4cf9-aabf-57e5704bf219",
   "metadata": {},
   "outputs": [
    {
     "ename": "ModuleNotFoundError",
     "evalue": "No module named 'module'",
     "output_type": "error",
     "traceback": [
      "\u001b[1;31m---------------------------------------------------------------------------\u001b[0m",
      "\u001b[1;31mModuleNotFoundError\u001b[0m                       Traceback (most recent call last)",
      "Cell \u001b[1;32mIn[3], line 1\u001b[0m\n\u001b[1;32m----> 1\u001b[0m \u001b[38;5;28;01mimport\u001b[39;00m \u001b[38;5;21;01mmodule\u001b[39;00m  \u001b[38;5;28;01mas\u001b[39;00m \u001b[38;5;21;01mm\u001b[39;00m\n\u001b[0;32m      3\u001b[0m m\u001b[38;5;241m.\u001b[39mmultiplication(\u001b[38;5;241m3\u001b[39m,\u001b[38;5;241m2\u001b[39m)\n",
      "\u001b[1;31mModuleNotFoundError\u001b[0m: No module named 'module'"
     ]
    }
   ],
   "source": [
    "import module  as m\n",
    "\n",
    "m.multiplication(3,2)"
   ]
  },
  {
   "cell_type": "code",
   "execution_count": 2,
   "id": "d095ddcb-3031-4289-b6b8-d7c68c886a63",
   "metadata": {},
   "outputs": [
    {
     "ename": "NameError",
     "evalue": "name 'multiplication' is not defined",
     "output_type": "error",
     "traceback": [
      "\u001b[1;31m---------------------------------------------------------------------------\u001b[0m",
      "\u001b[1;31mNameError\u001b[0m                                 Traceback (most recent call last)",
      "Cell \u001b[1;32mIn[2], line 1\u001b[0m\n\u001b[1;32m----> 1\u001b[0m multiplication(\u001b[38;5;241m23\u001b[39m,\u001b[38;5;241m2\u001b[39m)\n",
      "\u001b[1;31mNameError\u001b[0m: name 'multiplication' is not defined"
     ]
    }
   ],
   "source": [
    "multiplication(23,2)"
   ]
  },
  {
   "cell_type": "markdown",
   "id": "672e4185-697b-442a-a8fb-9be910bb3a3e",
   "metadata": {},
   "source": [
    "6. Create a python if-else program to check whether the given number is an armstrong \n",
    "number or not, and check whether the given number is a prime number or not. Make \n",
    "use of python if-else, and elif statements for the same."
   ]
  },
  {
   "cell_type": "code",
   "execution_count": 4,
   "id": "191db5ee-1aa6-4b68-9d58-b1d26e873825",
   "metadata": {},
   "outputs": [
    {
     "data": {
      "text/plain": [
       "153"
      ]
     },
     "execution_count": 4,
     "metadata": {},
     "output_type": "execute_result"
    }
   ],
   "source": [
    "# a number that is equal to the sum of its own digits, each raised to the power of the number of digits.\n",
    "# 153 = 1 **3 + 5**3 + 3 **3\n",
    "1 **3 + 5**3 + 3 **3"
   ]
  },
  {
   "cell_type": "code",
   "execution_count": 43,
   "id": "c2166235-34fe-4455-92f2-aa5b17b51df6",
   "metadata": {},
   "outputs": [
    {
     "name": "stdin",
     "output_type": "stream",
     "text": [
      "Enter the number 153\n"
     ]
    },
    {
     "name": "stdout",
     "output_type": "stream",
     "text": [
      "153 is an armstrong number\n"
     ]
    }
   ],
   "source": [
    "num1 = int(input(\"Enter the number\"))\n",
    "\n",
    "s1 = str(num1)\n",
    "# print(s1)\n",
    "l = len(s1)\n",
    "sum = 0\n",
    "for num in s1:\n",
    "    # print(num)\n",
    "    sum = sum + int(num) ** l\n",
    "\n",
    "if sum == num1:\n",
    "    print(f\"{num1} is an armstrong number\")\n",
    "\n",
    "else:\n",
    "    print(f\"{num1} is not an armstrong number\")\n"
   ]
  },
  {
   "cell_type": "code",
   "execution_count": 23,
   "id": "0892d16d-533a-45f8-ae2e-e7a02875c3fc",
   "metadata": {},
   "outputs": [
    {
     "data": {
      "text/plain": [
       "153"
      ]
     },
     "execution_count": 23,
     "metadata": {},
     "output_type": "execute_result"
    }
   ],
   "source": [
    "# sum = 126 -> 153\n",
    "# 0 + 1**3 \n",
    "# 1 + 5 **3\n",
    "126 + 3 ** 3"
   ]
  },
  {
   "cell_type": "code",
   "execution_count": 25,
   "id": "f9897e00-cfbe-47e7-ad0a-4a6ca0a0970c",
   "metadata": {},
   "outputs": [
    {
     "name": "stdout",
     "output_type": "stream",
     "text": [
      "<class 'str'>\n",
      "<class 'str'>\n",
      "<class 'str'>\n"
     ]
    }
   ],
   "source": [
    "for i in \"153\":\n",
    "    print(type(i))"
   ]
  },
  {
   "cell_type": "code",
   "execution_count": 13,
   "id": "7df24b94-2ee9-417c-8840-b8f2eea56fd7",
   "metadata": {},
   "outputs": [
    {
     "name": "stdout",
     "output_type": "stream",
     "text": [
      "153\n"
     ]
    }
   ],
   "source": [
    "num = 153\n",
    "s1 = str(num)\n",
    "l = len(s1)\n",
    "print(s1)"
   ]
  },
  {
   "cell_type": "code",
   "execution_count": 36,
   "id": "19da4b84-adac-4919-91db-c329171c6510",
   "metadata": {},
   "outputs": [
    {
     "name": "stdout",
     "output_type": "stream",
     "text": [
      "1\n",
      "5\n",
      "3\n"
     ]
    }
   ],
   "source": [
    "num1 = 153\n",
    "digits = str(num1)\n",
    "# print(digits)\n",
    "# print(type(digits))\n",
    "l = len(digits)\n",
    "sum = 0\n",
    "for num in digits:\n",
    "    print(num)\n",
    "    sum = sum + num ** l"
   ]
  },
  {
   "cell_type": "code",
   "execution_count": 40,
   "id": "80e16402-8a98-4df0-aac2-46147bc90f1b",
   "metadata": {},
   "outputs": [
    {
     "data": {
      "text/plain": [
       "126"
      ]
     },
     "execution_count": 40,
     "metadata": {},
     "output_type": "execute_result"
    }
   ],
   "source": [
    "# sum = 1 ,126\n",
    "# 0 + 1 ** 3\n",
    "1 + 5 **3"
   ]
  },
  {
   "cell_type": "code",
   "execution_count": 33,
   "id": "a83c109b-8a60-4874-96af-c17c009d6cb8",
   "metadata": {},
   "outputs": [
    {
     "name": "stdout",
     "output_type": "stream",
     "text": [
      "1\n",
      "5\n",
      "3\n"
     ]
    }
   ],
   "source": [
    "# 153 = 1 **3 + 5**3 + 3 **3\n",
    "1 **3 + 5**3 + 3 **3\n",
    "for num in \"153\":\n",
    "    print(i)\n",
    "    sum = sum "
   ]
  },
  {
   "cell_type": "code",
   "execution_count": 71,
   "id": "f37b246f-ef79-4d30-aaac-ee3cd0bb9235",
   "metadata": {},
   "outputs": [
    {
     "name": "stdin",
     "output_type": "stream",
     "text": [
      "Enter a number 8\n"
     ]
    },
    {
     "name": "stdout",
     "output_type": "stream",
     "text": [
      "2\n",
      "8 is not a prime number\n"
     ]
    }
   ],
   "source": [
    "num = int(input(\"Enter a number\"))\n",
    "\n",
    "for i in range(2,num):\n",
    "    print(i)\n",
    "    if num % i == 0:\n",
    "        print(num, \"is not a prime number\")\n",
    "        break\n",
    "\n",
    "else :\n",
    "    print(num, \"is a prime number\")"
   ]
  },
  {
   "cell_type": "markdown",
   "id": "b2a40570-0fdc-4e5b-a62d-393e4f3081b5",
   "metadata": {},
   "source": [
    "7. Create a calculator program for addition, subtraction, multiplication and floor division. \n",
    "Take the inputs from the user, and based on the choice of operation, return the results.\n"
   ]
  },
  {
   "cell_type": "code",
   "execution_count": 9,
   "id": "163844b6-2dee-4386-a315-e3719b2db460",
   "metadata": {},
   "outputs": [
    {
     "name": "stdout",
     "output_type": "stream",
     "text": [
      "4\n",
      "10\n"
     ]
    },
    {
     "name": "stdin",
     "output_type": "stream",
     "text": [
      "Enter the 1st value 10\n",
      "Enter the 2nd value 5\n",
      "Enter a for addition, b for substraction, c for multiplication g\n"
     ]
    },
    {
     "name": "stdout",
     "output_type": "stream",
     "text": [
      "Wrong Input\n"
     ]
    }
   ],
   "source": [
    "def addition(a,b):\n",
    "    print(a + b)\n",
    "\n",
    "def subtraction(a,b):\n",
    "    print(a - b)\n",
    "\n",
    "def multiplication(a,b):\n",
    "    print(a * b)\n",
    "\n",
    "def division(a,b):\n",
    "    print(a // b)\n",
    "\n",
    "division(14,3)\n",
    "multiplication(5,2)\n",
    "\n",
    "a = int(input(\"Enter the 1st value\"))\n",
    "b = int(input(\"Enter the 2nd value\"))\n",
    "op = input(\"Enter a for addition, b for substraction, c for multiplication\")\n",
    "\n",
    "if op == 'a':\n",
    "    addition(a,b)\n",
    "elif op == 'b':\n",
    "    substraction(a,b)\n",
    "\n",
    "elif op == 'c':\n",
    "    multiplication(a,b)\n",
    "\n",
    "else:\n",
    "    print(\"Wrong Input\")\n",
    "# division(a,b)\n",
    "# multiplication(a,b)"
   ]
  },
  {
   "cell_type": "markdown",
   "id": "3960589b-0f44-40fa-a9fc-00e588565a52",
   "metadata": {},
   "source": [
    "8. Create a nested dictionary with values as a nested list for each key in the dictionary.\n"
   ]
  },
  {
   "cell_type": "code",
   "execution_count": 10,
   "id": "07373d93-fa4a-4b2e-95b7-648348bfcd5e",
   "metadata": {},
   "outputs": [
    {
     "name": "stdout",
     "output_type": "stream",
     "text": [
      "{'Name_Employees': ['Manvi', 'Rahul', 'Suchitra', 'Ramakrishnan', 'Mohammed'], 'emp_details': ['address', 'phone', 'pincode', 'email']}\n"
     ]
    }
   ],
   "source": [
    "d1 = {\n",
    "    'Name_Employees' : ['Manvi','Rahul',['Suchitra','Ramakrishnan'],'Mohammed'],\n",
    "    'emp_details': ['address','phone','pincode','email']\n",
    "}\n",
    "print(d1)"
   ]
  },
  {
   "cell_type": "markdown",
   "id": "db0d8634-9256-48fd-8230-5c7ab5c04329",
   "metadata": {},
   "source": [
    "9. Create two sets and perform the following:\n",
    "\n",
    "a. Union of the two sets\n",
    "\n",
    "b. Intersection of the two sets"
   ]
  },
  {
   "cell_type": "code",
   "execution_count": 11,
   "id": "344dcd53-1e5c-43f1-854d-7b05d556210e",
   "metadata": {},
   "outputs": [
    {
     "data": {
      "text/plain": [
       "{10, 20, 30, 40, 50, 60, 70, 80}"
      ]
     },
     "execution_count": 11,
     "metadata": {},
     "output_type": "execute_result"
    }
   ],
   "source": [
    "# Union -> all values from s1 and s2 without duplicates\n",
    "s1 = {10,20,30,40,50}\n",
    "s2 = {40,50,60,70,80}\n",
    "s1.union(s2)"
   ]
  },
  {
   "cell_type": "code",
   "execution_count": 12,
   "id": "5d0da0f1-8365-4b5b-88df-65ea3947eb06",
   "metadata": {},
   "outputs": [
    {
     "data": {
      "text/plain": [
       "{40, 50}"
      ]
     },
     "execution_count": 12,
     "metadata": {},
     "output_type": "execute_result"
    }
   ],
   "source": [
    "# Intersection -> common values from both the set\n",
    "s1 = {10,20,30,40,50}\n",
    "s2 = {40,50,60,70,80}\n",
    "s1.intersection(s2)"
   ]
  },
  {
   "cell_type": "markdown",
   "id": "afdcc07d-2c4d-435a-9b3d-43eb9de161d3",
   "metadata": {},
   "source": [
    "10. Create a nested tuple from the dictionary, with each item in the tuple as a key value pair \n",
    "from the dictionary.\n"
   ]
  },
  {
   "cell_type": "code",
   "execution_count": 17,
   "id": "716bb48e-a53e-4e26-a024-04da1dfd990e",
   "metadata": {},
   "outputs": [
    {
     "data": {
      "text/plain": [
       "(('name', 'Nagaraj'), ('email', 'n@gmail.com'), ('phone', 112233))"
      ]
     },
     "execution_count": 17,
     "metadata": {},
     "output_type": "execute_result"
    }
   ],
   "source": [
    "d1 = {\n",
    "    \"name\" : \"Nagaraj\",\n",
    "    \"email\": \"n@gmail.com\",\n",
    "    \"phone\" : 112233\n",
    "}\n",
    "tuple(d1.items())\n",
    "# d1.items()"
   ]
  },
  {
   "cell_type": "raw",
   "id": "e9c89708-1f75-4b3a-8f9e-be94d3039b7a",
   "metadata": {},
   "source": [
    "11. Create a list of the first 50 even natural numbers, and perform the following operations.\n",
    "c. Count the number of elements in the list.\n",
    "d. Reverse the sequence of the list.\n",
    "e. Sort the list in ascending and descending order.\n",
    "f. Get the index value for the element 44, and update the element with the number \n",
    "100."
   ]
  },
  {
   "cell_type": "code",
   "execution_count": 13,
   "id": "4aefd8d9-cd65-44d0-a1c8-f57f916bcd77",
   "metadata": {},
   "outputs": [
    {
     "name": "stdout",
     "output_type": "stream",
     "text": [
      "[0, 2, 4, 6, 8, 10, 12, 14, 16, 18, 20, 22, 24, 26, 28, 30, 32, 34, 36, 38, 40, 42, 44, 46, 48, 50, 52, 54, 56, 58, 60, 62, 64, 66, 68, 70, 72, 74, 76, 78, 80, 82, 84, 86, 88, 90, 92, 94, 96, 98]\n"
     ]
    }
   ],
   "source": [
    "# li = [2,4,6------]\n",
    "li = []\n",
    "for abc in range(0,100):\n",
    "    if abc%2 == 0:\n",
    "        # print(abc)\n",
    "        li.append(abc)\n",
    "\n",
    "print(li)\n"
   ]
  },
  {
   "cell_type": "code",
   "execution_count": 14,
   "id": "9a22967a-7e0b-4b1f-9ef7-005367f03b1d",
   "metadata": {},
   "outputs": [
    {
     "name": "stdout",
     "output_type": "stream",
     "text": [
      "50\n"
     ]
    }
   ],
   "source": [
    "print(len(li))"
   ]
  },
  {
   "cell_type": "code",
   "execution_count": 15,
   "id": "48609d3c-c0e3-47f0-8569-733d01fb62ed",
   "metadata": {},
   "outputs": [
    {
     "name": "stdout",
     "output_type": "stream",
     "text": [
      "[98, 96, 94, 92, 90, 88, 86, 84, 82, 80, 78, 76, 74, 72, 70, 68, 66, 64, 62, 60, 58, 56, 54, 52, 50, 48, 46, 44, 42, 40, 38, 36, 34, 32, 30, 28, 26, 24, 22, 20, 18, 16, 14, 12, 10, 8, 6, 4, 2, 0]\n"
     ]
    }
   ],
   "source": [
    "# d. Reverse the sequence of the list.\n",
    "print(li[::-1])"
   ]
  },
  {
   "cell_type": "code",
   "execution_count": 16,
   "id": "cb06ebea-0378-4b4a-8851-39c245bad056",
   "metadata": {},
   "outputs": [
    {
     "name": "stdout",
     "output_type": "stream",
     "text": [
      "[0, 2, 4, 6, 8, 10, 12, 14, 16, 18, 20, 22, 24, 26, 28, 30, 32, 34, 36, 38, 40, 42, 44, 46, 48, 50, 52, 54, 56, 58, 60, 62, 64, 66, 68, 70, 72, 74, 76, 78, 80, 82, 84, 86, 88, 90, 92, 94, 96, 98]\n"
     ]
    }
   ],
   "source": [
    "# e. Sort the list in ascending and descending order.\n",
    "li.sort()\n",
    "print(li)"
   ]
  },
  {
   "cell_type": "code",
   "execution_count": 17,
   "id": "401299e6-8f14-418b-a458-e419d99898a8",
   "metadata": {},
   "outputs": [
    {
     "name": "stdout",
     "output_type": "stream",
     "text": [
      "[98, 96, 94, 92, 90, 88, 86, 84, 82, 80, 78, 76, 74, 72, 70, 68, 66, 64, 62, 60, 58, 56, 54, 52, 50, 48, 46, 44, 42, 40, 38, 36, 34, 32, 30, 28, 26, 24, 22, 20, 18, 16, 14, 12, 10, 8, 6, 4, 2, 0]\n"
     ]
    }
   ],
   "source": [
    "li.sort(reverse = True)\n",
    "print(li)"
   ]
  },
  {
   "cell_type": "code",
   "execution_count": 18,
   "id": "b101aaff-295e-4747-be2c-f7a0a02fbd18",
   "metadata": {},
   "outputs": [
    {
     "data": {
      "text/plain": [
       "27"
      ]
     },
     "execution_count": 18,
     "metadata": {},
     "output_type": "execute_result"
    }
   ],
   "source": [
    "li.index(44)"
   ]
  },
  {
   "cell_type": "code",
   "execution_count": 22,
   "id": "8eaeebdf-73de-420f-be7f-b7575bf37dec",
   "metadata": {},
   "outputs": [
    {
     "name": "stdout",
     "output_type": "stream",
     "text": [
      "[98, 96, 94, 92, 90, 88, 86, 84, 82, 80, 78, 76, 74, 72, 70, 68, 66, 64, 62, 60, 58, 56, 54, 52, 50, 48, 46, 100, 42, 40, 38, 36, 34, 32, 30, 28, 26, 24, 22, 20, 18, 16, 14, 12, 10, 8, 6, 4, 2, 0]\n"
     ]
    }
   ],
   "source": [
    "li[27] = 100\n",
    "print(li)"
   ]
  },
  {
   "cell_type": "raw",
   "id": "07790dc5-9acd-415f-909c-be2dc4bf8dc4",
   "metadata": {},
   "source": [
    "12. Create a nested dictionary and perform the following operations.\n",
    "g. Return a list with the key value pairs from the dictionary.\n",
    "h. Return a list with just the keys from the dictionary.\n",
    "i. Remove the first and last key value from the dictionary.\n",
    "j. Update the last key value pair in the dictionary after removing in the 3rd step."
   ]
  },
  {
   "cell_type": "code",
   "execution_count": 34,
   "id": "8dda4e07-cc51-4697-82a7-da7f5f5418ad",
   "metadata": {},
   "outputs": [
    {
     "name": "stdout",
     "output_type": "stream",
     "text": [
      "{'dict1': {'key1': 'value1', 'key2': 'value2'}, 'dict2': {'key3': 'value3', 'key4': 'value4'}, 'dict3': {'key5': 'value5', 'key6': 'value6'}}\n"
     ]
    }
   ],
   "source": [
    "dict ={\n",
    "    'dict1' : {'key1':'value1','key2':'value2'},\n",
    "    'dict2' : {'key3':'value3','key4':'value4'},\n",
    "    'dict3' : {'key5':'value5','key6':'value6'}\n",
    "}\n",
    "print(dict)"
   ]
  },
  {
   "cell_type": "code",
   "execution_count": 25,
   "id": "5f7522c4-67d4-4750-847f-0d342695985a",
   "metadata": {},
   "outputs": [
    {
     "data": {
      "text/plain": [
       "dict_items([('dict1', {'key1': 'value1', 'key2': 'value2'}), ('dict2', {'key3': 'value3', 'key4': 'value4'}), ('dict3', {'key5': 'value5', 'key6': 'value6'})])"
      ]
     },
     "execution_count": 25,
     "metadata": {},
     "output_type": "execute_result"
    }
   ],
   "source": [
    "# g. Return a list with the key value pairs from the dictionary.\n",
    "dict.items()"
   ]
  },
  {
   "cell_type": "code",
   "execution_count": 36,
   "id": "56ba9a53-4d29-4c09-a87e-1312d9a0673f",
   "metadata": {},
   "outputs": [
    {
     "data": {
      "text/plain": [
       "dict_keys(['dict1', 'dict2', 'dict3'])"
      ]
     },
     "execution_count": 36,
     "metadata": {},
     "output_type": "execute_result"
    }
   ],
   "source": [
    "# h. Return a list with just the keys from the dictionary.\n",
    "dict.keys()"
   ]
  },
  {
   "cell_type": "code",
   "execution_count": 37,
   "id": "f9575f11-b76a-4fb3-9f16-7054c240e42f",
   "metadata": {},
   "outputs": [
    {
     "data": {
      "text/plain": [
       "dict_values([{'key1': 'value1', 'key2': 'value2'}, {'key3': 'value3', 'key4': 'value4'}, {'key5': 'value5', 'key6': 'value6'}])"
      ]
     },
     "execution_count": 37,
     "metadata": {},
     "output_type": "execute_result"
    }
   ],
   "source": [
    "dict.values()"
   ]
  },
  {
   "cell_type": "code",
   "execution_count": 38,
   "id": "65b70934-0062-46e0-8244-6aa3cf689513",
   "metadata": {},
   "outputs": [
    {
     "data": {
      "text/plain": [
       "{'dict2': {'key3': 'value3', 'key4': 'value4'},\n",
       " 'dict3': {'key5': 'value5', 'key6': 'value6'}}"
      ]
     },
     "execution_count": 38,
     "metadata": {},
     "output_type": "execute_result"
    }
   ],
   "source": [
    "# i. Remove the first and last key value from the dictionary.\n",
    "dict.pop('dict1')\n",
    "dict"
   ]
  },
  {
   "cell_type": "code",
   "execution_count": 39,
   "id": "b5cc96e4-64b1-4c65-b84d-d2dfd5c3077f",
   "metadata": {},
   "outputs": [
    {
     "data": {
      "text/plain": [
       "['dict2', 'dict3']"
      ]
     },
     "execution_count": 39,
     "metadata": {},
     "output_type": "execute_result"
    }
   ],
   "source": [
    "li = list(dict.keys())\n",
    "li"
   ]
  },
  {
   "cell_type": "code",
   "execution_count": 5,
   "id": "22ac73dd-cc81-4f5d-833d-a4eb6c152f00",
   "metadata": {},
   "outputs": [
    {
     "ename": "NameError",
     "evalue": "name 'li' is not defined",
     "output_type": "error",
     "traceback": [
      "\u001b[1;31m---------------------------------------------------------------------------\u001b[0m",
      "\u001b[1;31mNameError\u001b[0m                                 Traceback (most recent call last)",
      "Cell \u001b[1;32mIn[5], line 1\u001b[0m\n\u001b[1;32m----> 1\u001b[0m li\n",
      "\u001b[1;31mNameError\u001b[0m: name 'li' is not defined"
     ]
    }
   ],
   "source": [
    "li"
   ]
  },
  {
   "cell_type": "code",
   "execution_count": 40,
   "id": "7f0caf61-780d-42d8-a5ee-fb29e0190f99",
   "metadata": {},
   "outputs": [
    {
     "data": {
      "text/plain": [
       "'dict3'"
      ]
     },
     "execution_count": 40,
     "metadata": {},
     "output_type": "execute_result"
    }
   ],
   "source": [
    "li[1]"
   ]
  },
  {
   "cell_type": "code",
   "execution_count": 41,
   "id": "78d9c509-2474-4095-9c6c-7313ea0fead0",
   "metadata": {},
   "outputs": [
    {
     "name": "stdout",
     "output_type": "stream",
     "text": [
      "{'key5': 'value5', 'key6': 'value6'}\n"
     ]
    }
   ],
   "source": [
    "print(dict.pop(li[1]))\n"
   ]
  },
  {
   "cell_type": "code",
   "execution_count": 42,
   "id": "e609a01d-ce95-48d3-bd44-ceedda7d6dc7",
   "metadata": {},
   "outputs": [
    {
     "data": {
      "text/plain": [
       "{'dict2': {'key3': 'value3', 'key4': 'value4'}}"
      ]
     },
     "execution_count": 42,
     "metadata": {},
     "output_type": "execute_result"
    }
   ],
   "source": [
    "dict"
   ]
  },
  {
   "cell_type": "code",
   "execution_count": 43,
   "id": "5088c5e7-f9bb-46fa-8ecf-96d34a03b243",
   "metadata": {},
   "outputs": [
    {
     "data": {
      "text/plain": [
       "{'dict2': {'key3': 'value3', 'key4': 'value4'},\n",
       " 'dict3': {'key5': 'value5', 'key6': 'value6'}}"
      ]
     },
     "execution_count": 43,
     "metadata": {},
     "output_type": "execute_result"
    }
   ],
   "source": [
    "# j. Update the last key value pair in the dictionary after removing in the 3rd step.\n",
    "dict['dict3'] = {'key5': 'value5', 'key6': 'value6'}\n",
    "dict"
   ]
  },
  {
   "cell_type": "raw",
   "id": "e2633731-e2e0-4448-8fa9-8e0d1efd9d11",
   "metadata": {},
   "source": [
    "13. For the given strings A = “Python Programming Language”, B = “Best in the World” , perform \n",
    "the following operations.\n",
    "k. Using indexing operations, get the text “gram” from the string A.\n",
    "l. Using indexing operations, get the text “World” from the string B.\n",
    "m. Change the letters in both strings to Uppercase letters.\n",
    "n. Concatenate the two strings"
   ]
  },
  {
   "cell_type": "code",
   "execution_count": 44,
   "id": "0cabf5a2-8e97-4a5c-ac98-32885b6191ed",
   "metadata": {},
   "outputs": [],
   "source": [
    "A = \"Python Programming Language\"\n",
    "B = \"Best in the World\""
   ]
  },
  {
   "cell_type": "code",
   "execution_count": 45,
   "id": "975edfba-d0d9-4f7a-8d06-0433d48cafd5",
   "metadata": {},
   "outputs": [
    {
     "data": {
      "text/plain": [
       "'gram'"
      ]
     },
     "execution_count": 45,
     "metadata": {},
     "output_type": "execute_result"
    }
   ],
   "source": [
    "# k. Using indexing operations, get the text “gram” from the string A.\n",
    "A[10:14]"
   ]
  },
  {
   "cell_type": "code",
   "execution_count": 46,
   "id": "037accca-e3c6-4a1d-ae17-954c8223bfca",
   "metadata": {},
   "outputs": [
    {
     "data": {
      "text/plain": [
       "'World'"
      ]
     },
     "execution_count": 46,
     "metadata": {},
     "output_type": "execute_result"
    }
   ],
   "source": [
    "# l. Using indexing operations, get the text “World” from the string B.\n",
    "B[-5:]"
   ]
  },
  {
   "cell_type": "code",
   "execution_count": 47,
   "id": "62ca29cb-c220-4a42-bccf-72465affe889",
   "metadata": {},
   "outputs": [
    {
     "data": {
      "text/plain": [
       "'PYTHON PROGRAMMING LANGUAGE'"
      ]
     },
     "execution_count": 47,
     "metadata": {},
     "output_type": "execute_result"
    }
   ],
   "source": [
    "# m. Change the letters in both strings to Uppercase letters.\n",
    "A.upper()"
   ]
  },
  {
   "cell_type": "code",
   "execution_count": 49,
   "id": "04cabd11-f058-403d-913e-2aee658b9ea4",
   "metadata": {},
   "outputs": [
    {
     "data": {
      "text/plain": [
       "'Python Programming Language Best in the World'"
      ]
     },
     "execution_count": 49,
     "metadata": {},
     "output_type": "execute_result"
    }
   ],
   "source": [
    "# n. Concatenate the two strings\n",
    "A +\" \"+ B"
   ]
  },
  {
   "cell_type": "code",
   "execution_count": null,
   "id": "192af755-5925-41ab-835c-238cb2d5679e",
   "metadata": {},
   "outputs": [],
   "source": [
    "li = []\n",
    "for abc in range(0,100):\n",
    "    if abc%2 == 0:\n",
    "        li.append(abc)\n",
    "\n",
    "print(li)\n"
   ]
  },
  {
   "cell_type": "code",
   "execution_count": 52,
   "id": "3c4efb4f-d8dc-4b1c-b92e-615bbf7f6cea",
   "metadata": {},
   "outputs": [
    {
     "name": "stdin",
     "output_type": "stream",
     "text": [
      "How many number you want to input 4\n",
      "Enter a number 45\n",
      "Enter a number 67\n",
      "Enter a number 78\n",
      "Enter a number 45\n"
     ]
    },
    {
     "name": "stdout",
     "output_type": "stream",
     "text": [
      "[45, 67, 78, 45]\n"
     ]
    }
   ],
   "source": [
    "len = int(input(\"How many number you want to input\"))\n",
    "\n",
    "li =[] \n",
    "for i in range(len):\n",
    "    # print(i)\n",
    "    num = int(input(\"Enter a number\"))\n",
    "    # print(num)\n",
    "    li.append(num)\n",
    "print(li)    "
   ]
  },
  {
   "cell_type": "code",
   "execution_count": 57,
   "id": "06cf523e-5a3b-489e-af43-d7a0199939a8",
   "metadata": {},
   "outputs": [
    {
     "name": "stdout",
     "output_type": "stream",
     "text": [
      "The key is name and the value is Nagaraj\n",
      "The key is email and the value is {'n@gmail.com': 12}\n",
      "The key is phone and the value is 112233\n"
     ]
    }
   ],
   "source": [
    "d1 = {\n",
    "    \"name\" : \"Nagaraj\",\n",
    "    \"email\": {\"n@gmail.com\":12},\n",
    "    \"phone\" : 112233\n",
    "}\n",
    "for i,j in d1.items():\n",
    "    print(f\"The key is {i} and the value is {j}\")"
   ]
  },
  {
   "cell_type": "markdown",
   "id": "334e6108-d73d-43f5-8989-1d475d696f36",
   "metadata": {},
   "source": [
    "For a given list that contains numbers from 1 to 20. Using a for loop, create a new list that contains the square of each element from the given list.\n",
    "\n",
    "2.\tA tuple contains even numbers from 1-20. Display all the items in a tuple using a for loop.\n",
    "\n",
    "3.\tPrint the first 5 multiples of a user input number using a for loop.\n",
    "   \n",
    "4.\tCreate a nested for loop to print a 90 degree right angle triangle pattern program in python."
   ]
  },
  {
   "cell_type": "code",
   "execution_count": 7,
   "id": "d8e57197-5c1a-44ce-ba4d-12f0e507bcf1",
   "metadata": {},
   "outputs": [
    {
     "name": "stdout",
     "output_type": "stream",
     "text": [
      "{'dict1': {'key1': 'value1', 'key2': 'value2'}, 'dict2': {'key3': 'value3', 'key4': 'value4'}, 'dict3': {'key5': 'value5', 'key6': 'value6'}}\n"
     ]
    }
   ],
   "source": [
    "dict ={\n",
    "    'dict1' : {'key1':'value1','key2':'value2'},\n",
    "    'dict2' : {'key3':'value3','key4':'value4'},\n",
    "    'dict3' : {'key5':'value5','key6':'value6'}\n",
    "}\n",
    "print(dict)\n"
   ]
  },
  {
   "cell_type": "code",
   "execution_count": 11,
   "id": "ac63c953-4219-4082-b4e8-afb909187b30",
   "metadata": {},
   "outputs": [
    {
     "data": {
      "text/plain": [
       "dict_items([('dict1', {'key1': 'value1', 'key2': 'value2'}), ('dict2', {'key3': 'value3', 'key4': 'value4'}), ('dict3', {'key5': 'value5', 'key6': 'value6'})])"
      ]
     },
     "execution_count": 11,
     "metadata": {},
     "output_type": "execute_result"
    }
   ],
   "source": [
    "dict.items()"
   ]
  },
  {
   "cell_type": "code",
   "execution_count": 19,
   "id": "f6b4fed6-47fd-40ab-b067-bc6d66874029",
   "metadata": {},
   "outputs": [
    {
     "name": "stdout",
     "output_type": "stream",
     "text": [
      "<class 'dict_items'>\n"
     ]
    }
   ],
   "source": [
    "li = dict.items()\n",
    "\n",
    "print(type(li))"
   ]
  },
  {
   "cell_type": "code",
   "execution_count": 21,
   "id": "7f916dee-2db3-4552-a837-7297167589af",
   "metadata": {},
   "outputs": [
    {
     "data": {
      "text/plain": [
       "dict_values([{'key1': 'value1', 'key2': 'value2'}, {'key3': 'value3', 'key4': 'value4'}, {'key5': 'value5', 'key6': 'value6'}])"
      ]
     },
     "execution_count": 21,
     "metadata": {},
     "output_type": "execute_result"
    }
   ],
   "source": [
    "dict.values()"
   ]
  },
  {
   "cell_type": "code",
   "execution_count": 33,
   "id": "d72ec4ec-e6a3-405b-bbd4-f6c6c7171755",
   "metadata": {},
   "outputs": [],
   "source": [
    "e = dict.keys()"
   ]
  },
  {
   "cell_type": "code",
   "execution_count": 35,
   "id": "7d7549d6-8589-4015-ad42-2ac1723c1ab4",
   "metadata": {},
   "outputs": [
    {
     "name": "stdout",
     "output_type": "stream",
     "text": [
      "<class 'dict_keys'>\n"
     ]
    }
   ],
   "source": [
    "print(type(dict.keys()))"
   ]
  },
  {
   "cell_type": "code",
   "execution_count": 39,
   "id": "4f13344e-576c-4cfa-923d-e9e53efba309",
   "metadata": {},
   "outputs": [
    {
     "ename": "AttributeError",
     "evalue": "'dict_keys' object has no attribute 'index'",
     "output_type": "error",
     "traceback": [
      "\u001b[1;31m---------------------------------------------------------------------------\u001b[0m",
      "\u001b[1;31mAttributeError\u001b[0m                            Traceback (most recent call last)",
      "Cell \u001b[1;32mIn[39], line 1\u001b[0m\n\u001b[1;32m----> 1\u001b[0m e\u001b[38;5;241m.\u001b[39mindex(\u001b[38;5;241m1\u001b[39m)\n",
      "\u001b[1;31mAttributeError\u001b[0m: 'dict_keys' object has no attribute 'index'"
     ]
    }
   ],
   "source": []
  },
  {
   "cell_type": "code",
   "execution_count": 46,
   "id": "b6f27096-ecaf-416c-be8a-c9eecf26298c",
   "metadata": {},
   "outputs": [
    {
     "name": "stdout",
     "output_type": "stream",
     "text": [
      "123\n",
      "raju\n",
      "8\n",
      "<__main__.Student object at 0x00000236D08A0B00>\n",
      "<__main__.Student object at 0x00000236D08A07A0>\n"
     ]
    }
   ],
   "source": [
    "class Student:\n",
    "    regno = 123\n",
    "\n",
    "    def myfun(self):\n",
    "        \n",
    "        print(\"raju\")\n",
    "        t = 8\n",
    "        print(t)\n",
    "\n",
    "ob = Student()\n",
    "ob1 = Student()\n",
    "print(ob.regno)\n",
    "ob.myfun()\n",
    "\n",
    "print(ob)\n",
    "\n",
    "print(ob1)\n"
   ]
  },
  {
   "cell_type": "code",
   "execution_count": 25,
   "id": "729bdedd-2623-40bf-9b87-3d473691187d",
   "metadata": {},
   "outputs": [
    {
     "name": "stdout",
     "output_type": "stream",
     "text": [
      "<class 'type'>\n"
     ]
    }
   ],
   "source": [
    "print(type(Student))"
   ]
  },
  {
   "cell_type": "code",
   "execution_count": null,
   "id": "554d837d-e391-40ea-b994-6eaaf217d187",
   "metadata": {},
   "outputs": [],
   "source": []
  },
  {
   "cell_type": "code",
   "execution_count": null,
   "id": "9e13432c-7447-4a7c-a332-44879832575c",
   "metadata": {},
   "outputs": [],
   "source": []
  }
 ],
 "metadata": {
  "kernelspec": {
   "display_name": "Python [conda env:base] *",
   "language": "python",
   "name": "conda-base-py"
  },
  "language_info": {
   "codemirror_mode": {
    "name": "ipython",
    "version": 3
   },
   "file_extension": ".py",
   "mimetype": "text/x-python",
   "name": "python",
   "nbconvert_exporter": "python",
   "pygments_lexer": "ipython3",
   "version": "3.12.7"
  }
 },
 "nbformat": 4,
 "nbformat_minor": 5
}
