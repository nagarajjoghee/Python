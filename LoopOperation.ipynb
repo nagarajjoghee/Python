{
 "cells": [
  {
   "cell_type": "code",
   "execution_count": 49,
   "id": "e2001e14-19b7-4bd5-a11a-8eb12f0e0364",
   "metadata": {},
   "outputs": [
    {
     "name": "stdin",
     "output_type": "stream",
     "text": [
      "Enter a number to check if it's prime:  23\n"
     ]
    },
    {
     "name": "stdout",
     "output_type": "stream",
     "text": [
      "23 is a prime number.\n"
     ]
    }
   ],
   "source": [
    "# Function to check if a number is prime\n",
    "def is_prime(num):\n",
    "    # Numbers less than 2 are not prime\n",
    "    if num < 2:\n",
    "        return False\n",
    "    # Check for factors from 2 up to the square root of num\n",
    "    for i in range(2, int(num**0.5) + 1):\n",
    "        if num % i == 0:\n",
    "            return False\n",
    "    return True\n",
    "\n",
    "# Input: Enter a number to check\n",
    "number = int(input(\"Enter a number to check if it's prime: \"))\n",
    "\n",
    "# Output: Display the result\n",
    "if is_prime(number):\n",
    "    print(number, \"is a prime number.\")\n",
    "else:\n",
    "    print(number, \"is not a prime number.\")\n"
   ]
  },
  {
   "cell_type": "code",
   "execution_count": null,
   "id": "0fdf3c24-64b9-435c-9479-5232e8f83569",
   "metadata": {},
   "outputs": [],
   "source": []
  },
  {
   "cell_type": "raw",
   "id": "e2c2f103-821d-4190-a0da-fd04083be47f",
   "metadata": {},
   "source": [
    "Sum of Natural Numbers\n",
    "\n",
    "Print Multiplication Table\n",
    "\n",
    "Count Digits in a Number\n",
    "\n",
    "Sum of Digits in a Number\n",
    "\n",
    "Check for Prime Number\n",
    "\n",
    "Find the Largest Number in a List"
   ]
  },
  {
   "cell_type": "code",
   "execution_count": 5,
   "id": "296cbb7c-3ce4-4fef-81a4-d10489f42f1c",
   "metadata": {},
   "outputs": [
    {
     "name": "stdout",
     "output_type": "stream",
     "text": [
      "The largest number in the list is: 99\n",
      "The largest number in the list is: -45\n"
     ]
    }
   ],
   "source": [
    "#Find the Largest Number in a List\n",
    "numbers = [10, 35, 68, 2, 99, -45, 37]\n",
    "\n",
    "# Finding the largest number using max()\n",
    "largest_number = max(numbers)\n",
    "lowest_number = min(numbers)\n",
    "print(\"The largest number in the list is:\", largest_number)\n",
    "print(\"The largest number in the list is:\", lowest_number)\n"
   ]
  },
  {
   "cell_type": "code",
   "execution_count": null,
   "id": "53c35b89-3289-4d86-bdf4-72a946b9fd2a",
   "metadata": {},
   "outputs": [],
   "source": []
  },
  {
   "cell_type": "code",
   "execution_count": 17,
   "id": "5221c2db-a49b-4d88-9445-dcb918f2a73b",
   "metadata": {},
   "outputs": [
    {
     "name": "stdin",
     "output_type": "stream",
     "text": [
      "Enter a number to check if it's prime:  11\n"
     ]
    },
    {
     "name": "stdout",
     "output_type": "stream",
     "text": [
      "11 is a prime number.\n"
     ]
    }
   ],
   "source": [
    "# Input: Enter a number to check\n",
    "number = int(input(\"Enter a number to check if it's prime: \"))\n",
    "\n",
    "# Prime number check\n",
    "if number > 1:\n",
    "    for i in range(2, int(number**0.5) + 1):\n",
    "        if (number % i) == 0:\n",
    "            print(number, \"is not a prime number.\")\n",
    "            break\n",
    "    else:\n",
    "        print(number, \"is a prime number.\")\n",
    "else:\n",
    "    print(number, \"is not a prime number.\")\n"
   ]
  },
  {
   "cell_type": "code",
   "execution_count": 19,
   "id": "8f426daa-01d2-4408-9cb3-d20b8398cdfc",
   "metadata": {},
   "outputs": [
    {
     "data": {
      "text/plain": [
       "3"
      ]
     },
     "execution_count": 19,
     "metadata": {},
     "output_type": "execute_result"
    }
   ],
   "source": [
    "int(number**0.5)"
   ]
  },
  {
   "cell_type": "code",
   "execution_count": 27,
   "id": "ac1b35a5-03c1-42d6-b990-69fc7c66f84c",
   "metadata": {},
   "outputs": [
    {
     "name": "stdin",
     "output_type": "stream",
     "text": [
      "Enter a number:  13\n"
     ]
    },
    {
     "name": "stdout",
     "output_type": "stream",
     "text": [
      "The sum of the digits is: 4\n"
     ]
    }
   ],
   "source": [
    "# Input: Enter a number\n",
    "number = int(input(\"Enter a number: \"))\n",
    "\n",
    "# Initialize the sum\n",
    "sum_of_digits = 0\n",
    "\n",
    "# Process each digit\n",
    "while number > 0:\n",
    "    digit = number % 10\n",
    "    sum_of_digits += digit\n",
    "    number = number // 10\n",
    "\n",
    "# Output: Display the sum of digits\n",
    "print(\"The sum of the digits is:\", sum_of_digits)\n"
   ]
  },
  {
   "cell_type": "code",
   "execution_count": 43,
   "id": "5028758d-7302-467f-b992-263ee09e0897",
   "metadata": {},
   "outputs": [
    {
     "name": "stdin",
     "output_type": "stream",
     "text": [
      "Enter a number:  12\n"
     ]
    },
    {
     "name": "stdout",
     "output_type": "stream",
     "text": [
      "The number of digits is: 2\n"
     ]
    }
   ],
   "source": [
    "# Input: Enter a number\n",
    "number = int(input(\"Enter a number: \"))\n",
    "\n",
    "# Initialize a counter\n",
    "number_of_digits = 0\n",
    "\n",
    "# Process each digit\n",
    "if number == 0:\n",
    "    number_of_digits = 1\n",
    "else:\n",
    "    while number > 0:\n",
    "        number_of_digits += 1\n",
    "        number = number // 10\n",
    "\n",
    "# Output: Display the number of digits\n",
    "print(\"The number of digits is:\", number_of_digits)\n"
   ]
  },
  {
   "cell_type": "code",
   "execution_count": 53,
   "id": "e890443c-ca2f-4fe9-a39b-b06a50e94b53",
   "metadata": {
    "scrolled": true
   },
   "outputs": [
    {
     "name": "stdin",
     "output_type": "stream",
     "text": [
      "Enter a number:  7\n"
     ]
    },
    {
     "name": "stdout",
     "output_type": "stream",
     "text": [
      "Multiplication Table for 7:\n",
      "7 x 0 = 0\n",
      "7 x 1 = 7\n",
      "7 x 2 = 14\n",
      "7 x 3 = 21\n",
      "7 x 4 = 28\n",
      "7 x 5 = 35\n",
      "7 x 6 = 42\n",
      "7 x 7 = 49\n",
      "7 x 8 = 56\n",
      "7 x 9 = 63\n",
      "7 x 10 = 70\n"
     ]
    }
   ],
   "source": [
    "# Input: Enter the number for which you want the multiplication table\n",
    "number = int(input(\"Enter a number: \"))\n",
    "\n",
    "# Loop through 1 to 10 and print the multiplication table\n",
    "print(f\"Multiplication Table for {number}:\")\n",
    "for i in range(0, 11):\n",
    "    print(f\"{number} x {i} = {number * i}\")\n"
   ]
  },
  {
   "cell_type": "code",
   "execution_count": 17,
   "id": "dc718131-7e11-4213-b057-a5f41537e0c8",
   "metadata": {},
   "outputs": [
    {
     "name": "stdout",
     "output_type": "stream",
     "text": [
      "0\n",
      "1\n",
      "2\n",
      "3\n",
      "4\n",
      "5\n",
      "6\n",
      "7\n",
      "8\n",
      "9\n"
     ]
    }
   ],
   "source": [
    "for i in range(10):\n",
    "\n",
    "    print(i)"
   ]
  },
  {
   "cell_type": "code",
   "execution_count": 23,
   "id": "76f76f77-95c8-472b-8f71-febf654d18ea",
   "metadata": {},
   "outputs": [
    {
     "name": "stdout",
     "output_type": "stream",
     "text": [
      "5\n",
      "7\n",
      "9\n",
      "11\n",
      "13\n",
      "15\n",
      "17\n",
      "19\n"
     ]
    }
   ],
   "source": [
    "for i in range(5,21,2):\n",
    "    print(i)\n"
   ]
  },
  {
   "cell_type": "code",
   "execution_count": 25,
   "id": "c3733543-8927-430a-b673-bbe550088118",
   "metadata": {},
   "outputs": [],
   "source": [
    "a=2\n",
    "b=3\n",
    "c=a+b\n",
    "c=a*b\n"
   ]
  },
  {
   "cell_type": "code",
   "execution_count": 27,
   "id": "e4f845d0-0dc2-425b-adf9-872074e873b6",
   "metadata": {},
   "outputs": [
    {
     "name": "stdout",
     "output_type": "stream",
     "text": [
      "Addition: 15\n",
      "Subtraction: 5\n",
      "Multiplication: 50\n",
      "Division: 2.0\n"
     ]
    }
   ],
   "source": [
    "def arith(a, b):\n",
    "    \"\"\"Performs basic arithmetic operations on two numbers.\"\"\"\n",
    "    addition = a + b\n",
    "    subtraction = a - b\n",
    "    multiplication = a * b\n",
    "    division = a / b if b != 0 else 'Division by zero error'\n",
    "    \n",
    "    return addition, subtraction, multiplication, division\n",
    "\n",
    "# Example usage:\n",
    "result = arith(10, 5)\n",
    "print(f\"Addition: {result[0]}\")\n",
    "print(f\"Subtraction: {result[1]}\")\n",
    "print(f\"Multiplication: {result[2]}\")\n",
    "print(f\"Division: {result[3]}\")\n"
   ]
  },
  {
   "cell_type": "code",
   "execution_count": null,
   "id": "34618cc3-b374-4b4c-97c7-2fe445283e6b",
   "metadata": {},
   "outputs": [],
   "source": [
    "def add(a,b):\n",
    "    return a+b\n",
    "\n",
    "def subt(a,b):\n",
    "    return a-b\n",
    "\n",
    "def mult(a,b):\n",
    "    return a*b\n",
    "    "
   ]
  }
 ],
 "metadata": {
  "kernelspec": {
   "display_name": "Python [conda env:base] *",
   "language": "python",
   "name": "conda-base-py"
  },
  "language_info": {
   "codemirror_mode": {
    "name": "ipython",
    "version": 3
   },
   "file_extension": ".py",
   "mimetype": "text/x-python",
   "name": "python",
   "nbconvert_exporter": "python",
   "pygments_lexer": "ipython3",
   "version": "3.12.7"
  }
 },
 "nbformat": 4,
 "nbformat_minor": 5
}
