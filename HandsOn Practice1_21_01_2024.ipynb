{
 "cells": [
  {
   "cell_type": "markdown",
   "id": "672e4185-697b-442a-a8fb-9be910bb3a3e",
   "metadata": {},
   "source": [
    "6. Create a python if-else program to check whether the given number is an armstrong \n",
    "number or not, and check whether the given number is a prime number or not. Make \n",
    "use of python if-else, and elif statements for the same."
   ]
  },
  {
   "cell_type": "code",
   "execution_count": 4,
   "id": "191db5ee-1aa6-4b68-9d58-b1d26e873825",
   "metadata": {},
   "outputs": [
    {
     "data": {
      "text/plain": [
       "153"
      ]
     },
     "execution_count": 4,
     "metadata": {},
     "output_type": "execute_result"
    }
   ],
   "source": [
    "# a number that is equal to the sum of its own digits, each raised to the power of the number of digits.\n",
    "# 153 = 1 **3 + 5**3 + 3 **3\n",
    "1 **3 + 5**3 + 3 **3"
   ]
  },
  {
   "cell_type": "code",
   "execution_count": 5,
   "id": "c2166235-34fe-4455-92f2-aa5b17b51df6",
   "metadata": {},
   "outputs": [
    {
     "name": "stdin",
     "output_type": "stream",
     "text": [
      "Enter the number 10\n"
     ]
    },
    {
     "name": "stdout",
     "output_type": "stream",
     "text": [
      "10 is not an armstrong number\n"
     ]
    }
   ],
   "source": [
    "num1 = int(input(\"Enter the number\"))\n",
    "\n",
    "s1 = str(num1)\n",
    "# print(s1)\n",
    "l = len(s1)\n",
    "sum = 0\n",
    "for num in s1:\n",
    "    # print(num)\n",
    "    sum = sum + int(num) ** l\n",
    "\n",
    "if sum == num1:\n",
    "    print(f\"{num1} is an armstrong number\")\n",
    "\n",
    "else:\n",
    "    print(f\"{num1} is not an armstrong number\")\n"
   ]
  },
  {
   "cell_type": "code",
   "execution_count": 23,
   "id": "0892d16d-533a-45f8-ae2e-e7a02875c3fc",
   "metadata": {},
   "outputs": [
    {
     "data": {
      "text/plain": [
       "153"
      ]
     },
     "execution_count": 23,
     "metadata": {},
     "output_type": "execute_result"
    }
   ],
   "source": [
    "# sum = 126 -> 153\n",
    "# 0 + 1**3 \n",
    "# 1 + 5 **3\n",
    "126 + 3 ** 3"
   ]
  },
  {
   "cell_type": "code",
   "execution_count": 25,
   "id": "f9897e00-cfbe-47e7-ad0a-4a6ca0a0970c",
   "metadata": {},
   "outputs": [
    {
     "name": "stdout",
     "output_type": "stream",
     "text": [
      "<class 'str'>\n",
      "<class 'str'>\n",
      "<class 'str'>\n"
     ]
    }
   ],
   "source": [
    "for i in \"153\":\n",
    "    print(type(i))"
   ]
  },
  {
   "cell_type": "code",
   "execution_count": 13,
   "id": "7df24b94-2ee9-417c-8840-b8f2eea56fd7",
   "metadata": {},
   "outputs": [
    {
     "name": "stdout",
     "output_type": "stream",
     "text": [
      "153\n"
     ]
    }
   ],
   "source": [
    "num = 153\n",
    "s1 = str(num)\n",
    "l = len(s1)\n",
    "print(s1)"
   ]
  },
  {
   "cell_type": "code",
   "execution_count": 36,
   "id": "19da4b84-adac-4919-91db-c329171c6510",
   "metadata": {},
   "outputs": [
    {
     "name": "stdout",
     "output_type": "stream",
     "text": [
      "1\n",
      "5\n",
      "3\n"
     ]
    }
   ],
   "source": [
    "num1 = 153\n",
    "digits = str(num1)\n",
    "# print(digits)\n",
    "# print(type(digits))\n",
    "l = len(digits)\n",
    "sum = 0\n",
    "for num in digits:\n",
    "    print(num)\n",
    "    sum = sum + num ** l"
   ]
  },
  {
   "cell_type": "code",
   "execution_count": 40,
   "id": "80e16402-8a98-4df0-aac2-46147bc90f1b",
   "metadata": {},
   "outputs": [
    {
     "data": {
      "text/plain": [
       "126"
      ]
     },
     "execution_count": 40,
     "metadata": {},
     "output_type": "execute_result"
    }
   ],
   "source": [
    "# sum = 1 ,126\n",
    "# 0 + 1 ** 3\n",
    "1 + 5 **3"
   ]
  },
  {
   "cell_type": "code",
   "execution_count": 33,
   "id": "a83c109b-8a60-4874-96af-c17c009d6cb8",
   "metadata": {},
   "outputs": [
    {
     "name": "stdout",
     "output_type": "stream",
     "text": [
      "1\n",
      "5\n",
      "3\n"
     ]
    }
   ],
   "source": [
    "# 153 = 1 **3 + 5**3 + 3 **3\n",
    "1 **3 + 5**3 + 3 **3\n",
    "for num in \"153\":\n",
    "    print(i)\n",
    "    sum = sum "
   ]
  },
  {
   "cell_type": "code",
   "execution_count": 71,
   "id": "f37b246f-ef79-4d30-aaac-ee3cd0bb9235",
   "metadata": {},
   "outputs": [
    {
     "name": "stdin",
     "output_type": "stream",
     "text": [
      "Enter a number 8\n"
     ]
    },
    {
     "name": "stdout",
     "output_type": "stream",
     "text": [
      "2\n",
      "8 is not a prime number\n"
     ]
    }
   ],
   "source": [
    "num = int(input(\"Enter a number\"))\n",
    "\n",
    "for i in range(2,num):\n",
    "    print(i)\n",
    "    if num % i == 0:\n",
    "        print(num, \"is not a prime number\")\n",
    "        break\n",
    "\n",
    "else :\n",
    "    print(num, \"is a prime number\")"
   ]
  },
  {
   "cell_type": "code",
   "execution_count": 58,
   "id": "88ba6d71-15fb-401f-8b2f-89d22de8c51c",
   "metadata": {},
   "outputs": [
    {
     "data": {
      "text/plain": [
       "0"
      ]
     },
     "execution_count": 58,
     "metadata": {},
     "output_type": "execute_result"
    }
   ],
   "source": [
    "2,3,5,7,11,13,19 --------"
   ]
  },
  {
   "cell_type": "code",
   "execution_count": 68,
   "id": "151db827-973e-4635-a35a-9d251e1f29cb",
   "metadata": {},
   "outputs": [
    {
     "data": {
      "text/plain": [
       "0"
      ]
     },
     "execution_count": 68,
     "metadata": {},
     "output_type": "execute_result"
    }
   ],
   "source": [
    "num = 9\n",
    "num % 3"
   ]
  },
  {
   "cell_type": "code",
   "execution_count": null,
   "id": "bbb06b2d-06a2-4cc3-b535-249642256c53",
   "metadata": {},
   "outputs": [],
   "source": [
    "2,3,4,5,6,7,8"
   ]
  }
 ],
 "metadata": {
  "kernelspec": {
   "display_name": "Python [conda env:base] *",
   "language": "python",
   "name": "conda-base-py"
  },
  "language_info": {
   "codemirror_mode": {
    "name": "ipython",
    "version": 3
   },
   "file_extension": ".py",
   "mimetype": "text/x-python",
   "name": "python",
   "nbconvert_exporter": "python",
   "pygments_lexer": "ipython3",
   "version": "3.12.7"
  }
 },
 "nbformat": 4,
 "nbformat_minor": 5
}
