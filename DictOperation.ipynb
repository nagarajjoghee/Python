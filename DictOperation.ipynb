{
 "cells": [
  {
   "cell_type": "raw",
   "id": "3523aa43-1fe5-4c89-aeb5-baaac56a4b81",
   "metadata": {},
   "source": [
    "Dictionary\n",
    "store the data in the key: value form\n",
    "ordered , changeable and do not allow duplicates"
   ]
  },
  {
   "cell_type": "code",
   "execution_count": 1,
   "id": "a2bba45d-f32f-4868-8954-41729dcc1d7d",
   "metadata": {},
   "outputs": [
    {
     "data": {
      "text/plain": [
       "{'name': 'nagu', 'age': '35', 'dept': 'comp'}"
      ]
     },
     "execution_count": 1,
     "metadata": {},
     "output_type": "execute_result"
    }
   ],
   "source": [
    "d1 = {\n",
    "    'name':'nagu',\n",
    "    'age':'35',\n",
    "    'dept':'comp'\n",
    "}\n",
    "d1"
   ]
  },
  {
   "cell_type": "code",
   "execution_count": 3,
   "id": "21b6eddb-ee37-49a9-9b21-ed6ca0a08747",
   "metadata": {},
   "outputs": [
    {
     "name": "stdout",
     "output_type": "stream",
     "text": [
      "<class 'dict'>\n"
     ]
    }
   ],
   "source": [
    "print(type(d1))"
   ]
  },
  {
   "cell_type": "code",
   "execution_count": 7,
   "id": "f5b58cd5-7c99-42cd-bd1a-f3afa0bb4312",
   "metadata": {},
   "outputs": [
    {
     "data": {
      "text/plain": [
       "{'name': 'raju', 'age': '35', 'dept': 'comp'}"
      ]
     },
     "execution_count": 7,
     "metadata": {},
     "output_type": "execute_result"
    }
   ],
   "source": [
    "d1['name'] = 'raju'\n",
    "d1"
   ]
  },
  {
   "cell_type": "code",
   "execution_count": 3,
   "id": "77f29f54-b594-4ea1-b4c3-b24794b67d3d",
   "metadata": {},
   "outputs": [
    {
     "data": {
      "text/plain": [
       "123"
      ]
     },
     "execution_count": 3,
     "metadata": {},
     "output_type": "execute_result"
    }
   ],
   "source": [
    "d1 = {\n",
    "    'name' : 'Gaurav' ,\n",
    "    'age' : 45,\n",
    "    'phone_no' :123\n",
    "}\n",
    "d1['phone_no']"
   ]
  },
  {
   "cell_type": "code",
   "execution_count": 17,
   "id": "e1aa6c55-9572-4aba-a3ce-32a75ddfd304",
   "metadata": {},
   "outputs": [
    {
     "data": {
      "text/plain": [
       "{'name': 'Gaurav', 'age': 45, 'phone_no': 4567}"
      ]
     },
     "execution_count": 17,
     "metadata": {},
     "output_type": "execute_result"
    }
   ],
   "source": [
    "d1 = {\n",
    "    'name' : 'Gaurav' ,\n",
    "    'age' : 45,\n",
    "    'phone_no' :123\n",
    "}\n",
    "\n",
    "d1['phone_no'] = 4567\n",
    "d1"
   ]
  },
  {
   "cell_type": "code",
   "execution_count": 19,
   "id": "96925bc3-b364-48e0-a2b4-13365fc97983",
   "metadata": {},
   "outputs": [
    {
     "data": {
      "text/plain": [
       "{'name': 'Gaurav', 'age': 45, 'phone_no': 123, 'color': 'Black'}"
      ]
     },
     "execution_count": 19,
     "metadata": {},
     "output_type": "execute_result"
    }
   ],
   "source": [
    "d1 = {\n",
    "    'name' : 'Gaurav' ,\n",
    "    'age' : 45,\n",
    "    'phone_no' :123\n",
    "}\n",
    "d1['color'] = \"Black\"\n",
    "d1"
   ]
  },
  {
   "cell_type": "code",
   "execution_count": 23,
   "id": "f8eaa973-d975-4381-8880-a1f8e038bcb6",
   "metadata": {},
   "outputs": [
    {
     "data": {
      "text/plain": [
       "123"
      ]
     },
     "execution_count": 23,
     "metadata": {},
     "output_type": "execute_result"
    }
   ],
   "source": [
    "d1 = {\n",
    "    'name' : 'Gaurav' ,\n",
    "    'age' : 45,\n",
    "    'phone_no' :123\n",
    "}\n",
    "\n",
    "d1['phone_no']\n"
   ]
  },
  {
   "cell_type": "code",
   "execution_count": 41,
   "id": "e1958c16-7cca-48e4-86e8-ac8681abf6f7",
   "metadata": {},
   "outputs": [
    {
     "data": {
      "text/plain": [
       "{'name': 'Gaurav',\n",
       " 'age': 45,\n",
       " 'phone_no': 45,\n",
       " 'address': ['aa', 'bb'],\n",
       " 34: 'hello',\n",
       " (12, 36, 5): 'hello'}"
      ]
     },
     "execution_count": 41,
     "metadata": {},
     "output_type": "execute_result"
    }
   ],
   "source": [
    "d1 = {\n",
    "    'name' : 'Gaurav' ,\n",
    "    'age' : 45,\n",
    "    'phone_no' :45,\n",
    "    'address':['aa','bb'],\n",
    "    34: \"hello\",\n",
    "    (12,36,5): \"hello\"\n",
    "}\n",
    "d1"
   ]
  },
  {
   "cell_type": "code",
   "execution_count": 45,
   "id": "0d5dc552-9d9f-45b9-9551-b47e9a8c1e2c",
   "metadata": {},
   "outputs": [
    {
     "data": {
      "text/plain": [
       "'hello'"
      ]
     },
     "execution_count": 45,
     "metadata": {},
     "output_type": "execute_result"
    }
   ],
   "source": [
    "d1[(12, 36, 5)]"
   ]
  },
  {
   "cell_type": "code",
   "execution_count": 57,
   "id": "7180a58d-d70c-4702-a96a-599cff439331",
   "metadata": {},
   "outputs": [
    {
     "data": {
      "text/plain": [
       "{'name': 'Gaurav',\n",
       " 'age': 45,\n",
       " 'phone_no': 45,\n",
       " 'address': ['aa', 'bb'],\n",
       " 34: 'hello',\n",
       " (12, 36, 5): 'hello'}"
      ]
     },
     "execution_count": 57,
     "metadata": {},
     "output_type": "execute_result"
    }
   ],
   "source": [
    "d1 = {\n",
    "    'name' : 'Gaurav' ,\n",
    "    'age' : 45,\n",
    "    'phone_no' :45,\n",
    "    'address':['aa','bb'],\n",
    "    34: \"hello\",\n",
    "    (12,36,5): \"hello\"\n",
    "}\n",
    "d1"
   ]
  },
  {
   "cell_type": "code",
   "execution_count": 59,
   "id": "9650604d-5f39-46ed-81ea-edfc6093f3b1",
   "metadata": {},
   "outputs": [],
   "source": [
    "#Delete key\n",
    "del d1[34]"
   ]
  },
  {
   "cell_type": "code",
   "execution_count": 61,
   "id": "381ae931-27ac-459d-ab7b-9fbd7df110b3",
   "metadata": {},
   "outputs": [
    {
     "data": {
      "text/plain": [
       "{'name': 'Gaurav',\n",
       " 'age': 45,\n",
       " 'phone_no': 45,\n",
       " 'address': ['aa', 'bb'],\n",
       " (12, 36, 5): 'hello'}"
      ]
     },
     "execution_count": 61,
     "metadata": {},
     "output_type": "execute_result"
    }
   ],
   "source": [
    "d1"
   ]
  },
  {
   "cell_type": "code",
   "execution_count": 63,
   "id": "8237e5eb-8189-4c5f-a3eb-875b0ebbde7d",
   "metadata": {},
   "outputs": [
    {
     "name": "stdout",
     "output_type": "stream",
     "text": [
      "New York\n"
     ]
    }
   ],
   "source": [
    "# Storing population at specific coordinates\n",
    "coordinates_data = {\n",
    "    (40.7128, -74.0060): \"New York\",\n",
    "    (34.0522, -118.2437): \"Los Angeles\",\n",
    "    (51.5074, -0.1278): \"London\"\n",
    "}\n",
    "\n",
    "print(coordinates_data[(40.7128, -74.0060)])  \n"
   ]
  },
  {
   "cell_type": "code",
   "execution_count": 65,
   "id": "9c96bc22-a755-4131-9fd7-9a94c81e207e",
   "metadata": {},
   "outputs": [
    {
     "data": {
      "text/plain": [
       "2"
      ]
     },
     "execution_count": 65,
     "metadata": {},
     "output_type": "execute_result"
    }
   ],
   "source": [
    "d1 = {\n",
    "    'name' : 'Gaurav' ,\n",
    "    'age' : 45,\n",
    "    'phone_no' :45,\n",
    "    'address':['aa','bb','cc','dd'],\n",
    "    'info':{\n",
    "          'email' : 'g@gmail.com',\n",
    "          'pin':[1,2,3]\n",
    "    }\n",
    "}\n",
    "d1['info']['pin'][1]"
   ]
  },
  {
   "cell_type": "code",
   "execution_count": 67,
   "id": "7aac8b1f-1fb5-4970-9ad5-21f39d9f8d5f",
   "metadata": {},
   "outputs": [
    {
     "data": {
      "text/plain": [
       "{'name': 'Gaurav', 'age': 45, 'address': ['aa', 'bb', 'cc', 'dd']}"
      ]
     },
     "execution_count": 67,
     "metadata": {},
     "output_type": "execute_result"
    }
   ],
   "source": [
    "# pop()\n",
    "d1 = {\n",
    "    'name' : 'Gaurav' ,\n",
    "    'age' : 45,\n",
    "    'phone_no' :45,\n",
    "    'address':['aa','bb','cc','dd']\n",
    "}\n",
    "\n",
    "d1.pop('phone_no')\n",
    "d1"
   ]
  },
  {
   "cell_type": "code",
   "execution_count": 69,
   "id": "b0e92f6b-004a-4c99-a0d3-e8fb4d2e8b81",
   "metadata": {},
   "outputs": [
    {
     "data": {
      "text/plain": [
       "{'name': 'Gaurav', 'age': 45, 'address': ['aa', 'bb', 'cc', 'dd']}"
      ]
     },
     "execution_count": 69,
     "metadata": {},
     "output_type": "execute_result"
    }
   ],
   "source": [
    "d1\n"
   ]
  },
  {
   "cell_type": "code",
   "execution_count": 93,
   "id": "6af6293d-fdad-4a10-97bc-df2842b3d1cd",
   "metadata": {},
   "outputs": [
    {
     "name": "stdout",
     "output_type": "stream",
     "text": [
      "dict_keys(['name', 'age', 'phone_no', 'address'])\n",
      "dict_values(['Gaurav', 45, 45, ['aa', 'bb', 'cc', 'dd']])\n",
      "dict_items([('name', 'Gaurav'), ('age', 45), ('phone_no', 45), ('address', ['aa', 'bb', 'cc', 'dd'])])\n",
      "<class 'dict_keys'>\n"
     ]
    }
   ],
   "source": [
    "#keys()\n",
    "d1 = {\n",
    "    'name' : 'Gaurav' ,\n",
    "    'age' : 45,\n",
    "    'phone_no' :45,\n",
    "    'address':['aa','bb','cc','dd']\n",
    "}\n",
    "d2 = d1.keys()\n",
    "\n",
    "print(d1.keys())\n",
    "print(d1.values())\n",
    "print(d1.items())\n",
    "print(type(d2))\n"
   ]
  },
  {
   "cell_type": "code",
   "execution_count": 97,
   "id": "57c1d561-6ee1-40ef-a527-835c8b320314",
   "metadata": {},
   "outputs": [
    {
     "data": {
      "text/plain": [
       "{'name': 'Gaurav',\n",
       " 'age': 45,\n",
       " 'phone_no': 45,\n",
       " 'address': ['aa', 'bb', 'cc', 'dd']}"
      ]
     },
     "execution_count": 97,
     "metadata": {},
     "output_type": "execute_result"
    }
   ],
   "source": [
    "#update,copy,clear\n",
    "d1 = {\n",
    "    'name' : 'Gaurav' ,\n",
    "    'age' : 45,\n",
    "    'phone_no' :45,\n",
    "    'address':['aa','bb','cc','dd']\n",
    "}\n",
    "\n",
    "d1"
   ]
  },
  {
   "cell_type": "code",
   "execution_count": 103,
   "id": "3ef018df-3278-4a27-b8c3-0a52550984bc",
   "metadata": {},
   "outputs": [
    {
     "data": {
      "text/plain": [
       "{'name': 'Gaurav Kumar',\n",
       " 'age': 45,\n",
       " 'phone_no': 45,\n",
       " 'address': ['aa', 'bb', 'cc', 'dd']}"
      ]
     },
     "execution_count": 103,
     "metadata": {},
     "output_type": "execute_result"
    }
   ],
   "source": [
    "d1['name'] = 'Gaurav Kumar' # Updating the name\n",
    "d1"
   ]
  },
  {
   "cell_type": "code",
   "execution_count": 105,
   "id": "29c6e16d-a1e4-4982-a280-2b43b727ff9a",
   "metadata": {},
   "outputs": [
    {
     "data": {
      "text/plain": [
       "{'name': 'Gaurav Kumar',\n",
       " 'age': 45,\n",
       " 'phone_no': 45,\n",
       " 'address': ['aa', 'bb', 'cc', 'dd', 'ee']}"
      ]
     },
     "execution_count": 105,
     "metadata": {},
     "output_type": "execute_result"
    }
   ],
   "source": [
    "d1['address'].append('ee') # Adding a new address\n",
    "d1"
   ]
  },
  {
   "cell_type": "code",
   "execution_count": 7,
   "id": "51de25ed-003f-48ea-8d4b-1453d8480268",
   "metadata": {},
   "outputs": [
    {
     "data": {
      "text/plain": [
       "{'name': 'Gaurav', 'age': 45, 'phone_no': 123, 'address': 'ff'}"
      ]
     },
     "execution_count": 7,
     "metadata": {},
     "output_type": "execute_result"
    }
   ],
   "source": [
    "d1['address'] =('ff') # Adding a new address\n",
    "d1"
   ]
  },
  {
   "cell_type": "code",
   "execution_count": 23,
   "id": "be503fc9-b94c-47c0-b4f2-bde248692541",
   "metadata": {},
   "outputs": [
    {
     "data": {
      "text/plain": [
       "{'name': 'Gaurav',\n",
       " 'age': 45,\n",
       " 'phone_no': 45,\n",
       " 'address': {'street': '8787 turnpike',\n",
       "  'City': ['westborough', 'northboro', 'foxboro'],\n",
       "  'state': 'MA'}}"
      ]
     },
     "execution_count": 23,
     "metadata": {},
     "output_type": "execute_result"
    }
   ],
   "source": [
    "d1 = {\n",
    "    'name' : 'Gaurav' ,\n",
    "    'age' : 45,\n",
    "    'phone_no' :45,\n",
    "    'address':\n",
    "        {'street':'8787 turnpike',\n",
    "         'City':['westborough','northboro','foxboro'],\n",
    "         'state':'MA'}\n",
    "}\n",
    "\n",
    "d1\n"
   ]
  },
  {
   "cell_type": "code",
   "execution_count": 29,
   "id": "937d1ea3-ec76-4999-b2c5-f337833017f3",
   "metadata": {},
   "outputs": [
    {
     "data": {
      "text/plain": [
       "'northboro'"
      ]
     },
     "execution_count": 29,
     "metadata": {},
     "output_type": "execute_result"
    }
   ],
   "source": [
    "d1['address']['City'][1]\n"
   ]
  },
  {
   "cell_type": "code",
   "execution_count": 5,
   "id": "ddee5748-23b0-4290-b5b3-7f470b0c9b96",
   "metadata": {},
   "outputs": [
    {
     "data": {
      "text/plain": [
       "[2, 4, 5]"
      ]
     },
     "execution_count": 5,
     "metadata": {},
     "output_type": "execute_result"
    }
   ],
   "source": [
    "l = [2,4,5]\n",
    "l"
   ]
  },
  {
   "cell_type": "code",
   "execution_count": 7,
   "id": "0a2c402b-c463-42ea-8bff-364f79243d9c",
   "metadata": {},
   "outputs": [
    {
     "data": {
      "text/plain": [
       "[2, 4, 5, [34]]"
      ]
     },
     "execution_count": 7,
     "metadata": {},
     "output_type": "execute_result"
    }
   ],
   "source": [
    "l.append([34])\n",
    "\n",
    "l"
   ]
  },
  {
   "cell_type": "code",
   "execution_count": 9,
   "id": "a5b543a0-0f6e-41fe-8075-db68f811980f",
   "metadata": {},
   "outputs": [
    {
     "data": {
      "text/plain": [
       "[34]"
      ]
     },
     "execution_count": 9,
     "metadata": {},
     "output_type": "execute_result"
    }
   ],
   "source": [
    "\n",
    "l.pop()"
   ]
  },
  {
   "cell_type": "code",
   "execution_count": 11,
   "id": "46f5b02b-3dd4-43fb-97a3-479bec98a038",
   "metadata": {},
   "outputs": [
    {
     "data": {
      "text/plain": [
       "[2, 4, 5]"
      ]
     },
     "execution_count": 11,
     "metadata": {},
     "output_type": "execute_result"
    }
   ],
   "source": [
    "l\n"
   ]
  },
  {
   "cell_type": "code",
   "execution_count": 13,
   "id": "0008c11b-7f2e-4f93-9823-536323ecab8a",
   "metadata": {},
   "outputs": [
    {
     "data": {
      "text/plain": [
       "5"
      ]
     },
     "execution_count": 13,
     "metadata": {},
     "output_type": "execute_result"
    }
   ],
   "source": [
    "l.pop()"
   ]
  },
  {
   "cell_type": "code",
   "execution_count": 15,
   "id": "69edae71-35c3-4c75-a64b-8dd099090323",
   "metadata": {},
   "outputs": [
    {
     "data": {
      "text/plain": [
       "[2, 4]"
      ]
     },
     "execution_count": 15,
     "metadata": {},
     "output_type": "execute_result"
    }
   ],
   "source": [
    "l"
   ]
  },
  {
   "cell_type": "code",
   "execution_count": 19,
   "id": "5801cb72-2880-486c-a03a-6a586eda77c5",
   "metadata": {},
   "outputs": [
    {
     "data": {
      "text/plain": [
       "[2, 4, [45], [45]]"
      ]
     },
     "execution_count": 19,
     "metadata": {},
     "output_type": "execute_result"
    }
   ],
   "source": [
    "l.append([45])\n",
    "l"
   ]
  },
  {
   "cell_type": "code",
   "execution_count": 21,
   "id": "c938709d-28bf-4d30-b741-758c26801f31",
   "metadata": {},
   "outputs": [
    {
     "data": {
      "text/plain": [
       "[45]"
      ]
     },
     "execution_count": 21,
     "metadata": {},
     "output_type": "execute_result"
    }
   ],
   "source": [
    "l.pop()"
   ]
  },
  {
   "cell_type": "code",
   "execution_count": 23,
   "id": "149639a4-ec7c-41f8-9b44-e22ac0bf804a",
   "metadata": {},
   "outputs": [
    {
     "data": {
      "text/plain": [
       "[2, 4, [45]]"
      ]
     },
     "execution_count": 23,
     "metadata": {},
     "output_type": "execute_result"
    }
   ],
   "source": [
    "l"
   ]
  },
  {
   "cell_type": "code",
   "execution_count": null,
   "id": "ae196e2a-04a6-4970-b821-894318137ec1",
   "metadata": {},
   "outputs": [],
   "source": []
  }
 ],
 "metadata": {
  "kernelspec": {
   "display_name": "Python [conda env:base] *",
   "language": "python",
   "name": "conda-base-py"
  },
  "language_info": {
   "codemirror_mode": {
    "name": "ipython",
    "version": 3
   },
   "file_extension": ".py",
   "mimetype": "text/x-python",
   "name": "python",
   "nbconvert_exporter": "python",
   "pygments_lexer": "ipython3",
   "version": "3.12.7"
  }
 },
 "nbformat": 4,
 "nbformat_minor": 5
}
