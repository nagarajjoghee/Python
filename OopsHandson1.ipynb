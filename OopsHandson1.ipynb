{
 "cells": [
  {
   "cell_type": "code",
   "execution_count": 19,
   "id": "0af9ac83-e5a9-46c1-961d-864aeac2922a",
   "metadata": {},
   "outputs": [
    {
     "name": "stdout",
     "output_type": "stream",
     "text": [
      "Nagu Joo\n",
      "Nagu Joo\n"
     ]
    }
   ],
   "source": [
    "# a. Inside the A class, create a constructor. Inside the constructor, initialize 2 global variables- name and age.\n",
    "class A:\n",
    "    def __init__(self, name, age):\n",
    "        self.name = name\n",
    "        self.age = age\n",
    "\n",
    "    # b. After initializing the global variables inside the constructor, now create a function\n",
    "    # named 'details' and that function should return the 'name' variable.\n",
    "    def details(self):\n",
    "        return self.name\n",
    "\n",
    "\n",
    "# c. Inside the B class, create a constructor. Inside the constructor, initialize 2 global\n",
    "#    variables- name and id.\n",
    "class B:\n",
    "    def __init__(self, name, id):\n",
    "        self.name = name\n",
    "        self.id = id\n",
    "\n",
    "    # d. After initializing the global variables inside the constructor, now create a function\n",
    "    #    named 'details' and that function should return the 'name' variable.\n",
    "    def details(self):\n",
    "        return self.name\n",
    "\n",
    "\n",
    "# e. The C class should inherit from class A, and B. Inside the class C, create a\n",
    "#    constructor, and inside the constructor, call the constructor of class A.\n",
    "class C(A, B):\n",
    "    def __init__(self, name, age, id):\n",
    "        A.__init__(self, name, age)\n",
    "        #B.__init__(self, name, id)\n",
    "\n",
    "    # f. Now, create a method inside the class C, as get_details, and this function should return the value of the name.\n",
    "    def get_details(self):\n",
    "        return self.name\n",
    "\n",
    "\n",
    "# g. At last, create an object of class C, and with the help of the object, call the get_details method, and print the name.\n",
    "obj = C(\"Nagu Joo\",19 , 1731)\n",
    "print(obj.get_details())  \n",
    "\n",
    "print(obj.details())\n"
   ]
  },
  {
   "cell_type": "code",
   "execution_count": 31,
   "id": "71a8ed64-56bb-4d86-9aaa-e5e29f683d29",
   "metadata": {},
   "outputs": [
    {
     "name": "stdout",
     "output_type": "stream",
     "text": [
      "Welcome to BOFA\n",
      "\n",
      "1. Create Account\n",
      "2. Deposit\n",
      "3. Withdraw\n",
      "4. Check Balance\n",
      "5. Exit\n"
     ]
    },
    {
     "name": "stdin",
     "output_type": "stream",
     "text": [
      "Select an option:  1\n",
      "Enter account number:  11\n",
      "Enter customer name:  nagu joo\n",
      "Enter initial balance (default is 0):  100\n"
     ]
    },
    {
     "name": "stdout",
     "output_type": "stream",
     "text": [
      "Account created successfully\n",
      "\n",
      "1. Create Account\n",
      "2. Deposit\n",
      "3. Withdraw\n",
      "4. Check Balance\n",
      "5. Exit\n"
     ]
    },
    {
     "name": "stdin",
     "output_type": "stream",
     "text": [
      "Select an option:  1\n",
      "Enter account number:  11\n",
      "Enter customer name:  raju\n",
      "Enter initial balance (default is 0):  200\n"
     ]
    },
    {
     "name": "stdout",
     "output_type": "stream",
     "text": [
      "Account created successfully\n",
      "\n",
      "1. Create Account\n",
      "2. Deposit\n",
      "3. Withdraw\n",
      "4. Check Balance\n",
      "5. Exit\n"
     ]
    },
    {
     "name": "stdin",
     "output_type": "stream",
     "text": [
      "Select an option:  5\n"
     ]
    },
    {
     "name": "stdout",
     "output_type": "stream",
     "text": [
      "Exiting the system. Thank you!\n"
     ]
    }
   ],
   "source": [
    "# Create a class called Bank to represent the bank.\n",
    "class Bank:\n",
    "    def __init__(self):\n",
    "        # The bank should manage multiple customer accounts.\n",
    "        self.accounts = {}\n",
    "\n",
    "    # Create an account with account_number, customer_name, and initial_balance\n",
    "    def create_account(self, account_number, customer_name, initial_balance=500):\n",
    "        self.accounts[account_number] = {\n",
    "            'customer_name': customer_name,\n",
    "            'balance': initial_balance\n",
    "        }\n",
    "\n",
    "    # Method to deposit an amount into a specific account\n",
    "    def deposit(self, account_number, amount):\n",
    "        if account_number in self.accounts:\n",
    "            self.accounts[account_number]['balance'] += amount\n",
    "            return f\"Deposited ${amount} to account {account_number}. New balance: ${self.accounts[account_number]['balance']}\"\n",
    "        else:\n",
    "            return \"Account not found\"\n",
    "\n",
    "    # Method to withdraw an amount from a specific account\n",
    "    def withdraw(self, account_number, amount):\n",
    "        if account_number in self.accounts:\n",
    "            if self.accounts[account_number]['balance'] >= amount:\n",
    "                self.accounts[account_number]['balance'] -= amount\n",
    "                return f\"Withdrew ${amount} from account {account_number}. New balance: ${self.accounts[account_number]['balance']}\"\n",
    "            else:\n",
    "                return \"Insufficient funds\"\n",
    "        else:\n",
    "            return \"Account not found\"\n",
    "\n",
    "    # Method to check balance of a specific account\n",
    "    def check_balance(self, account_number):\n",
    "        if account_number in self.accounts:\n",
    "            return f\"Account balance for {account_number}: ${self.accounts[account_number]['balance']}\"\n",
    "        else:\n",
    "            return \"Account not found\"\n",
    "\n",
    "# Simulate the banking system\n",
    "print(\"Welcome to BOFA\")\n",
    "\n",
    "bank = Bank()\n",
    "\n",
    "while True:\n",
    "    print(\"\\n1. Create Account\\n2. Deposit\\n3. Withdraw\\n4. Check Balance\\n5. Exit\")\n",
    "    \n",
    "    option = int(input(\"Select an option: \"))\n",
    "\n",
    "    if option == 1:\n",
    "        account_number = int(input(\"Enter account number: \"))\n",
    "        customer_name = input(\"Enter customer name: \")\n",
    "        initial_balance = float(input(\"Enter initial balance (default is 0): \"))\n",
    "        bank.create_account(account_number, customer_name, initial_balance)\n",
    "        print(\"Account created successfully\")\n",
    "\n",
    "    elif option == 2:\n",
    "        account_number = int(input(\"Enter account number: \"))\n",
    "        amount = float(input(\"Enter deposit amount: \"))\n",
    "        print(bank.deposit(account_number, amount))\n",
    "\n",
    "    elif option == 3:\n",
    "        account_number = int(input(\"Enter account number: \"))\n",
    "        amount = float(input(\"Enter withdrawal amount: \"))\n",
    "        print(bank.withdraw(account_number, amount))\n",
    "\n",
    "    elif option == 4:\n",
    "        account_number = int(input(\"Enter account number: \"))\n",
    "        print(bank.check_balance(account_number))\n",
    "\n",
    "    elif option == 5:\n",
    "        print(\"Exiting the system. Thank you!\")\n",
    "        break\n",
    "\n",
    "    else:\n",
    "          print(\"Invalid option. Please try again.\")\n"
   ]
  },
  {
   "cell_type": "code",
   "execution_count": 29,
   "id": "1f78c84c-935b-498b-bfd0-eb188c0433db",
   "metadata": {},
   "outputs": [
    {
     "name": "stdout",
     "output_type": "stream",
     "text": [
      "Welcome to BOFA\n",
      "\n",
      "1. Create Account\n",
      "2. Deposit\n",
      "3. Withdraw\n",
      "4. Check Balance\n",
      "5. Exit\n"
     ]
    },
    {
     "name": "stdin",
     "output_type": "stream",
     "text": [
      "Select an option:  4\n",
      "Enter account number:  345\n"
     ]
    },
    {
     "name": "stdout",
     "output_type": "stream",
     "text": [
      "Account not found\n",
      "\n",
      "1. Create Account\n",
      "2. Deposit\n",
      "3. Withdraw\n",
      "4. Check Balance\n",
      "5. Exit\n"
     ]
    },
    {
     "name": "stdin",
     "output_type": "stream",
     "text": [
      "Select an option:  1\n",
      "Enter account number:  \n"
     ]
    },
    {
     "ename": "ValueError",
     "evalue": "invalid literal for int() with base 10: ''",
     "output_type": "error",
     "traceback": [
      "\u001b[1;31m---------------------------------------------------------------------------\u001b[0m",
      "\u001b[1;31mValueError\u001b[0m                                Traceback (most recent call last)",
      "Cell \u001b[1;32mIn[29], line 60\u001b[0m\n\u001b[0;32m     57\u001b[0m option \u001b[38;5;241m=\u001b[39m \u001b[38;5;28mint\u001b[39m(\u001b[38;5;28minput\u001b[39m(\u001b[38;5;124m\"\u001b[39m\u001b[38;5;124mSelect an option: \u001b[39m\u001b[38;5;124m\"\u001b[39m))\n\u001b[0;32m     59\u001b[0m \u001b[38;5;28;01mif\u001b[39;00m option \u001b[38;5;241m==\u001b[39m \u001b[38;5;241m1\u001b[39m:\n\u001b[1;32m---> 60\u001b[0m     account_number \u001b[38;5;241m=\u001b[39m \u001b[38;5;28mint\u001b[39m(\u001b[38;5;28minput\u001b[39m(\u001b[38;5;124m\"\u001b[39m\u001b[38;5;124mEnter account number: \u001b[39m\u001b[38;5;124m\"\u001b[39m))\n\u001b[0;32m     61\u001b[0m     customer_name \u001b[38;5;241m=\u001b[39m \u001b[38;5;28minput\u001b[39m(\u001b[38;5;124m\"\u001b[39m\u001b[38;5;124mEnter customer name: \u001b[39m\u001b[38;5;124m\"\u001b[39m)\n\u001b[0;32m     62\u001b[0m     initial_balance \u001b[38;5;241m=\u001b[39m \u001b[38;5;28mfloat\u001b[39m(\u001b[38;5;28minput\u001b[39m(\u001b[38;5;124m\"\u001b[39m\u001b[38;5;124mEnter initial balance (default is 500): \u001b[39m\u001b[38;5;124m\"\u001b[39m))\n",
      "\u001b[1;31mValueError\u001b[0m: invalid literal for int() with base 10: ''"
     ]
    }
   ],
   "source": [
    "class Account:\n",
    "    def __init__(self, account_number, customer_name, initial_balance=500):\n",
    "        self.account_number = account_number\n",
    "        self.customer_name = customer_name\n",
    "        self.balance = initial_balance\n",
    "\n",
    "    def deposit(self, amount):\n",
    "        self.balance += amount\n",
    "        return f\"Deposited ${amount} to account {self.account_number}. New balance: ${self.balance}\"\n",
    "\n",
    "    def withdraw(self, amount):\n",
    "        if self.balance >= amount:\n",
    "            self.balance -= amount\n",
    "            return f\"Withdrew ${amount} from account {self.account_number}. New balance: ${self.balance}\"\n",
    "        else:\n",
    "            return \"Insufficient funds\"\n",
    "\n",
    "    def check_balance(self):\n",
    "        return f\"Account balance for {self.account_number}: ${self.balance}\"\n",
    "\n",
    "\n",
    "class Bank:\n",
    "    def __init__(self):\n",
    "        self.accounts = {}\n",
    "\n",
    "    def create_account(self, account_number, customer_name, initial_balance=500):\n",
    "        account = Account(account_number, customer_name, initial_balance)\n",
    "        self.accounts[account_number] = account\n",
    "        print(f\"Account created for {customer_name} with account number {account_number}\")\n",
    "\n",
    "    def deposit(self, account_number, amount):\n",
    "        if account_number in self.accounts:\n",
    "            return self.accounts[account_number].deposit(amount)\n",
    "        else:\n",
    "            return \"Account not found\"\n",
    "\n",
    "    def withdraw(self, account_number, amount):\n",
    "        if account_number in self.accounts:\n",
    "            return self.accounts[account_number].withdraw(amount)\n",
    "        else:\n",
    "            return \"Account not found\"\n",
    "\n",
    "    def check_balance(self, account_number):\n",
    "        if account_number in self.accounts:\n",
    "            return self.accounts[account_number].check_balance()\n",
    "        else:\n",
    "            return \"Account not found\"\n",
    "\n",
    "\n",
    "print(\"Welcome to BOFA\")\n",
    "\n",
    "bank = Bank()\n",
    "\n",
    "while True:\n",
    "    print(\"\\n1. Create Account\\n2. Deposit\\n3. Withdraw\\n4. Check Balance\\n5. Exit\")\n",
    "    \n",
    "    option = int(input(\"Select an option: \"))\n",
    "\n",
    "    if option == 1:\n",
    "        account_number = int(input(\"Enter account number: \"))\n",
    "        customer_name = input(\"Enter customer name: \")\n",
    "        initial_balance = float(input(\"Enter initial balance (default is 500): \"))\n",
    "        bank.create_account(account_number, customer_name, initial_balance)\n",
    "        print(\"Account created successfully\")\n",
    "\n",
    "    elif option == 2:\n",
    "        account_number = int(input(\"Enter account number: \"))\n",
    "        amount = float(input(\"Enter deposit amount: \"))\n",
    "        print(bank.deposit(account_number, amount))\n",
    "\n",
    "    elif option == 3:\n",
    "        account_number = int(input(\"Enter account number: \"))\n",
    "        amount = float(input(\"Enter withdrawal amount: \"))\n",
    "        print(bank.withdraw(account_number, amount))\n",
    "\n",
    "    elif option == 4:\n",
    "        account_number = int(input(\"Enter account number: \"))\n",
    "        print(bank.check_balance(account_number))\n",
    "\n",
    "    elif option == 5:\n",
    "        print(\"Exiting the system. Thank you!\")\n",
    "        break\n",
    "\n",
    "    else:\n",
    "        print(\"Invalid option try again.......\")\n"
   ]
  },
  {
   "cell_type": "code",
   "execution_count": null,
   "id": "bdc4ad6b-f11d-4e7c-a390-264eeabc9568",
   "metadata": {},
   "outputs": [],
   "source": [
    "\n",
    "\n"
   ]
  },
  {
   "cell_type": "code",
   "execution_count": null,
   "id": "76ed7fc5-75ed-48ef-8d43-6ffbf7d95878",
   "metadata": {},
   "outputs": [],
   "source": []
  }
 ],
 "metadata": {
  "kernelspec": {
   "display_name": "Python [conda env:base] *",
   "language": "python",
   "name": "conda-base-py"
  },
  "language_info": {
   "codemirror_mode": {
    "name": "ipython",
    "version": 3
   },
   "file_extension": ".py",
   "mimetype": "text/x-python",
   "name": "python",
   "nbconvert_exporter": "python",
   "pygments_lexer": "ipython3",
   "version": "3.12.7"
  }
 },
 "nbformat": 4,
 "nbformat_minor": 5
}
