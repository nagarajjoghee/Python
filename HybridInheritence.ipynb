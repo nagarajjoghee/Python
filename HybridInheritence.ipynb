{
 "cells": [
  {
   "cell_type": "code",
   "execution_count": 1,
   "id": "d49c77a7-16de-4d72-ac06-f1cdf21fee59",
   "metadata": {},
   "outputs": [
    {
     "name": "stdout",
     "output_type": "stream",
     "text": [
      "Bat has fur.\n",
      "Bat makes a sound. Bat has fur and can fly.\n",
      "Parrot can fly.\n",
      "Parrot makes a sound.\n",
      "Parrot can fly.\n",
      "dog makes a sound.\n",
      "dog has fur.\n"
     ]
    }
   ],
   "source": [
    "# Base class\n",
    "class Animal:\n",
    "    def __init__(self, name):\n",
    "        self.name = name\n",
    "\n",
    "    def sound(self):\n",
    "        return f\"{self.name} makes a sound.\"\n",
    "\n",
    "# Single inheritance: Mammal inherits from Animal\n",
    "class Mammal(Animal):\n",
    "    def __init__(self, name, has_fur):\n",
    "        Animal.__init__(self, name)  # Explicit call to Animal's __init__\n",
    "        self.has_fur = has_fur\n",
    "\n",
    "    def characteristic(self):\n",
    "        return f\"{self.name} {'has' if self.has_fur else 'does not have'} fur.\"\n",
    "\n",
    "# Single inheritance: Bird inherits from Animal\n",
    "class Bird(Animal):\n",
    "    def __init__(self, name, can_fly):\n",
    "        Animal.__init__(self, name)  # Explicit call to Animal's __init__\n",
    "        self.can_fly = can_fly\n",
    "\n",
    "    def characteristic(self):\n",
    "        return f\"{self.name} {'can' if self.can_fly else 'cannot'} fly.\"\n",
    "\n",
    "# Multiple inheritance: Bat inherits from both Mammal and Bird\n",
    "class Bat(Mammal, Bird):\n",
    "    def __init__(self, name, has_fur, can_fly):\n",
    "        Mammal.__init__(self, name, has_fur)  # Initialize Mammal part\n",
    "        Bird.__init__(self, name, can_fly)    # Initialize Bird part\n",
    "\n",
    "    def description(self):\n",
    "        return (\n",
    "            f\"{self.sound()} {self.name} {'has' if self.has_fur else 'does not have'} fur and \"\n",
    "            f\"{'can' if self.can_fly else 'cannot'} fly.\"\n",
    "        )\n",
    "\n",
    "bat = Bat(\"Bat\", has_fur=True, can_fly=True)\n",
    "\n",
    "print(bat.characteristic())\n",
    "\n",
    "# Outputs\n",
    "print(bat.description())\n",
    "\n",
    "bird = Bird(\"Parrot\",can_fly=True)\n",
    "\n",
    "# Outputs\n",
    "print(bird.characteristic())\n",
    "\n",
    "print(bird.sound())\n",
    "\n",
    "print(bird.characteristic())\n",
    "\n",
    "\n",
    "mammal = Mammal(\"dog\",has_fur=True)\n",
    "\n",
    "print(mammal.sound())\n",
    "\n",
    "print(mammal.characteristic())\n",
    "\n"
   ]
  },
  {
   "cell_type": "code",
   "execution_count": 87,
   "id": "d99fb8fd-1c95-4c34-ab5d-2ed7fcaf3f11",
   "metadata": {},
   "outputs": [
    {
     "name": "stdout",
     "output_type": "stream",
     "text": [
      "crow can fly.\n"
     ]
    }
   ],
   "source": [
    "class MyTest:\n",
    "    def __init__(self,name,can_fly):\n",
    "        self.name  = name\n",
    "        self.can_fly = can_fly\n",
    "        \n",
    "    def Test(self):\n",
    "        return f\"{self.name} {'can' if self.can_fly else 'cannot'} fly.\"\n",
    "\n",
    "class MyTest1(MyTest):\n",
    "    def __init__(self,name,sound,fly):\n",
    "        MyTest.name = name\n",
    "        self.sound = sound\n",
    "        MyTest.can_fly = fly\n",
    "\n",
    "    def habit(self):\n",
    "\n",
    "        return (f\"{self.name} {'can' if self.fly else 'can not'}fly\"\n",
    "            \n",
    "        )\n",
    "\n",
    "    \n",
    "\n",
    "obj  = MyTest('crow',can_fly=True)\n",
    "\n",
    "print(obj.Test())\n",
    "\n",
    "\n",
    "\n"
   ]
  },
  {
   "cell_type": "code",
   "execution_count": 71,
   "id": "7116b959-61a3-47e0-a4f3-52bf38ae166e",
   "metadata": {},
   "outputs": [
    {
     "name": "stdout",
     "output_type": "stream",
     "text": [
      " equal\n"
     ]
    }
   ],
   "source": [
    "print(f\" {'equal' if 10==10 else 'not equal'}\")"
   ]
  },
  {
   "cell_type": "code",
   "execution_count": 105,
   "id": "dd6533c3-6f73-4687-b687-5dd6a42647d9",
   "metadata": {},
   "outputs": [
    {
     "name": "stdout",
     "output_type": "stream",
     "text": [
      "Crow can fly.\n",
      "Duck can fly and makes a squawk sound.\n"
     ]
    }
   ],
   "source": [
    "class MyTest:\n",
    "    def __init__(self, name, can_fly):\n",
    "        self.name = name\n",
    "        self.can_fly = can_fly\n",
    "        \n",
    "    def test(self):\n",
    "        return f\"{self.name} {'can' if self.can_fly else 'cannot'} fly.\"\n",
    "\n",
    "class MyTest1(MyTest):\n",
    "    def __init__(self, name, sound, can_fly):\n",
    "        # Call the parent class constructor using super()\n",
    "        super().__init__(name, can_fly)\n",
    "        self.sound = sound\n",
    "\n",
    "    def habit(self):\n",
    "        return f\"{self.name} {'can' if self.can_fly else 'cannot'} fly and makes a {self.sound} sound.\"\n",
    "\n",
    "# Create objects\n",
    "obj1 = MyTest(\"Crow\", can_fly=True)\n",
    "\n",
    "obj2 = MyTest1(\"Duck\",\"squawk\",can_fly=True)\n",
    "\n",
    "#obj2 = MyTest1(can_fly=True,sound=\"squawk\",name=\"Duck\")\n",
    "\n",
    "# Outputs\n",
    "print(obj1.test()) \n",
    "print(obj2.habit())  \n"
   ]
  },
  {
   "cell_type": "code",
   "execution_count": 3,
   "id": "a0e91c76-5eed-448d-aa75-07eceb560f0a",
   "metadata": {},
   "outputs": [
    {
     "name": "stdout",
     "output_type": "stream",
     "text": [
      "Name: Alice, Age: 30\n",
      "Name: Bob, Age: 20, Student ID: S12345\n",
      "Name: Charlie, Age: 40, Subject: Mathematics\n"
     ]
    }
   ],
   "source": [
    "class Person:\n",
    "    def __init__(self, name, age):\n",
    "        self.name = name\n",
    "        self.age = age\n",
    "\n",
    "    def get_info(self):\n",
    "        return f\"Name: {self.name}, Age: {self.age}\"\n",
    "\n",
    "# Subclass Student that inherits from Person\n",
    "class Student(Person):\n",
    "    def __init__(self, name, age, student_id):\n",
    "        super().__init__(name, age)\n",
    "        self.student_id = student_id\n",
    "\n",
    "    def get_info(self):\n",
    "        return f\"Name: {self.name}, Age: {self.age}, Student ID: {self.student_id}\"\n",
    "\n",
    "# Subclass Teacher that inherits from Person\n",
    "class Teacher(Person):\n",
    "    def __init__(self, name, age, subject):\n",
    "        super().__init__(name, age)\n",
    "        self.subject = subject\n",
    "\n",
    "    def get_info(self):\n",
    "        return f\"Name: {self.name}, Age: {self.age}, Subject: {self.subject}\"\n",
    "\n",
    "# Example usage\n",
    "person = Person(\"Alice\", 30)\n",
    "student = Student(\"Bob\", 20, \"S12345\")\n",
    "teacher = Teacher(\"Charlie\", 40, \"Mathematics\")\n",
    "\n",
    "print(person.get_info())  # Output: Name: Alice, Age: 30\n",
    "print(student.get_info()) # Output: Name: Bob, Age: 20, Student ID: S12345\n",
    "print(teacher.get_info()) # Output: Name: Charlie, Age: 40, Subject: Mathematics\n"
   ]
  },
  {
   "cell_type": "code",
   "execution_count": 3,
   "id": "bd66a2f3-40e4-484d-b399-397e7981a9ce",
   "metadata": {},
   "outputs": [
    {
     "name": "stdout",
     "output_type": "stream",
     "text": [
      "A's init called\n",
      "C's init called\n",
      "B's init called\n",
      "D's init called\n"
     ]
    }
   ],
   "source": [
    "class A:\n",
    "    def __init__(self):\n",
    "        print(\"A's init called\")\n",
    "\n",
    "class B(A):\n",
    "    def __init__(self):\n",
    "        super().__init__()\n",
    "        print(\"B's init called\")\n",
    "\n",
    "class C(A):\n",
    "    def __init__(self):\n",
    "        super().__init__()\n",
    "        print(\"C's init called\")\n",
    "\n",
    "class E(C,B):\n",
    "    def __init__(self):\n",
    "        super().__init__()\n",
    "        print(\"E's init called\")\n",
    "\n",
    "class D(B,C):\n",
    "    def __init__(self):\n",
    "        super().__init__()\n",
    "        print(\"D's init called\")\n",
    "\n",
    "\n",
    "\n",
    "\n",
    "#d = E()\n",
    "\n",
    "f= D() #--> A, C, B , D\n"
   ]
  },
  {
   "cell_type": "code",
   "execution_count": null,
   "id": "bfcf7a22-1835-4fdd-9635-c46b76c6a18f",
   "metadata": {},
   "outputs": [],
   "source": [
    "[D, B, C, A]"
   ]
  }
 ],
 "metadata": {
  "kernelspec": {
   "display_name": "Python [conda env:base] *",
   "language": "python",
   "name": "conda-base-py"
  },
  "language_info": {
   "codemirror_mode": {
    "name": "ipython",
    "version": 3
   },
   "file_extension": ".py",
   "mimetype": "text/x-python",
   "name": "python",
   "nbconvert_exporter": "python",
   "pygments_lexer": "ipython3",
   "version": "3.12.7"
  }
 },
 "nbformat": 4,
 "nbformat_minor": 5
}
