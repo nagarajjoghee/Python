{
 "cells": [
  {
   "cell_type": "markdown",
   "id": "16223b35-4d92-4a45-b019-812d1f143ad5",
   "metadata": {},
   "source": [
    "<h2>OOPS</h2>\n",
    "Object Oriented Programming Language\n",
    "\n",
    "philosophy and from that phiosophy how do we code"
   ]
  },
  {
   "cell_type": "code",
   "execution_count": null,
   "id": "66e2a6af-3475-4d49-9bc8-af64da2ce66c",
   "metadata": {},
   "outputs": [],
   "source": [
    "Procedural -> Functional -> OOPs"
   ]
  },
  {
   "cell_type": "code",
   "execution_count": null,
   "id": "78c84e56-099f-46b3-b255-4bae350dafe9",
   "metadata": {},
   "outputs": [],
   "source": [
    "def sum():\n",
    "    a = 10 + 20\n",
    "    print(a)\n",
    "\n",
    "sum()\n",
    "kudgvjdf\n",
    "bjhfv\n",
    "sum()\n",
    "kjuvifd\n",
    "buygfuv\n",
    "sum()"
   ]
  },
  {
   "cell_type": "markdown",
   "id": "ca28429e-57a4-4350-977b-22127b1318ff",
   "metadata": {},
   "source": [
    "class -> blueprint for creating an object\n",
    "\n",
    "object -> instance of class -> it gives meaning to the class"
   ]
  },
  {
   "cell_type": "code",
   "execution_count": 33,
   "id": "95cdc134-a40f-44cc-84ca-102f0ce3129a",
   "metadata": {},
   "outputs": [
    {
     "name": "stdout",
     "output_type": "stream",
     "text": [
      "23\n"
     ]
    }
   ],
   "source": [
    "class Student:\n",
    "    num = 23\n",
    "\n",
    "\n",
    "obj = Student()#object creation\n",
    "print(obj.num)\n"
   ]
  },
  {
   "cell_type": "code",
   "execution_count": 11,
   "id": "332e3b37-b0f7-4212-a1cc-f92d2e3737de",
   "metadata": {},
   "outputs": [
    {
     "name": "stdout",
     "output_type": "stream",
     "text": [
      "23\n",
      "23\n"
     ]
    }
   ],
   "source": [
    "class Student:\n",
    "    num = 23\n",
    "\n",
    "obj1 = Student()\n",
    "print(obj1.num)\n",
    "\n",
    "obj2 = Student()\n",
    "print(obj2.num)\n"
   ]
  },
  {
   "cell_type": "code",
   "execution_count": 17,
   "id": "ef83ae6d-319a-448b-9bd9-61592124e72b",
   "metadata": {},
   "outputs": [
    {
     "name": "stdout",
     "output_type": "stream",
     "text": [
      "Hello\n"
     ]
    },
    {
     "data": {
      "text/plain": [
       "40"
      ]
     },
     "execution_count": 17,
     "metadata": {},
     "output_type": "execute_result"
    }
   ],
   "source": [
    "class Student:\n",
    "    num = 23\n",
    "    \n",
    "    def printMe1(self):\n",
    "        print(\"Hello\")\n",
    "        self.r = 40;\n",
    "\n",
    "stu = Student()\n",
    "stu.printMe1()\n",
    "stu.num\n",
    "stu.r"
   ]
  },
  {
   "cell_type": "code",
   "execution_count": 19,
   "id": "d42fce99-162f-4b12-9b3c-fad30d0b7092",
   "metadata": {},
   "outputs": [
    {
     "name": "stdout",
     "output_type": "stream",
     "text": [
      "Hello\n"
     ]
    }
   ],
   "source": [
    "def printMe(a):\n",
    "    print(\"Hello\")\n",
    "\n",
    "printMe(10)"
   ]
  },
  {
   "cell_type": "code",
   "execution_count": 23,
   "id": "d92f48ba-4972-43b7-94a7-f21186eb0eff",
   "metadata": {},
   "outputs": [
    {
     "name": "stdout",
     "output_type": "stream",
     "text": [
      "Hello Nagu\n"
     ]
    }
   ],
   "source": [
    "class Student:\n",
    "    num = 23\n",
    "    \n",
    "    def printMe1(self,name):\n",
    "        print(\"Hello \" + name)\n",
    "\n",
    "obj = Student()\n",
    "obj.printMe1(\"Nagu\")"
   ]
  },
  {
   "cell_type": "code",
   "execution_count": 24,
   "id": "fcc6118a-f6bc-44d7-9de6-23f6d2c731c6",
   "metadata": {},
   "outputs": [
    {
     "name": "stdout",
     "output_type": "stream",
     "text": [
      "Helloajay\n"
     ]
    }
   ],
   "source": [
    "def printMe(a):\n",
    "    print(\"Hello\" + a)\n",
    "\n",
    "printMe(\"ajay\")"
   ]
  },
  {
   "cell_type": "markdown",
   "id": "7e07fb4b-4a96-47cc-a130-67c1214c1407",
   "metadata": {},
   "source": [
    "<h2>Scope</h2>"
   ]
  },
  {
   "cell_type": "code",
   "execution_count": 50,
   "id": "b80e377a-4085-4c3d-93ea-a969bb71df58",
   "metadata": {},
   "outputs": [
    {
     "name": "stdout",
     "output_type": "stream",
     "text": [
      "12\n",
      "The value is  12\n",
      "This is a function\n",
      "45\n",
      "The value is 45\n"
     ]
    },
    {
     "data": {
      "text/plain": [
       "45"
      ]
     },
     "execution_count": 50,
     "metadata": {},
     "output_type": "execute_result"
    }
   ],
   "source": [
    "class Demo:\n",
    "    var = 12#global scope\n",
    "\n",
    "    def printMe(self):\n",
    "        self.num = 45 #local scope\n",
    "        print(\"The value is \",self.var)\n",
    "        print(\"This is a function\")\n",
    "        print(self.num)\n",
    "\n",
    "    def sum(self):\n",
    "       print(\"The value is\",self.num)\n",
    "\n",
    "obj = Demo()\n",
    "print(obj.var)\n",
    "obj.printMe()\n",
    "obj.sum()\n",
    "obj.num"
   ]
  },
  {
   "cell_type": "code",
   "execution_count": 59,
   "id": "368e2dd2-ab6c-4712-b8cd-e12160e34c6b",
   "metadata": {},
   "outputs": [
    {
     "name": "stdout",
     "output_type": "stream",
     "text": [
      "Sum function\n",
      "46\n"
     ]
    }
   ],
   "source": [
    "class Demo:\n",
    "    num1 = 12\n",
    "\n",
    "    def sum(self):\n",
    "        num2 = 34 #local scope\n",
    "        print(\"Sum function\")\n",
    "        self.res = self.num1 + num2\n",
    "        \n",
    "    def printResult(self):\n",
    "        print(self.res)\n",
    "\n",
    "    def \n",
    "\n",
    "obj = Demo()\n",
    "obj.num1\n",
    "obj.sum()\n",
    "obj.printResult()"
   ]
  },
  {
   "cell_type": "code",
   "execution_count": 68,
   "id": "0db78721-7cf7-4eee-ae2c-eed056c911c0",
   "metadata": {},
   "outputs": [
    {
     "name": "stdout",
     "output_type": "stream",
     "text": [
      "The per is  90.0\n",
      "90.0\n"
     ]
    }
   ],
   "source": [
    "class Result:\n",
    "    var = 10\n",
    "    def percentage(self,marks):\n",
    "        var2 = 45\n",
    "        self.per12 = (marks/500)*100\n",
    "        print(\"The per is \",self.per12)\n",
    "\n",
    "    def printResult(self):\n",
    "        print(per12)\n",
    "\n",
    "\n",
    "obj = Result()\n",
    "obj.percentage(450)\n",
    "obj.printResult()\n",
    "        "
   ]
  },
  {
   "cell_type": "code",
   "execution_count": 7,
   "id": "bdf5c7db-b5fa-4457-868e-d908055c53a7",
   "metadata": {},
   "outputs": [
    {
     "name": "stdout",
     "output_type": "stream",
     "text": [
      "the object is  <__main__.Player object at 0x000002512831ADB0>\n",
      "The self is  <__main__.Player object at 0x000002512831ADB0>\n"
     ]
    },
    {
     "data": {
      "text/plain": [
       "1"
      ]
     },
     "execution_count": 7,
     "metadata": {},
     "output_type": "execute_result"
    }
   ],
   "source": [
    "class Player:\n",
    "    level = 1\n",
    "\n",
    "    def play(self):\n",
    "        print(\"The self is \",self)\n",
    "\n",
    "\n",
    "obj  = Player()\n",
    "print(\"the object is \",obj)\n",
    "obj.play()"
   ]
  },
  {
   "cell_type": "code",
   "execution_count": 77,
   "id": "6008e488-5a31-45a5-ba58-14ceeb3032ab",
   "metadata": {},
   "outputs": [
    {
     "name": "stdout",
     "output_type": "stream",
     "text": [
      "<__main__.Player object at 0x000001DB0DB47550>\n",
      "The self is  <__main__.Player object at 0x000001DB0DB47550>\n",
      "<__main__.Player object at 0x000001DB0D9AFC10>\n",
      "The self is  <__main__.Player object at 0x000001DB0D9AFC10>\n",
      "<__main__.Player object at 0x000001DB0D984FD0>\n",
      "The self is  <__main__.Player object at 0x000001DB0D984FD0>\n"
     ]
    }
   ],
   "source": [
    "class Player:\n",
    "    level = 1\n",
    "\n",
    "    def play(abc):\n",
    "        print(\"The self is \",abc)\n",
    "\n",
    "obj1 = Player()\n",
    "print(obj1)\n",
    "obj1.play()\n",
    "\n",
    "obj2 = Player()\n",
    "print(obj2)\n",
    "obj2.play()\n",
    "\n",
    "obj3 = Player()\n",
    "print(obj3)\n",
    "obj3.play()\n",
    "\n"
   ]
  },
  {
   "cell_type": "markdown",
   "id": "079e7e55-5dce-4ef1-8659-9b420e89ed12",
   "metadata": {},
   "source": [
    "<h2>Constructor</h2>\n",
    "a self involking function\n",
    "\n",
    "executes itself as soon as we create an object"
   ]
  },
  {
   "cell_type": "code",
   "execution_count": 83,
   "id": "bd86f574-87ca-4cf3-893c-76dd4c345e05",
   "metadata": {},
   "outputs": [
    {
     "name": "stdout",
     "output_type": "stream",
     "text": [
      "hello\n",
      "Print fun\n"
     ]
    }
   ],
   "source": [
    "class Student:\n",
    "\n",
    "    def __init__(self):\n",
    "        print(\"hello\")\n",
    "\n",
    "    def printMe(self):\n",
    "        print(\"Print fun\")\n",
    "        \n",
    "obj = Student()\n",
    "# obj.__init__()\n",
    "obj.printMe()"
   ]
  },
  {
   "cell_type": "code",
   "execution_count": 90,
   "id": "362fceed-be2d-42e7-b748-5f5b4d69714e",
   "metadata": {},
   "outputs": [
    {
     "name": "stdout",
     "output_type": "stream",
     "text": [
      "The per is  90.0\n",
      "90.0\n"
     ]
    }
   ],
   "source": [
    "class Result:\n",
    "\n",
    "    def __init__(self):\n",
    "        self.m = 450\n",
    "\n",
    "    def percentage(self):\n",
    "        self.per12 = (self.m/500)*100\n",
    "        print(\"The per is \",self.per12)\n",
    "\n",
    "    def printResult(self):\n",
    "        print(self.per12)\n",
    "\n",
    "obj = Result()\n",
    "obj.percentage()\n",
    "obj.printResult()"
   ]
  },
  {
   "cell_type": "code",
   "execution_count": 25,
   "id": "fa385eee-5a89-4451-84f4-6887f767769b",
   "metadata": {},
   "outputs": [
    {
     "name": "stdout",
     "output_type": "stream",
     "text": [
      "The per is  90.0\n",
      "90.0\n"
     ]
    }
   ],
   "source": [
    "class Result:\n",
    "    var = 10\n",
    "    def percentage(self,marks):\n",
    "        var2 = 45\n",
    "        self.per12 = (marks/500)*100\n",
    "        print(\"The per is \",self.per12)\n",
    "\n",
    "    def printResult(self):\n",
    "        print(self.per12)\n",
    "\n",
    "\n",
    "obj = Result()\n",
    "obj.percentage(450)\n",
    "obj.printResult()"
   ]
  },
  {
   "cell_type": "code",
   "execution_count": null,
   "id": "cb5ffe8d-d6f3-45fc-b986-2287301fc7fb",
   "metadata": {},
   "outputs": [],
   "source": []
  }
 ],
 "metadata": {
  "kernelspec": {
   "display_name": "Python [conda env:base] *",
   "language": "python",
   "name": "conda-base-py"
  },
  "language_info": {
   "codemirror_mode": {
    "name": "ipython",
    "version": 3
   },
   "file_extension": ".py",
   "mimetype": "text/x-python",
   "name": "python",
   "nbconvert_exporter": "python",
   "pygments_lexer": "ipython3",
   "version": "3.12.7"
  }
 },
 "nbformat": 4,
 "nbformat_minor": 5
}
