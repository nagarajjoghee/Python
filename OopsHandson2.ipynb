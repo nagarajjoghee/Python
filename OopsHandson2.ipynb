{
 "cells": [
  {
   "cell_type": "code",
   "execution_count": 41,
   "id": "c4d62a29-8dfb-4ad0-84d1-b35057dce310",
   "metadata": {},
   "outputs": [
    {
     "name": "stdout",
     "output_type": "stream",
     "text": [
      "{123: {'customer_name': 'nagu', 'balance': 100}}\n",
      "dict_keys([123])\n",
      "dict_values([{'customer_name': 'nagu', 'balance': 100}])\n",
      "dict_items([(123, {'customer_name': 'nagu', 'balance': 100})])\n"
     ]
    }
   ],
   "source": [
    "# Create a class called Bank to represent the bank.\n",
    "class Bank:\n",
    "    def __init__(self):\n",
    "        # The bank should manage multiple customer accounts.\n",
    "        self.accounts = {}\n",
    "\n",
    "    # Create an account with account_number, customer_name, and initial_balance\n",
    "    def create_account(self, account_number, customer_name, initial_balance=500):\n",
    "        self.accounts[account_number] = {\n",
    "            'customer_name': customer_name,\n",
    "            'balance': initial_balance\n",
    "        }\n",
    "\n",
    "\n",
    "\n",
    "obj = Bank()\n",
    "\n",
    "obj.create_account(123,'nagu',100)\n",
    "print(obj.accounts)\n",
    "print(obj.accounts.keys())\n",
    "print(obj.accounts.values())\n",
    "print(obj.accounts.items())"
   ]
  },
  {
   "cell_type": "code",
   "execution_count": null,
   "id": "cbb4dae7-acfa-4d97-acc6-eb2d52e2d013",
   "metadata": {},
   "outputs": [],
   "source": []
  }
 ],
 "metadata": {
  "kernelspec": {
   "display_name": "Python [conda env:base] *",
   "language": "python",
   "name": "conda-base-py"
  },
  "language_info": {
   "codemirror_mode": {
    "name": "ipython",
    "version": 3
   },
   "file_extension": ".py",
   "mimetype": "text/x-python",
   "name": "python",
   "nbconvert_exporter": "python",
   "pygments_lexer": "ipython3",
   "version": "3.12.7"
  }
 },
 "nbformat": 4,
 "nbformat_minor": 5
}
