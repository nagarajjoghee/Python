{
 "cells": [
  {
   "cell_type": "raw",
   "id": "ad22a539-ca1e-4032-a7b0-c42de7bfe7c8",
   "metadata": {},
   "source": [
    "Class and OOPS\n"
   ]
  },
  {
   "cell_type": "code",
   "execution_count": 48,
   "id": "ea1e1414-dde3-4010-a9e5-95c26b2a7a28",
   "metadata": {},
   "outputs": [
    {
     "name": "stdout",
     "output_type": "stream",
     "text": [
      "10\n",
      "Function 1 :  20\n",
      "Global variable v1 val :  10\n",
      "True\n",
      "1120\n",
      "20\n",
      "10\n"
     ]
    }
   ],
   "source": [
    "class Emp():\n",
    "    v1 = 10\n",
    "\n",
    "    def first_fun(self):\n",
    "         self.v2=20\n",
    "         print(\"Function 1 : \", self.v2)\n",
    "         print(\"Global variable v1 val : \",self.v1)\n",
    "         return True\n",
    "\n",
    "    def second_fun(self,ar1,ar2):\n",
    "\n",
    "        a = ar1\n",
    "        b = ar2\n",
    "\n",
    "        add = a+b+self.v2 # if we want to access outside scopr var then use self.var\n",
    "        return add\n",
    "              \n",
    "\n",
    "obj1 = Emp()\n",
    "\n",
    "print(obj1.v1)\n",
    "\n",
    "print(obj1.first_fun())\n",
    "\n",
    "print(obj1.second_fun(500,600))\n",
    "\n",
    "print(obj1.v2)\n",
    "\n",
    "print(Emp.v1)\n"
   ]
  },
  {
   "cell_type": "code",
   "execution_count": 217,
   "id": "e55efdfa-20e7-4216-8bc7-de187d46bd47",
   "metadata": {},
   "outputs": [
    {
     "name": "stdout",
     "output_type": "stream",
     "text": [
      "Welcome To Org\n",
      "##############################################################\n",
      "Reg No : 100  , Age : 40 , Department : Testing \n",
      "IT\n",
      "##############################################################\n",
      "Salary before tax : 105000\n",
      "Salary after tax: 101000\n",
      "Tax detected : 4000\n",
      "##############################################################\n",
      "Employee address : 234 Turnpike Road\n",
      "##############################################################\n",
      "Employee State : MA\n"
     ]
    }
   ],
   "source": [
    "class Employee():\n",
    "    reg_No = 100\n",
    "    age = 40\n",
    "    dept = 'Testing'\n",
    "\n",
    "    address = {\n",
    "        'street' : '234 Turnpike Road',\n",
    "        'city' : 'Westborough',\n",
    "        'state' : 'MA'\n",
    "    }\n",
    "\n",
    "    def __init__(self):\n",
    "\n",
    "        print(\"Welcome To Org\")\n",
    "        self.categ = 'IT'\n",
    "    \n",
    "    def salary(self,bp,allow):\n",
    "\n",
    "        k = bp+allow\n",
    "\n",
    "        print(f\"Salary before tax : {k}\")\n",
    "\n",
    "        self.tax =  4000\n",
    "\n",
    "        final_sal = k-self.tax\n",
    "\n",
    "        return f\"Salary after tax: {final_sal}\"         \n",
    "\n",
    "    \n",
    "obj1 = Employee()\n",
    "print(\"##############################################################\")\n",
    "print(f\"Reg No : {obj1.reg_No}  , Age : {obj1.age} , Department : {obj1.dept} \")\n",
    "\n",
    "print(obj1.categ)\n",
    "print(\"##############################################################\")\n",
    "print(obj1.salary(100000,5000))\n",
    "\n",
    "\n",
    "print(f\"Tax detected : {obj1.tax}\")\n",
    "\n",
    "#print(obj1.address.keys())\n",
    "\n",
    "street = obj1.address.values()\n",
    "state1 = obj1.address.values()\n",
    "street = list(street)\n",
    "state1 = list(state1)\n",
    "\n",
    "street = street[0]\n",
    "print(\"##############################################################\")\n",
    "print(f\"Employee address : {street}\")\n",
    "state1 = state1[2]\n",
    "print(\"##############################################################\")\n",
    "print(f\"Employee State : {state1}\")\n",
    "\n",
    "     "
   ]
  },
  {
   "cell_type": "code",
   "execution_count": 31,
   "id": "8828e509-9426-4857-8eb3-9d62329570a2",
   "metadata": {},
   "outputs": [
    {
     "name": "stdout",
     "output_type": "stream",
     "text": [
      "10\n",
      "first function called then variable called 20\n",
      "20\n",
      "first function called then variable called 20\n"
     ]
    }
   ],
   "source": [
    "class A():\n",
    "    a = 10\n",
    "\n",
    "    def AA(self):\n",
    "        self.a = 20\n",
    "        return f\"first function called then variable called {self.a}\"\n",
    "ob = A()\n",
    "print(ob.a)\n",
    "print(ob.AA())\n",
    "print(ob.a)\n",
    "print(ob.AA())\n"
   ]
  },
  {
   "cell_type": "code",
   "execution_count": null,
   "id": "2263537d-77b2-44a1-87d8-aaf912974fbb",
   "metadata": {},
   "outputs": [],
   "source": [
    "emp4 =  Details()\n",
    "emp4.Details('test',22,'email')"
   ]
  },
  {
   "cell_type": "code",
   "execution_count": 29,
   "id": "8168c968-7794-4578-a980-8e45e175f069",
   "metadata": {},
   "outputs": [
    {
     "name": "stdout",
     "output_type": "stream",
     "text": [
      "<class 'int'>\n"
     ]
    }
   ],
   "source": [
    "var = 5\n",
    "\n",
    "print(type(var))"
   ]
  },
  {
   "cell_type": "code",
   "execution_count": null,
   "id": "4b95eb27-3ac7-4643-88c6-2038430e3a75",
   "metadata": {},
   "outputs": [],
   "source": []
  }
 ],
 "metadata": {
  "kernelspec": {
   "display_name": "Python [conda env:base] *",
   "language": "python",
   "name": "conda-base-py"
  },
  "language_info": {
   "codemirror_mode": {
    "name": "ipython",
    "version": 3
   },
   "file_extension": ".py",
   "mimetype": "text/x-python",
   "name": "python",
   "nbconvert_exporter": "python",
   "pygments_lexer": "ipython3",
   "version": "3.12.7"
  }
 },
 "nbformat": 4,
 "nbformat_minor": 5
}
