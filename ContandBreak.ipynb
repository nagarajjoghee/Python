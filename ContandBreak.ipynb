{
 "cells": [
  {
   "cell_type": "raw",
   "id": "bb2f3868-5cff-4506-8ca4-d0788575d47e",
   "metadata": {},
   "source": [
    "Break and Continue"
   ]
  },
  {
   "cell_type": "code",
   "execution_count": null,
   "id": "fdf6ca4f-2ae0-45f8-bdf3-3367ff10e1c5",
   "metadata": {},
   "outputs": [],
   "source": [
    "li = [11,22,33,\"apple\",5,56,34,21]\n",
    "\n",
    "for abc in li:\n",
    "    if abc == \"apple\":\n",
    "        print(\"Item found\")\n",
    "        break\n",
    "\n",
    "    print(abc)\n",
    "    \n",
    "print(\"Outside\")     "
   ]
  }
 ],
 "metadata": {
  "kernelspec": {
   "display_name": "Python [conda env:base] *",
   "language": "python",
   "name": "conda-base-py"
  },
  "language_info": {
   "codemirror_mode": {
    "name": "ipython",
    "version": 3
   },
   "file_extension": ".py",
   "mimetype": "text/x-python",
   "name": "python",
   "nbconvert_exporter": "python",
   "pygments_lexer": "ipython3",
   "version": "3.12.7"
  }
 },
 "nbformat": 4,
 "nbformat_minor": 5
}
