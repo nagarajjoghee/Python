{
 "cells": [
  {
   "cell_type": "markdown",
   "id": "ad442038-7979-4d09-a13c-b7c4785e4e56",
   "metadata": {},
   "source": [
    "Python Basics"
   ]
  },
  {
   "cell_type": "code",
   "execution_count": 10,
   "id": "0e62b37c-a067-4ea4-8338-1b2081adcdaf",
   "metadata": {
    "scrolled": true
   },
   "outputs": [
    {
     "name": "stdout",
     "output_type": "stream",
     "text": [
      "Nagu\n"
     ]
    }
   ],
   "source": [
    "# Print comments\n",
    "\"\"\"\n",
    "This is to print\n",
    "\"\"\"\n",
    "\n",
    "print (\"Nagu\")\n"
   ]
  },
  {
   "cell_type": "code",
   "execution_count": 18,
   "id": "f47e99fc-b573-439b-952a-b1d0f37214b7",
   "metadata": {},
   "outputs": [
    {
     "data": {
      "text/plain": [
       "4"
      ]
     },
     "execution_count": 18,
     "metadata": {},
     "output_type": "execute_result"
    }
   ],
   "source": [
    "str = \"Nagu\"\n",
    "len(str)"
   ]
  },
  {
   "cell_type": "code",
   "execution_count": 30,
   "id": "5669fd21-d5ea-4c46-bc81-2bed08698d76",
   "metadata": {},
   "outputs": [
    {
     "name": "stdout",
     "output_type": "stream",
     "text": [
      "('a', 3, 'r', 't', 6)\n"
     ]
    }
   ],
   "source": [
    "tup = ('a',3,'r','t',6)\n",
    "\n",
    "print(tup)"
   ]
  },
  {
   "cell_type": "code",
   "execution_count": 32,
   "id": "584949ae-9eb7-413c-806b-c38c3ca89656",
   "metadata": {},
   "outputs": [
    {
     "data": {
      "text/plain": [
       "(2, 3, 4, 5, 2, 3, 4, 5)"
      ]
     },
     "execution_count": 32,
     "metadata": {},
     "output_type": "execute_result"
    }
   ],
   "source": [
    "t = (2,3,4,5)\n",
    "\n",
    "t*2"
   ]
  },
  {
   "cell_type": "code",
   "execution_count": 34,
   "id": "c40b37c5-b1b0-4aa9-b445-c60ee463dcc3",
   "metadata": {},
   "outputs": [
    {
     "data": {
      "text/plain": [
       "tuple"
      ]
     },
     "execution_count": 34,
     "metadata": {},
     "output_type": "execute_result"
    }
   ],
   "source": [
    "type(tup)\n"
   ]
  },
  {
   "cell_type": "code",
   "execution_count": 36,
   "id": "20c015ff-cd91-4378-b49f-507e9ecd0721",
   "metadata": {},
   "outputs": [
    {
     "data": {
      "text/plain": [
       "'a'"
      ]
     },
     "execution_count": 36,
     "metadata": {},
     "output_type": "execute_result"
    }
   ],
   "source": [
    "tup[0]"
   ]
  },
  {
   "cell_type": "code",
   "execution_count": 38,
   "id": "100a20bd-4319-4329-a73b-198a5f4217af",
   "metadata": {},
   "outputs": [
    {
     "data": {
      "text/plain": [
       "int"
      ]
     },
     "execution_count": 38,
     "metadata": {},
     "output_type": "execute_result"
    }
   ],
   "source": [
    "type(tup[1])"
   ]
  },
  {
   "cell_type": "code",
   "execution_count": 3,
   "id": "69959c34-8b27-47b2-b050-5bb3ae7d4d15",
   "metadata": {},
   "outputs": [
    {
     "name": "stdout",
     "output_type": "stream",
     "text": [
      "3\n"
     ]
    }
   ],
   "source": [
    "true = 3\n",
    "print(true)"
   ]
  },
  {
   "cell_type": "markdown",
   "id": "5ff16a92-0505-4d07-806d-d9efe234e4ec",
   "metadata": {},
   "source": [
    "String Function"
   ]
  },
  {
   "cell_type": "code",
   "execution_count": 6,
   "id": "e27cf1bb-4cde-426d-a130-daed519ce645",
   "metadata": {},
   "outputs": [
    {
     "name": "stdout",
     "output_type": "stream",
     "text": [
      "9\n"
     ]
    }
   ],
   "source": [
    "#String Length\n",
    "s=\"Nagu Raju\"\n",
    "print(len(s))"
   ]
  },
  {
   "cell_type": "code",
   "execution_count": 7,
   "id": "40c58f49-676b-42d7-a942-b47a34053671",
   "metadata": {},
   "outputs": [
    {
     "name": "stdout",
     "output_type": "stream",
     "text": [
      "Nagu \n",
      "Raju\n",
      "N\n",
      "<class 'str'>\n",
      "ujaR ugaN\n",
      "my val : 5\n",
      "NAGU RAJU\n",
      "nagu raju\n",
      "Nagu Raju\n",
      "  Nagu raju  \n",
      "['sanav', 'krish', 'vini']\n",
      "['sanav', 'krish', 'vini']\n",
      "0\n",
      "Nagu, sanav!\n",
      "2\n",
      "2\n",
      "1\n"
     ]
    }
   ],
   "source": [
    "# Sub String\n",
    "s1=\"Nagu Raju\"\n",
    "s2=\"  Nagu Raju  \"\n",
    "s3=\"sanav/krish/vini\"\n",
    "s4=\"joghee\"\n",
    "a=2\n",
    "b=3\n",
    "print(s1[:5])\n",
    "print(s1[5:])\n",
    "print(s1[:+1])\n",
    "print(type(s1[:]))\n",
    "\n",
    "# :: the its order \n",
    "# String reverse\n",
    "print(s1[::-1])\n",
    "\n",
    "# String format\n",
    "print (f\"my val : {a+b}\")\n",
    "\n",
    "# Upper and Lower\n",
    "print (s1.upper())\n",
    "print (s1.lower())\n",
    "\n",
    "#Trim\n",
    "print (s2.strip())\n",
    "\n",
    "# Replace\n",
    "print (s2.replace(\"R\",\"r\")) \n",
    "\n",
    "#Split\n",
    "print (s3.split(\"/\")) \n",
    "\n",
    "print (s3.split(\"/\")) \n",
    "\n",
    "\n",
    "#FInd String\n",
    "print (s4.find('jo')) \n",
    "\n",
    "\n",
    "# Capitalize \n",
    "\n",
    "text = \"Nagu, sanav!\"\n",
    "capitalized_text = text.capitalize()\n",
    "\n",
    "print(capitalized_text)  \n",
    "\n",
    "# Count\n",
    "text = \"Hey, Nagu! Nagu is cool!\"\n",
    "count = text.count(\"o\")\n",
    "count1 = text.count(\"Nagu\")\n",
    "count3 = text.count(\"cool\")\n",
    "print(count) \n",
    "print(count1)\n",
    "print(count3)\n",
    "\n",
    "\n",
    "\n",
    "\n"
   ]
  },
  {
   "cell_type": "code",
   "execution_count": 92,
   "id": "3aef0aee-e460-4015-8c1d-f3085fcdea8c",
   "metadata": {},
   "outputs": [
    {
     "name": "stdout",
     "output_type": "stream",
     "text": [
      "!dlrow ,olleh\n",
      "hello, world!hai\n"
     ]
    }
   ],
   "source": [
    "text = \"hello, world!\"\n",
    "text1 = \"hai\"\n",
    "reversed_text = \"\"\n",
    "newtest =\"\"\n",
    "\n",
    "for char in text:\n",
    "    reversed_text = char + reversed_text\n",
    "    newtest = text + text1\n",
    "\n",
    "print(reversed_text)  \n",
    "\n",
    "print(newtest) \n"
   ]
  },
  {
   "cell_type": "code",
   "execution_count": 31,
   "id": "1016f2f3-0724-4e7e-b457-db428abfdb0c",
   "metadata": {},
   "outputs": [
    {
     "data": {
      "text/plain": [
       "0"
      ]
     },
     "execution_count": 31,
     "metadata": {},
     "output_type": "execute_result"
    }
   ],
   "source": [
    "s4=\"joghee\"\n",
    "\n",
    "#FInd index\n",
    "s4.find('jo')\n"
   ]
  },
  {
   "cell_type": "code",
   "execution_count": 27,
   "id": "2842a4f7-b47d-4e2a-9aef-d49853c93e5c",
   "metadata": {},
   "outputs": [
    {
     "data": {
      "text/plain": [
       "23"
      ]
     },
     "execution_count": 27,
     "metadata": {},
     "output_type": "execute_result"
    }
   ],
   "source": [
    "int(\"23\")\n",
    "    "
   ]
  },
  {
   "cell_type": "code",
   "execution_count": 33,
   "id": "d03734db-70fa-4cb6-bf77-51ec0ce1bf5f",
   "metadata": {},
   "outputs": [
    {
     "ename": "ValueError",
     "evalue": "invalid literal for int() with base 10: 'nagu'",
     "output_type": "error",
     "traceback": [
      "\u001b[1;31m---------------------------------------------------------------------------\u001b[0m",
      "\u001b[1;31mValueError\u001b[0m                                Traceback (most recent call last)",
      "Cell \u001b[1;32mIn[33], line 1\u001b[0m\n\u001b[1;32m----> 1\u001b[0m \u001b[38;5;28mint\u001b[39m(\u001b[38;5;124m\"\u001b[39m\u001b[38;5;124mnagu\u001b[39m\u001b[38;5;124m\"\u001b[39m)\n",
      "\u001b[1;31mValueError\u001b[0m: invalid literal for int() with base 10: 'nagu'"
     ]
    }
   ],
   "source": [
    "int(\"nagu\")"
   ]
  },
  {
   "cell_type": "code",
   "execution_count": 35,
   "id": "2c338b12-750c-4ded-9ff5-888fd27a9507",
   "metadata": {},
   "outputs": [
    {
     "data": {
      "text/plain": [
       "34.66"
      ]
     },
     "execution_count": 35,
     "metadata": {},
     "output_type": "execute_result"
    }
   ],
   "source": [
    "float('34.66')"
   ]
  },
  {
   "cell_type": "code",
   "execution_count": 37,
   "id": "13a69a31-7099-4025-89c6-8b1d6780f162",
   "metadata": {},
   "outputs": [
    {
     "data": {
      "text/plain": [
       "'23'"
      ]
     },
     "execution_count": 37,
     "metadata": {},
     "output_type": "execute_result"
    }
   ],
   "source": [
    "str(23)"
   ]
  },
  {
   "cell_type": "code",
   "execution_count": 39,
   "id": "46b79d8d-246f-4e2a-bb88-8a5610d795cf",
   "metadata": {},
   "outputs": [
    {
     "data": {
      "text/plain": [
       "1"
      ]
     },
     "execution_count": 39,
     "metadata": {},
     "output_type": "execute_result"
    }
   ],
   "source": [
    "5%2\n"
   ]
  },
  {
   "cell_type": "code",
   "execution_count": 45,
   "id": "54d9d701-d5ea-4b66-8bf0-4bd354af9c99",
   "metadata": {},
   "outputs": [
    {
     "data": {
      "text/plain": [
       "4"
      ]
     },
     "execution_count": 45,
     "metadata": {},
     "output_type": "execute_result"
    }
   ],
   "source": [
    "25%7\n"
   ]
  },
  {
   "cell_type": "code",
   "execution_count": 49,
   "id": "04662e44-f0df-47d5-a41c-37486bf29f6e",
   "metadata": {},
   "outputs": [
    {
     "data": {
      "text/plain": [
       "10000"
      ]
     },
     "execution_count": 49,
     "metadata": {},
     "output_type": "execute_result"
    }
   ],
   "source": [
    "\n",
    "10**4\n"
   ]
  },
  {
   "cell_type": "code",
   "execution_count": 51,
   "id": "b540b5c3-f16b-4451-8c3c-eb799c11cb66",
   "metadata": {},
   "outputs": [
    {
     "data": {
      "text/plain": [
       "False"
      ]
     },
     "execution_count": 51,
     "metadata": {},
     "output_type": "execute_result"
    }
   ],
   "source": [
    "9>12<2"
   ]
  },
  {
   "cell_type": "code",
   "execution_count": 53,
   "id": "a7cd5e2e-77e5-4a9d-9cb1-2526fb759887",
   "metadata": {},
   "outputs": [
    {
     "data": {
      "text/plain": [
       "False"
      ]
     },
     "execution_count": 53,
     "metadata": {},
     "output_type": "execute_result"
    }
   ],
   "source": [
    "45==\"45\""
   ]
  },
  {
   "cell_type": "code",
   "execution_count": 61,
   "id": "5c8e3723-77b6-40ea-b672-58d45eb5f6c5",
   "metadata": {},
   "outputs": [],
   "source": [
    "lis =[12.23,45,'hello',34]"
   ]
  },
  {
   "cell_type": "code",
   "execution_count": 63,
   "id": "579ef025-26cb-46fd-81bc-8cd92172403d",
   "metadata": {},
   "outputs": [
    {
     "name": "stdout",
     "output_type": "stream",
     "text": [
      "[12.23, 45, 'hello', 34]\n"
     ]
    }
   ],
   "source": [
    "print(lis)"
   ]
  },
  {
   "cell_type": "code",
   "execution_count": 75,
   "id": "c6ea2957-d463-4196-84a5-6463fba3160e",
   "metadata": {},
   "outputs": [
    {
     "data": {
      "text/plain": [
       "[12.23, 45, 'hello', 34]"
      ]
     },
     "execution_count": 75,
     "metadata": {},
     "output_type": "execute_result"
    }
   ],
   "source": [
    "lis[::]"
   ]
  },
  {
   "cell_type": "code",
   "execution_count": 77,
   "id": "1d7ad887-f8f0-431b-9ba7-9760a0a4e91b",
   "metadata": {},
   "outputs": [
    {
     "data": {
      "text/plain": [
       "34"
      ]
     },
     "execution_count": 77,
     "metadata": {},
     "output_type": "execute_result"
    }
   ],
   "source": [
    "lis.pop()\n"
   ]
  },
  {
   "cell_type": "code",
   "execution_count": 85,
   "id": "a8e085ab-7d3d-4a6e-a79b-b3a375740061",
   "metadata": {},
   "outputs": [
    {
     "name": "stdout",
     "output_type": "stream",
     "text": [
      "[12.23, 45, 'hello', [34, 78, 89.77], [34, 78, 89.77], [34, 78, 89.77], [34, 78, 89.77]]\n"
     ]
    }
   ],
   "source": [
    "lis1 = [34,78,89.77]\n",
    "\n",
    "lis.append(lis1)\n",
    "\n",
    "print(lis)"
   ]
  },
  {
   "cell_type": "code",
   "execution_count": 87,
   "id": "befcc1cb-44e2-438c-811d-28e7e94b1655",
   "metadata": {},
   "outputs": [
    {
     "data": {
      "text/plain": [
       "[34, 78, 89.77]"
      ]
     },
     "execution_count": 87,
     "metadata": {},
     "output_type": "execute_result"
    }
   ],
   "source": [
    "lis.pop()"
   ]
  },
  {
   "cell_type": "code",
   "execution_count": 89,
   "id": "9068e23a-d77f-4d11-aeda-f02e1b980644",
   "metadata": {},
   "outputs": [
    {
     "data": {
      "text/plain": [
       "[12.23, 45, 'hello', [34, 78, 89.77], [34, 78, 89.77], [34, 78, 89.77]]"
      ]
     },
     "execution_count": 89,
     "metadata": {},
     "output_type": "execute_result"
    }
   ],
   "source": [
    "lis"
   ]
  },
  {
   "cell_type": "code",
   "execution_count": 93,
   "id": "41291309-5a3f-47e7-8c6c-842d0e4f587d",
   "metadata": {},
   "outputs": [
    {
     "data": {
      "text/plain": [
       "77"
      ]
     },
     "execution_count": 93,
     "metadata": {},
     "output_type": "execute_result"
    }
   ],
   "source": [
    "tup = (12.34,55,67,78,(23,55,77))\n",
    "tup[4][-1]"
   ]
  },
  {
   "cell_type": "code",
   "execution_count": 97,
   "id": "b48adea4-ccb8-42b0-bbba-31209c1c94f4",
   "metadata": {},
   "outputs": [
    {
     "data": {
      "text/plain": [
       "1"
      ]
     },
     "execution_count": 97,
     "metadata": {},
     "output_type": "execute_result"
    }
   ],
   "source": [
    "tup = (12.34,55,67,78,77)\n",
    "\n",
    "tup.index(55)\n",
    "\n"
   ]
  },
  {
   "cell_type": "code",
   "execution_count": 101,
   "id": "8eeb6c63-e414-489c-9a3a-c08c37c4b969",
   "metadata": {},
   "outputs": [
    {
     "name": "stdout",
     "output_type": "stream",
     "text": [
      "1\n",
      "2\n",
      "3\n",
      "4\n",
      "5\n",
      "6\n",
      "7\n",
      "8\n",
      "9\n"
     ]
    }
   ],
   "source": [
    "i=1\n",
    "while i<10:\n",
    "    print(i)\n",
    "    i+=1\n",
    "    \n"
   ]
  },
  {
   "cell_type": "code",
   "execution_count": 103,
   "id": "9c4258f9-0d92-464f-b9d4-fb67418934f5",
   "metadata": {},
   "outputs": [
    {
     "name": "stdout",
     "output_type": "stream",
     "text": [
      "n\n",
      "a\n",
      "g\n",
      "u\n"
     ]
    }
   ],
   "source": [
    "for  i in \"nagu\":\n",
    "    print(i)"
   ]
  },
  {
   "cell_type": "code",
   "execution_count": 107,
   "id": "74338560-c3dd-48e9-a52d-2097fbd5a0ad",
   "metadata": {},
   "outputs": [
    {
     "name": "stdout",
     "output_type": "stream",
     "text": [
      "40\n",
      "34\n",
      "50\n",
      "70\n"
     ]
    }
   ],
   "source": [
    "s = {34,50,40,70}\n",
    "for  i in s:\n",
    "    print(i)"
   ]
  },
  {
   "cell_type": "code",
   "execution_count": null,
   "id": "cbc9d8b6-9100-4afc-9b06-983dba01f424",
   "metadata": {},
   "outputs": [],
   "source": []
  }
 ],
 "metadata": {
  "kernelspec": {
   "display_name": "Python [conda env:base] *",
   "language": "python",
   "name": "conda-base-py"
  },
  "language_info": {
   "codemirror_mode": {
    "name": "ipython",
    "version": 3
   },
   "file_extension": ".py",
   "mimetype": "text/x-python",
   "name": "python",
   "nbconvert_exporter": "python",
   "pygments_lexer": "ipython3",
   "version": "3.12.7"
  }
 },
 "nbformat": 4,
 "nbformat_minor": 5
}
