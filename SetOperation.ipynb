{
 "cells": [
  {
   "cell_type": "raw",
   "id": "a3057c86-3eab-4079-a05a-a832d4e5cc24",
   "metadata": {},
   "source": [
    "Set\n",
    "unordered ,unchangeable and do not allow duplicates"
   ]
  },
  {
   "cell_type": "code",
   "execution_count": 9,
   "id": "e7c46f96-85a9-4ccb-97db-7b3b33556841",
   "metadata": {},
   "outputs": [
    {
     "data": {
      "text/plain": [
       "{33, 45, 56.78, 90}"
      ]
     },
     "execution_count": 9,
     "metadata": {},
     "output_type": "execute_result"
    }
   ],
   "source": [
    "s1 = {33,45,56.78,90}\n",
    "s1"
   ]
  },
  {
   "cell_type": "code",
   "execution_count": 21,
   "id": "68d8475f-6d3a-4737-831a-2681309e38fd",
   "metadata": {},
   "outputs": [
    {
     "data": {
      "text/plain": [
       "{1, 2, 3, 4, 6, 7, 8}"
      ]
     },
     "execution_count": 21,
     "metadata": {},
     "output_type": "execute_result"
    }
   ],
   "source": [
    "# Unique value from both tables no duplicates\n",
    "\n",
    "a1= {1,2,3,4}\n",
    "a2 ={6,7,8,2,3}\n",
    "a3 = a1.union(a2)\n",
    "a3"
   ]
  },
  {
   "cell_type": "code",
   "execution_count": 15,
   "id": "e6271db9-6a2a-4860-8c54-01b2dd928a10",
   "metadata": {},
   "outputs": [
    {
     "data": {
      "text/plain": [
       "{2, 3}"
      ]
     },
     "execution_count": 15,
     "metadata": {},
     "output_type": "execute_result"
    }
   ],
   "source": [
    "# Common value from both tables\n",
    "a3 = a1.intersection(a2)\n",
    "a3"
   ]
  },
  {
   "cell_type": "code",
   "execution_count": 1,
   "id": "8f4c39a6-c4dd-4ad9-a725-a803b47ef01f",
   "metadata": {},
   "outputs": [
    {
     "data": {
      "text/plain": [
       "{1, 4}"
      ]
     },
     "execution_count": 1,
     "metadata": {},
     "output_type": "execute_result"
    }
   ],
   "source": [
    "# a-b ledt table exist and right it is not\n",
    "a1= {1,2,3,4}\n",
    "a2 ={6,7,8,2,3}\n",
    "a3 = a1.difference(a2)\n",
    "a3"
   ]
  },
  {
   "cell_type": "code",
   "execution_count": 3,
   "id": "1442b18a-b5e5-4a39-9a21-efbd57996e6e",
   "metadata": {},
   "outputs": [
    {
     "data": {
      "text/plain": [
       "{'Blue', 'aa', 'bb', 'cc'}"
      ]
     },
     "execution_count": 3,
     "metadata": {},
     "output_type": "execute_result"
    }
   ],
   "source": [
    "#add new val\n",
    "s1 = {'aa','bb','cc'}\n",
    "s1.add(\"Blue\")\n",
    "s1"
   ]
  },
  {
   "cell_type": "code",
   "execution_count": 44,
   "id": "90b419cc-3bda-4c59-af34-39995e1b7814",
   "metadata": {},
   "outputs": [
    {
     "data": {
      "text/plain": [
       "{'aa', 'bb', 'blue', 'cc', 'green'}"
      ]
     },
     "execution_count": 44,
     "metadata": {},
     "output_type": "execute_result"
    }
   ],
   "source": [
    "# combain two sets\n",
    "s1 = {'aa','bb','cc'}\n",
    "s2 = {'blue','green'}\n",
    "s1.update(s2)\n",
    "s1\n"
   ]
  },
  {
   "cell_type": "code",
   "execution_count": 46,
   "id": "479e7e3b-356f-4243-8df1-5c74b4963155",
   "metadata": {},
   "outputs": [
    {
     "data": {
      "text/plain": [
       "{'aa', 'bb', 'blue', 'green'}"
      ]
     },
     "execution_count": 46,
     "metadata": {},
     "output_type": "execute_result"
    }
   ],
   "source": [
    "abc = {'aa', 'bb', 'blue', 'cc', 'green'}\n",
    "abc.remove('cc')\n",
    "abc"
   ]
  },
  {
   "cell_type": "raw",
   "id": "40b56c4c-e251-4675-9087-f12933b9d637",
   "metadata": {},
   "source": [
    "JOIN\n"
   ]
  },
  {
   "cell_type": "code",
   "execution_count": 48,
   "id": "881ba80b-6bd9-47b2-81c0-add2795bfaf1",
   "metadata": {},
   "outputs": [
    {
     "name": "stdout",
     "output_type": "stream",
     "text": [
      "{2, 3, 4, 5, 6, 7, 8}\n"
     ]
    }
   ],
   "source": [
    "# union() -> new set with all the values from both the set without repeatation\n",
    "\n",
    "s1 = {2,3,4,5}\n",
    "s2 = {4,5,6,7,8}\n",
    "s3 = s1.union(s2)\n",
    "print(s3)"
   ]
  },
  {
   "cell_type": "code",
   "execution_count": 50,
   "id": "137c266d-6363-4709-ad1f-f9d6aa8134a1",
   "metadata": {},
   "outputs": [
    {
     "name": "stdout",
     "output_type": "stream",
     "text": [
      "{4, 5}\n"
     ]
    }
   ],
   "source": [
    "# intersection()-> common values from both the sets\n",
    "s1 = {2,3,4,5}\n",
    "s2 = {4,5,6,7,8}\n",
    "s3 = s1.intersection(s2)\n",
    "print(s3)"
   ]
  },
  {
   "cell_type": "code",
   "execution_count": 52,
   "id": "7d4f248a-cf5c-4bd9-ad15-f9f003104eda",
   "metadata": {},
   "outputs": [
    {
     "name": "stdout",
     "output_type": "stream",
     "text": [
      "{56, 10, 2, 3}\n"
     ]
    }
   ],
   "source": [
    "# difference()->\n",
    "s1 = {2,3,4,5,10,56}\n",
    "s2 = {4,5,6,7,8}\n",
    "s3 = s1.difference(s2)\n",
    "print(s3)"
   ]
  },
  {
   "cell_type": "code",
   "execution_count": null,
   "id": "bc35fff3-96ca-435b-b113-f0ed8667f60d",
   "metadata": {},
   "outputs": [],
   "source": []
  }
 ],
 "metadata": {
  "kernelspec": {
   "display_name": "Python [conda env:base] *",
   "language": "python",
   "name": "conda-base-py"
  },
  "language_info": {
   "codemirror_mode": {
    "name": "ipython",
    "version": 3
   },
   "file_extension": ".py",
   "mimetype": "text/x-python",
   "name": "python",
   "nbconvert_exporter": "python",
   "pygments_lexer": "ipython3",
   "version": "3.12.7"
  }
 },
 "nbformat": 4,
 "nbformat_minor": 5
}
